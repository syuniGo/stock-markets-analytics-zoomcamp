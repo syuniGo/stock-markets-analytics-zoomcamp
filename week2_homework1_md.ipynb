{
  "nbformat": 4,
  "nbformat_minor": 0,
  "metadata": {
    "colab": {
      "provenance": [],
      "authorship_tag": "ABX9TyMt2GyC2qGFpNPrEaBfUs2P",
      "include_colab_link": true
    },
    "kernelspec": {
      "name": "python3",
      "display_name": "Python 3"
    },
    "language_info": {
      "name": "python"
    }
  },
  "cells": [
    {
      "cell_type": "markdown",
      "metadata": {
        "id": "view-in-github",
        "colab_type": "text"
      },
      "source": [
        "<a href=\"https://colab.research.google.com/github/syuniGo/stock-markets-analytics-zoomcamp/blob/main/week2_homework1_md.ipynb\" target=\"_parent\"><img src=\"https://colab.research.google.com/assets/colab-badge.svg\" alt=\"Open In Colab\"/></a>"
      ]
    },
    {
      "cell_type": "code",
      "execution_count": null,
      "metadata": {
        "colab": {
          "base_uri": "https://localhost:8080/"
        },
        "id": "hDAGexh7pjMf",
        "outputId": "b97bf0db-84e1-4cdb-810c-263882f1006c"
      },
      "outputs": [
        {
          "output_type": "stream",
          "name": "stdout",
          "text": [
            "Requirement already satisfied: yfinance in /usr/local/lib/python3.10/dist-packages (0.2.38)\n",
            "Requirement already satisfied: pandas>=1.3.0 in /usr/local/lib/python3.10/dist-packages (from yfinance) (2.0.3)\n",
            "Requirement already satisfied: numpy>=1.16.5 in /usr/local/lib/python3.10/dist-packages (from yfinance) (1.25.2)\n",
            "Requirement already satisfied: requests>=2.31 in /usr/local/lib/python3.10/dist-packages (from yfinance) (2.31.0)\n",
            "Requirement already satisfied: multitasking>=0.0.7 in /usr/local/lib/python3.10/dist-packages (from yfinance) (0.0.11)\n",
            "Requirement already satisfied: lxml>=4.9.1 in /usr/local/lib/python3.10/dist-packages (from yfinance) (4.9.4)\n",
            "Requirement already satisfied: appdirs>=1.4.4 in /usr/local/lib/python3.10/dist-packages (from yfinance) (1.4.4)\n",
            "Requirement already satisfied: pytz>=2022.5 in /usr/local/lib/python3.10/dist-packages (from yfinance) (2023.4)\n",
            "Requirement already satisfied: frozendict>=2.3.4 in /usr/local/lib/python3.10/dist-packages (from yfinance) (2.4.2)\n",
            "Requirement already satisfied: peewee>=3.16.2 in /usr/local/lib/python3.10/dist-packages (from yfinance) (3.17.3)\n",
            "Requirement already satisfied: beautifulsoup4>=4.11.1 in /usr/local/lib/python3.10/dist-packages (from yfinance) (4.12.3)\n",
            "Requirement already satisfied: html5lib>=1.1 in /usr/local/lib/python3.10/dist-packages (from yfinance) (1.1)\n",
            "Requirement already satisfied: soupsieve>1.2 in /usr/local/lib/python3.10/dist-packages (from beautifulsoup4>=4.11.1->yfinance) (2.5)\n",
            "Requirement already satisfied: six>=1.9 in /usr/local/lib/python3.10/dist-packages (from html5lib>=1.1->yfinance) (1.16.0)\n",
            "Requirement already satisfied: webencodings in /usr/local/lib/python3.10/dist-packages (from html5lib>=1.1->yfinance) (0.5.1)\n",
            "Requirement already satisfied: python-dateutil>=2.8.2 in /usr/local/lib/python3.10/dist-packages (from pandas>=1.3.0->yfinance) (2.8.2)\n",
            "Requirement already satisfied: tzdata>=2022.1 in /usr/local/lib/python3.10/dist-packages (from pandas>=1.3.0->yfinance) (2024.1)\n",
            "Requirement already satisfied: charset-normalizer<4,>=2 in /usr/local/lib/python3.10/dist-packages (from requests>=2.31->yfinance) (3.3.2)\n",
            "Requirement already satisfied: idna<4,>=2.5 in /usr/local/lib/python3.10/dist-packages (from requests>=2.31->yfinance) (3.7)\n",
            "Requirement already satisfied: urllib3<3,>=1.21.1 in /usr/local/lib/python3.10/dist-packages (from requests>=2.31->yfinance) (2.0.7)\n",
            "Requirement already satisfied: certifi>=2017.4.17 in /usr/local/lib/python3.10/dist-packages (from requests>=2.31->yfinance) (2024.2.2)\n"
          ]
        }
      ],
      "source": [
        "\n",
        "!pip install yfinance\n",
        "\n",
        "# IMPORTS\n",
        "import numpy as np\n",
        "import pandas as pd\n",
        "\n",
        "#Fin Data Sources\n",
        "import yfinance as yf\n",
        "import pandas_datareader as pdr\n",
        "\n",
        "#Data viz\n",
        "import plotly.graph_objs as go\n",
        "import plotly.express as px\n",
        "\n",
        "import time\n",
        "from datetime import date\n",
        "\n",
        "# for graphs\n",
        "import matplotlib.pyplot as plt\n"
      ]
    },
    {
      "cell_type": "code",
      "source": [
        "\n",
        "import pandas as pd\n",
        "import requests\n",
        "\n",
        "headers = {\n",
        "    'User-Agent': 'Mozilla/5.0 (Windows NT 10.0; Win64; x64) AppleWebKit/537.36 (KHTML, like Gecko) Chrome/58.0.3029.110 Safari/537.3',\n",
        "}\n",
        "\n",
        "url = \"https://stockanalysis.com/ipos/filings/\"\n",
        "response = requests.get(url, headers=headers)\n",
        "\n",
        "ipo_dfs = pd.read_html(response.text)"
      ],
      "metadata": {
        "id": "AEZYyYBqpthR"
      },
      "execution_count": null,
      "outputs": []
    },
    {
      "cell_type": "code",
      "source": [
        "\n",
        "\n",
        "ipos_filings = ipo_dfs[0]\n",
        "ipos_filings.info()"
      ],
      "metadata": {
        "colab": {
          "base_uri": "https://localhost:8080/"
        },
        "id": "4uKdFCI_puL7",
        "outputId": "ced99152-a07c-4690-ccfa-863752eeb043"
      },
      "execution_count": null,
      "outputs": [
        {
          "output_type": "stream",
          "name": "stdout",
          "text": [
            "<class 'pandas.core.frame.DataFrame'>\n",
            "RangeIndex: 325 entries, 0 to 324\n",
            "Data columns (total 5 columns):\n",
            " #   Column          Non-Null Count  Dtype \n",
            "---  ------          --------------  ----- \n",
            " 0   Filing Date     325 non-null    object\n",
            " 1   Symbol          325 non-null    object\n",
            " 2   Company Name    325 non-null    object\n",
            " 3   Price Range     325 non-null    object\n",
            " 4   Shares Offered  325 non-null    object\n",
            "dtypes: object(5)\n",
            "memory usage: 12.8+ KB\n"
          ]
        }
      ]
    },
    {
      "cell_type": "code",
      "source": [
        "ipos_filings"
      ],
      "metadata": {
        "colab": {
          "base_uri": "https://localhost:8080/",
          "height": 423
        },
        "id": "Y2cVC-stpvKy",
        "outputId": "6e2d6bdd-f3b2-4e71-c698-ba061731169b"
      },
      "execution_count": null,
      "outputs": [
        {
          "output_type": "execute_result",
          "data": {
            "text/plain": [
              "      Filing Date Symbol                           Company Name  \\\n",
              "0     May 3, 2024    TBN         Tamboran Resources Corporation   \n",
              "1    Apr 29, 2024   HWEC                   HW Electro Co., Ltd.   \n",
              "2    Apr 29, 2024   DTSQ  DT Cloud Star Acquisition Corporation   \n",
              "3    Apr 26, 2024   EURK                Eureka Acquisition Corp   \n",
              "4    Apr 26, 2024    HDL    Super Hi International Holding Ltd.   \n",
              "..            ...    ...                                    ...   \n",
              "320  Jan 21, 2020   GOXS                            Goxus, Inc.   \n",
              "321  Jan 21, 2020   UTXO                 UTXO Acquisition, Inc.   \n",
              "322   Dec 9, 2019   LOHA                           Loha Co. Ltd   \n",
              "323   Oct 4, 2019   ZGHB  China Eco-Materials Group Co. Limited   \n",
              "324  Dec 27, 2018   FBOX              Fit Boxx Holdings Limited   \n",
              "\n",
              "        Price Range Shares Offered  \n",
              "0                 -              -  \n",
              "1             $3.00        3750000  \n",
              "2            $10.00        6000000  \n",
              "3            $10.00        5000000  \n",
              "4                 -              -  \n",
              "..              ...            ...  \n",
              "320  $8.00 - $10.00        1500000  \n",
              "321          $10.00        5000000  \n",
              "322  $8.00 - $10.00        2500000  \n",
              "323           $4.00        4300000  \n",
              "324   $5.00 - $6.50        2000000  \n",
              "\n",
              "[325 rows x 5 columns]"
            ],
            "text/html": [
              "\n",
              "  <div id=\"df-f03a6cae-0582-44a8-975f-35802ba49dcf\" class=\"colab-df-container\">\n",
              "    <div>\n",
              "<style scoped>\n",
              "    .dataframe tbody tr th:only-of-type {\n",
              "        vertical-align: middle;\n",
              "    }\n",
              "\n",
              "    .dataframe tbody tr th {\n",
              "        vertical-align: top;\n",
              "    }\n",
              "\n",
              "    .dataframe thead th {\n",
              "        text-align: right;\n",
              "    }\n",
              "</style>\n",
              "<table border=\"1\" class=\"dataframe\">\n",
              "  <thead>\n",
              "    <tr style=\"text-align: right;\">\n",
              "      <th></th>\n",
              "      <th>Filing Date</th>\n",
              "      <th>Symbol</th>\n",
              "      <th>Company Name</th>\n",
              "      <th>Price Range</th>\n",
              "      <th>Shares Offered</th>\n",
              "    </tr>\n",
              "  </thead>\n",
              "  <tbody>\n",
              "    <tr>\n",
              "      <th>0</th>\n",
              "      <td>May 3, 2024</td>\n",
              "      <td>TBN</td>\n",
              "      <td>Tamboran Resources Corporation</td>\n",
              "      <td>-</td>\n",
              "      <td>-</td>\n",
              "    </tr>\n",
              "    <tr>\n",
              "      <th>1</th>\n",
              "      <td>Apr 29, 2024</td>\n",
              "      <td>HWEC</td>\n",
              "      <td>HW Electro Co., Ltd.</td>\n",
              "      <td>$3.00</td>\n",
              "      <td>3750000</td>\n",
              "    </tr>\n",
              "    <tr>\n",
              "      <th>2</th>\n",
              "      <td>Apr 29, 2024</td>\n",
              "      <td>DTSQ</td>\n",
              "      <td>DT Cloud Star Acquisition Corporation</td>\n",
              "      <td>$10.00</td>\n",
              "      <td>6000000</td>\n",
              "    </tr>\n",
              "    <tr>\n",
              "      <th>3</th>\n",
              "      <td>Apr 26, 2024</td>\n",
              "      <td>EURK</td>\n",
              "      <td>Eureka Acquisition Corp</td>\n",
              "      <td>$10.00</td>\n",
              "      <td>5000000</td>\n",
              "    </tr>\n",
              "    <tr>\n",
              "      <th>4</th>\n",
              "      <td>Apr 26, 2024</td>\n",
              "      <td>HDL</td>\n",
              "      <td>Super Hi International Holding Ltd.</td>\n",
              "      <td>-</td>\n",
              "      <td>-</td>\n",
              "    </tr>\n",
              "    <tr>\n",
              "      <th>...</th>\n",
              "      <td>...</td>\n",
              "      <td>...</td>\n",
              "      <td>...</td>\n",
              "      <td>...</td>\n",
              "      <td>...</td>\n",
              "    </tr>\n",
              "    <tr>\n",
              "      <th>320</th>\n",
              "      <td>Jan 21, 2020</td>\n",
              "      <td>GOXS</td>\n",
              "      <td>Goxus, Inc.</td>\n",
              "      <td>$8.00 - $10.00</td>\n",
              "      <td>1500000</td>\n",
              "    </tr>\n",
              "    <tr>\n",
              "      <th>321</th>\n",
              "      <td>Jan 21, 2020</td>\n",
              "      <td>UTXO</td>\n",
              "      <td>UTXO Acquisition, Inc.</td>\n",
              "      <td>$10.00</td>\n",
              "      <td>5000000</td>\n",
              "    </tr>\n",
              "    <tr>\n",
              "      <th>322</th>\n",
              "      <td>Dec 9, 2019</td>\n",
              "      <td>LOHA</td>\n",
              "      <td>Loha Co. Ltd</td>\n",
              "      <td>$8.00 - $10.00</td>\n",
              "      <td>2500000</td>\n",
              "    </tr>\n",
              "    <tr>\n",
              "      <th>323</th>\n",
              "      <td>Oct 4, 2019</td>\n",
              "      <td>ZGHB</td>\n",
              "      <td>China Eco-Materials Group Co. Limited</td>\n",
              "      <td>$4.00</td>\n",
              "      <td>4300000</td>\n",
              "    </tr>\n",
              "    <tr>\n",
              "      <th>324</th>\n",
              "      <td>Dec 27, 2018</td>\n",
              "      <td>FBOX</td>\n",
              "      <td>Fit Boxx Holdings Limited</td>\n",
              "      <td>$5.00 - $6.50</td>\n",
              "      <td>2000000</td>\n",
              "    </tr>\n",
              "  </tbody>\n",
              "</table>\n",
              "<p>325 rows × 5 columns</p>\n",
              "</div>\n",
              "    <div class=\"colab-df-buttons\">\n",
              "\n",
              "  <div class=\"colab-df-container\">\n",
              "    <button class=\"colab-df-convert\" onclick=\"convertToInteractive('df-f03a6cae-0582-44a8-975f-35802ba49dcf')\"\n",
              "            title=\"Convert this dataframe to an interactive table.\"\n",
              "            style=\"display:none;\">\n",
              "\n",
              "  <svg xmlns=\"http://www.w3.org/2000/svg\" height=\"24px\" viewBox=\"0 -960 960 960\">\n",
              "    <path d=\"M120-120v-720h720v720H120Zm60-500h600v-160H180v160Zm220 220h160v-160H400v160Zm0 220h160v-160H400v160ZM180-400h160v-160H180v160Zm440 0h160v-160H620v160ZM180-180h160v-160H180v160Zm440 0h160v-160H620v160Z\"/>\n",
              "  </svg>\n",
              "    </button>\n",
              "\n",
              "  <style>\n",
              "    .colab-df-container {\n",
              "      display:flex;\n",
              "      gap: 12px;\n",
              "    }\n",
              "\n",
              "    .colab-df-convert {\n",
              "      background-color: #E8F0FE;\n",
              "      border: none;\n",
              "      border-radius: 50%;\n",
              "      cursor: pointer;\n",
              "      display: none;\n",
              "      fill: #1967D2;\n",
              "      height: 32px;\n",
              "      padding: 0 0 0 0;\n",
              "      width: 32px;\n",
              "    }\n",
              "\n",
              "    .colab-df-convert:hover {\n",
              "      background-color: #E2EBFA;\n",
              "      box-shadow: 0px 1px 2px rgba(60, 64, 67, 0.3), 0px 1px 3px 1px rgba(60, 64, 67, 0.15);\n",
              "      fill: #174EA6;\n",
              "    }\n",
              "\n",
              "    .colab-df-buttons div {\n",
              "      margin-bottom: 4px;\n",
              "    }\n",
              "\n",
              "    [theme=dark] .colab-df-convert {\n",
              "      background-color: #3B4455;\n",
              "      fill: #D2E3FC;\n",
              "    }\n",
              "\n",
              "    [theme=dark] .colab-df-convert:hover {\n",
              "      background-color: #434B5C;\n",
              "      box-shadow: 0px 1px 3px 1px rgba(0, 0, 0, 0.15);\n",
              "      filter: drop-shadow(0px 1px 2px rgba(0, 0, 0, 0.3));\n",
              "      fill: #FFFFFF;\n",
              "    }\n",
              "  </style>\n",
              "\n",
              "    <script>\n",
              "      const buttonEl =\n",
              "        document.querySelector('#df-f03a6cae-0582-44a8-975f-35802ba49dcf button.colab-df-convert');\n",
              "      buttonEl.style.display =\n",
              "        google.colab.kernel.accessAllowed ? 'block' : 'none';\n",
              "\n",
              "      async function convertToInteractive(key) {\n",
              "        const element = document.querySelector('#df-f03a6cae-0582-44a8-975f-35802ba49dcf');\n",
              "        const dataTable =\n",
              "          await google.colab.kernel.invokeFunction('convertToInteractive',\n",
              "                                                    [key], {});\n",
              "        if (!dataTable) return;\n",
              "\n",
              "        const docLinkHtml = 'Like what you see? Visit the ' +\n",
              "          '<a target=\"_blank\" href=https://colab.research.google.com/notebooks/data_table.ipynb>data table notebook</a>'\n",
              "          + ' to learn more about interactive tables.';\n",
              "        element.innerHTML = '';\n",
              "        dataTable['output_type'] = 'display_data';\n",
              "        await google.colab.output.renderOutput(dataTable, element);\n",
              "        const docLink = document.createElement('div');\n",
              "        docLink.innerHTML = docLinkHtml;\n",
              "        element.appendChild(docLink);\n",
              "      }\n",
              "    </script>\n",
              "  </div>\n",
              "\n",
              "\n",
              "<div id=\"df-750ff218-d1b1-4e48-9317-9fd47edc9842\">\n",
              "  <button class=\"colab-df-quickchart\" onclick=\"quickchart('df-750ff218-d1b1-4e48-9317-9fd47edc9842')\"\n",
              "            title=\"Suggest charts\"\n",
              "            style=\"display:none;\">\n",
              "\n",
              "<svg xmlns=\"http://www.w3.org/2000/svg\" height=\"24px\"viewBox=\"0 0 24 24\"\n",
              "     width=\"24px\">\n",
              "    <g>\n",
              "        <path d=\"M19 3H5c-1.1 0-2 .9-2 2v14c0 1.1.9 2 2 2h14c1.1 0 2-.9 2-2V5c0-1.1-.9-2-2-2zM9 17H7v-7h2v7zm4 0h-2V7h2v10zm4 0h-2v-4h2v4z\"/>\n",
              "    </g>\n",
              "</svg>\n",
              "  </button>\n",
              "\n",
              "<style>\n",
              "  .colab-df-quickchart {\n",
              "      --bg-color: #E8F0FE;\n",
              "      --fill-color: #1967D2;\n",
              "      --hover-bg-color: #E2EBFA;\n",
              "      --hover-fill-color: #174EA6;\n",
              "      --disabled-fill-color: #AAA;\n",
              "      --disabled-bg-color: #DDD;\n",
              "  }\n",
              "\n",
              "  [theme=dark] .colab-df-quickchart {\n",
              "      --bg-color: #3B4455;\n",
              "      --fill-color: #D2E3FC;\n",
              "      --hover-bg-color: #434B5C;\n",
              "      --hover-fill-color: #FFFFFF;\n",
              "      --disabled-bg-color: #3B4455;\n",
              "      --disabled-fill-color: #666;\n",
              "  }\n",
              "\n",
              "  .colab-df-quickchart {\n",
              "    background-color: var(--bg-color);\n",
              "    border: none;\n",
              "    border-radius: 50%;\n",
              "    cursor: pointer;\n",
              "    display: none;\n",
              "    fill: var(--fill-color);\n",
              "    height: 32px;\n",
              "    padding: 0;\n",
              "    width: 32px;\n",
              "  }\n",
              "\n",
              "  .colab-df-quickchart:hover {\n",
              "    background-color: var(--hover-bg-color);\n",
              "    box-shadow: 0 1px 2px rgba(60, 64, 67, 0.3), 0 1px 3px 1px rgba(60, 64, 67, 0.15);\n",
              "    fill: var(--button-hover-fill-color);\n",
              "  }\n",
              "\n",
              "  .colab-df-quickchart-complete:disabled,\n",
              "  .colab-df-quickchart-complete:disabled:hover {\n",
              "    background-color: var(--disabled-bg-color);\n",
              "    fill: var(--disabled-fill-color);\n",
              "    box-shadow: none;\n",
              "  }\n",
              "\n",
              "  .colab-df-spinner {\n",
              "    border: 2px solid var(--fill-color);\n",
              "    border-color: transparent;\n",
              "    border-bottom-color: var(--fill-color);\n",
              "    animation:\n",
              "      spin 1s steps(1) infinite;\n",
              "  }\n",
              "\n",
              "  @keyframes spin {\n",
              "    0% {\n",
              "      border-color: transparent;\n",
              "      border-bottom-color: var(--fill-color);\n",
              "      border-left-color: var(--fill-color);\n",
              "    }\n",
              "    20% {\n",
              "      border-color: transparent;\n",
              "      border-left-color: var(--fill-color);\n",
              "      border-top-color: var(--fill-color);\n",
              "    }\n",
              "    30% {\n",
              "      border-color: transparent;\n",
              "      border-left-color: var(--fill-color);\n",
              "      border-top-color: var(--fill-color);\n",
              "      border-right-color: var(--fill-color);\n",
              "    }\n",
              "    40% {\n",
              "      border-color: transparent;\n",
              "      border-right-color: var(--fill-color);\n",
              "      border-top-color: var(--fill-color);\n",
              "    }\n",
              "    60% {\n",
              "      border-color: transparent;\n",
              "      border-right-color: var(--fill-color);\n",
              "    }\n",
              "    80% {\n",
              "      border-color: transparent;\n",
              "      border-right-color: var(--fill-color);\n",
              "      border-bottom-color: var(--fill-color);\n",
              "    }\n",
              "    90% {\n",
              "      border-color: transparent;\n",
              "      border-bottom-color: var(--fill-color);\n",
              "    }\n",
              "  }\n",
              "</style>\n",
              "\n",
              "  <script>\n",
              "    async function quickchart(key) {\n",
              "      const quickchartButtonEl =\n",
              "        document.querySelector('#' + key + ' button');\n",
              "      quickchartButtonEl.disabled = true;  // To prevent multiple clicks.\n",
              "      quickchartButtonEl.classList.add('colab-df-spinner');\n",
              "      try {\n",
              "        const charts = await google.colab.kernel.invokeFunction(\n",
              "            'suggestCharts', [key], {});\n",
              "      } catch (error) {\n",
              "        console.error('Error during call to suggestCharts:', error);\n",
              "      }\n",
              "      quickchartButtonEl.classList.remove('colab-df-spinner');\n",
              "      quickchartButtonEl.classList.add('colab-df-quickchart-complete');\n",
              "    }\n",
              "    (() => {\n",
              "      let quickchartButtonEl =\n",
              "        document.querySelector('#df-750ff218-d1b1-4e48-9317-9fd47edc9842 button');\n",
              "      quickchartButtonEl.style.display =\n",
              "        google.colab.kernel.accessAllowed ? 'block' : 'none';\n",
              "    })();\n",
              "  </script>\n",
              "</div>\n",
              "\n",
              "  <div id=\"id_aa8dd64d-5288-41cd-9916-7821877f1b3d\">\n",
              "    <style>\n",
              "      .colab-df-generate {\n",
              "        background-color: #E8F0FE;\n",
              "        border: none;\n",
              "        border-radius: 50%;\n",
              "        cursor: pointer;\n",
              "        display: none;\n",
              "        fill: #1967D2;\n",
              "        height: 32px;\n",
              "        padding: 0 0 0 0;\n",
              "        width: 32px;\n",
              "      }\n",
              "\n",
              "      .colab-df-generate:hover {\n",
              "        background-color: #E2EBFA;\n",
              "        box-shadow: 0px 1px 2px rgba(60, 64, 67, 0.3), 0px 1px 3px 1px rgba(60, 64, 67, 0.15);\n",
              "        fill: #174EA6;\n",
              "      }\n",
              "\n",
              "      [theme=dark] .colab-df-generate {\n",
              "        background-color: #3B4455;\n",
              "        fill: #D2E3FC;\n",
              "      }\n",
              "\n",
              "      [theme=dark] .colab-df-generate:hover {\n",
              "        background-color: #434B5C;\n",
              "        box-shadow: 0px 1px 3px 1px rgba(0, 0, 0, 0.15);\n",
              "        filter: drop-shadow(0px 1px 2px rgba(0, 0, 0, 0.3));\n",
              "        fill: #FFFFFF;\n",
              "      }\n",
              "    </style>\n",
              "    <button class=\"colab-df-generate\" onclick=\"generateWithVariable('ipos_filings')\"\n",
              "            title=\"Generate code using this dataframe.\"\n",
              "            style=\"display:none;\">\n",
              "\n",
              "  <svg xmlns=\"http://www.w3.org/2000/svg\" height=\"24px\"viewBox=\"0 0 24 24\"\n",
              "       width=\"24px\">\n",
              "    <path d=\"M7,19H8.4L18.45,9,17,7.55,7,17.6ZM5,21V16.75L18.45,3.32a2,2,0,0,1,2.83,0l1.4,1.43a1.91,1.91,0,0,1,.58,1.4,1.91,1.91,0,0,1-.58,1.4L9.25,21ZM18.45,9,17,7.55Zm-12,3A5.31,5.31,0,0,0,4.9,8.1,5.31,5.31,0,0,0,1,6.5,5.31,5.31,0,0,0,4.9,4.9,5.31,5.31,0,0,0,6.5,1,5.31,5.31,0,0,0,8.1,4.9,5.31,5.31,0,0,0,12,6.5,5.46,5.46,0,0,0,6.5,12Z\"/>\n",
              "  </svg>\n",
              "    </button>\n",
              "    <script>\n",
              "      (() => {\n",
              "      const buttonEl =\n",
              "        document.querySelector('#id_aa8dd64d-5288-41cd-9916-7821877f1b3d button.colab-df-generate');\n",
              "      buttonEl.style.display =\n",
              "        google.colab.kernel.accessAllowed ? 'block' : 'none';\n",
              "\n",
              "      buttonEl.onclick = () => {\n",
              "        google.colab.notebook.generateWithVariable('ipos_filings');\n",
              "      }\n",
              "      })();\n",
              "    </script>\n",
              "  </div>\n",
              "\n",
              "    </div>\n",
              "  </div>\n"
            ],
            "application/vnd.google.colaboratory.intrinsic+json": {
              "type": "dataframe",
              "variable_name": "ipos_filings",
              "summary": "{\n  \"name\": \"ipos_filings\",\n  \"rows\": 325,\n  \"fields\": [\n    {\n      \"column\": \"Filing Date\",\n      \"properties\": {\n        \"dtype\": \"string\",\n        \"num_unique_values\": 256,\n        \"samples\": [\n          \"Mar 29, 2021\",\n          \"Apr 15, 2024\",\n          \"Sep 7, 2023\"\n        ],\n        \"semantic_type\": \"\",\n        \"description\": \"\"\n      }\n    },\n    {\n      \"column\": \"Symbol\",\n      \"properties\": {\n        \"dtype\": \"string\",\n        \"num_unique_values\": 325,\n        \"samples\": [\n          \"WYTC\",\n          \"NAMI\",\n          \"BXHA\"\n        ],\n        \"semantic_type\": \"\",\n        \"description\": \"\"\n      }\n    },\n    {\n      \"column\": \"Company Name\",\n      \"properties\": {\n        \"dtype\": \"string\",\n        \"num_unique_values\": 325,\n        \"samples\": [\n          \"Wytec International, Inc.\",\n          \"Jinxin Technology Holding Company\",\n          \"Bombax Healthcare Acquisition Corporation\"\n        ],\n        \"semantic_type\": \"\",\n        \"description\": \"\"\n      }\n    },\n    {\n      \"column\": \"Price Range\",\n      \"properties\": {\n        \"dtype\": \"category\",\n        \"num_unique_values\": 45,\n        \"samples\": [\n          \"$7.00 - $9.00\",\n          \"$5.50\",\n          \"$20.00\"\n        ],\n        \"semantic_type\": \"\",\n        \"description\": \"\"\n      }\n    },\n    {\n      \"column\": \"Shares Offered\",\n      \"properties\": {\n        \"dtype\": \"category\",\n        \"num_unique_values\": 82,\n        \"samples\": [\n          \"400000\",\n          \"-\",\n          \"2200000\"\n        ],\n        \"semantic_type\": \"\",\n        \"description\": \"\"\n      }\n    }\n  ]\n}"
            }
          },
          "metadata": {},
          "execution_count": 6
        }
      ]
    },
    {
      "cell_type": "code",
      "source": [
        "ipos_filings['Filing Date'] = pd.to_datetime(ipos_filings['Filing Date'], format='%b %d, %Y')\n",
        "ipos_filings.info()"
      ],
      "metadata": {
        "colab": {
          "base_uri": "https://localhost:8080/"
        },
        "id": "HW5NgMNmp-qV",
        "outputId": "1e0a7bcb-b711-47a6-af6e-9b73913df8fd"
      },
      "execution_count": 8,
      "outputs": [
        {
          "output_type": "stream",
          "name": "stdout",
          "text": [
            "<class 'pandas.core.frame.DataFrame'>\n",
            "RangeIndex: 325 entries, 0 to 324\n",
            "Data columns (total 5 columns):\n",
            " #   Column          Non-Null Count  Dtype         \n",
            "---  ------          --------------  -----         \n",
            " 0   Filing Date     325 non-null    datetime64[ns]\n",
            " 1   Symbol          325 non-null    object        \n",
            " 2   Company Name    325 non-null    object        \n",
            " 3   Price Range     325 non-null    object        \n",
            " 4   Shares Offered  325 non-null    object        \n",
            "dtypes: datetime64[ns](1), object(4)\n",
            "memory usage: 12.8+ KB\n"
          ]
        }
      ]
    },
    {
      "cell_type": "code",
      "source": [
        "# ipos_filings = ipos_filings[ipos_filings['Shares Offered'].astype(str).str.find('-') >= 0]\n",
        "ipos_filings['Shares Offered'] = pd.to_numeric(ipos_filings['Shares Offered'], errors='coerce')\n"
      ],
      "metadata": {
        "id": "RuTEqDTNqQoG"
      },
      "execution_count": 9,
      "outputs": []
    },
    {
      "cell_type": "code",
      "source": [
        "ipos_filings\n",
        "import re\n",
        "ipos_filings"
      ],
      "metadata": {
        "id": "ZW66frgyqjSO",
        "colab": {
          "base_uri": "https://localhost:8080/",
          "height": 423
        },
        "outputId": "a02fa518-b7b1-41fd-f066-c610ad1a9449"
      },
      "execution_count": 10,
      "outputs": [
        {
          "output_type": "execute_result",
          "data": {
            "text/plain": [
              "    Filing Date Symbol                           Company Name     Price Range  \\\n",
              "0    2024-05-03    TBN         Tamboran Resources Corporation               -   \n",
              "1    2024-04-29   HWEC                   HW Electro Co., Ltd.           $3.00   \n",
              "2    2024-04-29   DTSQ  DT Cloud Star Acquisition Corporation          $10.00   \n",
              "3    2024-04-26   EURK                Eureka Acquisition Corp          $10.00   \n",
              "4    2024-04-26    HDL    Super Hi International Holding Ltd.               -   \n",
              "..          ...    ...                                    ...             ...   \n",
              "320  2020-01-21   GOXS                            Goxus, Inc.  $8.00 - $10.00   \n",
              "321  2020-01-21   UTXO                 UTXO Acquisition, Inc.          $10.00   \n",
              "322  2019-12-09   LOHA                           Loha Co. Ltd  $8.00 - $10.00   \n",
              "323  2019-10-04   ZGHB  China Eco-Materials Group Co. Limited           $4.00   \n",
              "324  2018-12-27   FBOX              Fit Boxx Holdings Limited   $5.00 - $6.50   \n",
              "\n",
              "     Shares Offered  \n",
              "0               NaN  \n",
              "1         3750000.0  \n",
              "2         6000000.0  \n",
              "3         5000000.0  \n",
              "4               NaN  \n",
              "..              ...  \n",
              "320       1500000.0  \n",
              "321       5000000.0  \n",
              "322       2500000.0  \n",
              "323       4300000.0  \n",
              "324       2000000.0  \n",
              "\n",
              "[325 rows x 5 columns]"
            ],
            "text/html": [
              "\n",
              "  <div id=\"df-e63c4c54-19bf-405c-898b-df0c8e3cb1ad\" class=\"colab-df-container\">\n",
              "    <div>\n",
              "<style scoped>\n",
              "    .dataframe tbody tr th:only-of-type {\n",
              "        vertical-align: middle;\n",
              "    }\n",
              "\n",
              "    .dataframe tbody tr th {\n",
              "        vertical-align: top;\n",
              "    }\n",
              "\n",
              "    .dataframe thead th {\n",
              "        text-align: right;\n",
              "    }\n",
              "</style>\n",
              "<table border=\"1\" class=\"dataframe\">\n",
              "  <thead>\n",
              "    <tr style=\"text-align: right;\">\n",
              "      <th></th>\n",
              "      <th>Filing Date</th>\n",
              "      <th>Symbol</th>\n",
              "      <th>Company Name</th>\n",
              "      <th>Price Range</th>\n",
              "      <th>Shares Offered</th>\n",
              "    </tr>\n",
              "  </thead>\n",
              "  <tbody>\n",
              "    <tr>\n",
              "      <th>0</th>\n",
              "      <td>2024-05-03</td>\n",
              "      <td>TBN</td>\n",
              "      <td>Tamboran Resources Corporation</td>\n",
              "      <td>-</td>\n",
              "      <td>NaN</td>\n",
              "    </tr>\n",
              "    <tr>\n",
              "      <th>1</th>\n",
              "      <td>2024-04-29</td>\n",
              "      <td>HWEC</td>\n",
              "      <td>HW Electro Co., Ltd.</td>\n",
              "      <td>$3.00</td>\n",
              "      <td>3750000.0</td>\n",
              "    </tr>\n",
              "    <tr>\n",
              "      <th>2</th>\n",
              "      <td>2024-04-29</td>\n",
              "      <td>DTSQ</td>\n",
              "      <td>DT Cloud Star Acquisition Corporation</td>\n",
              "      <td>$10.00</td>\n",
              "      <td>6000000.0</td>\n",
              "    </tr>\n",
              "    <tr>\n",
              "      <th>3</th>\n",
              "      <td>2024-04-26</td>\n",
              "      <td>EURK</td>\n",
              "      <td>Eureka Acquisition Corp</td>\n",
              "      <td>$10.00</td>\n",
              "      <td>5000000.0</td>\n",
              "    </tr>\n",
              "    <tr>\n",
              "      <th>4</th>\n",
              "      <td>2024-04-26</td>\n",
              "      <td>HDL</td>\n",
              "      <td>Super Hi International Holding Ltd.</td>\n",
              "      <td>-</td>\n",
              "      <td>NaN</td>\n",
              "    </tr>\n",
              "    <tr>\n",
              "      <th>...</th>\n",
              "      <td>...</td>\n",
              "      <td>...</td>\n",
              "      <td>...</td>\n",
              "      <td>...</td>\n",
              "      <td>...</td>\n",
              "    </tr>\n",
              "    <tr>\n",
              "      <th>320</th>\n",
              "      <td>2020-01-21</td>\n",
              "      <td>GOXS</td>\n",
              "      <td>Goxus, Inc.</td>\n",
              "      <td>$8.00 - $10.00</td>\n",
              "      <td>1500000.0</td>\n",
              "    </tr>\n",
              "    <tr>\n",
              "      <th>321</th>\n",
              "      <td>2020-01-21</td>\n",
              "      <td>UTXO</td>\n",
              "      <td>UTXO Acquisition, Inc.</td>\n",
              "      <td>$10.00</td>\n",
              "      <td>5000000.0</td>\n",
              "    </tr>\n",
              "    <tr>\n",
              "      <th>322</th>\n",
              "      <td>2019-12-09</td>\n",
              "      <td>LOHA</td>\n",
              "      <td>Loha Co. Ltd</td>\n",
              "      <td>$8.00 - $10.00</td>\n",
              "      <td>2500000.0</td>\n",
              "    </tr>\n",
              "    <tr>\n",
              "      <th>323</th>\n",
              "      <td>2019-10-04</td>\n",
              "      <td>ZGHB</td>\n",
              "      <td>China Eco-Materials Group Co. Limited</td>\n",
              "      <td>$4.00</td>\n",
              "      <td>4300000.0</td>\n",
              "    </tr>\n",
              "    <tr>\n",
              "      <th>324</th>\n",
              "      <td>2018-12-27</td>\n",
              "      <td>FBOX</td>\n",
              "      <td>Fit Boxx Holdings Limited</td>\n",
              "      <td>$5.00 - $6.50</td>\n",
              "      <td>2000000.0</td>\n",
              "    </tr>\n",
              "  </tbody>\n",
              "</table>\n",
              "<p>325 rows × 5 columns</p>\n",
              "</div>\n",
              "    <div class=\"colab-df-buttons\">\n",
              "\n",
              "  <div class=\"colab-df-container\">\n",
              "    <button class=\"colab-df-convert\" onclick=\"convertToInteractive('df-e63c4c54-19bf-405c-898b-df0c8e3cb1ad')\"\n",
              "            title=\"Convert this dataframe to an interactive table.\"\n",
              "            style=\"display:none;\">\n",
              "\n",
              "  <svg xmlns=\"http://www.w3.org/2000/svg\" height=\"24px\" viewBox=\"0 -960 960 960\">\n",
              "    <path d=\"M120-120v-720h720v720H120Zm60-500h600v-160H180v160Zm220 220h160v-160H400v160Zm0 220h160v-160H400v160ZM180-400h160v-160H180v160Zm440 0h160v-160H620v160ZM180-180h160v-160H180v160Zm440 0h160v-160H620v160Z\"/>\n",
              "  </svg>\n",
              "    </button>\n",
              "\n",
              "  <style>\n",
              "    .colab-df-container {\n",
              "      display:flex;\n",
              "      gap: 12px;\n",
              "    }\n",
              "\n",
              "    .colab-df-convert {\n",
              "      background-color: #E8F0FE;\n",
              "      border: none;\n",
              "      border-radius: 50%;\n",
              "      cursor: pointer;\n",
              "      display: none;\n",
              "      fill: #1967D2;\n",
              "      height: 32px;\n",
              "      padding: 0 0 0 0;\n",
              "      width: 32px;\n",
              "    }\n",
              "\n",
              "    .colab-df-convert:hover {\n",
              "      background-color: #E2EBFA;\n",
              "      box-shadow: 0px 1px 2px rgba(60, 64, 67, 0.3), 0px 1px 3px 1px rgba(60, 64, 67, 0.15);\n",
              "      fill: #174EA6;\n",
              "    }\n",
              "\n",
              "    .colab-df-buttons div {\n",
              "      margin-bottom: 4px;\n",
              "    }\n",
              "\n",
              "    [theme=dark] .colab-df-convert {\n",
              "      background-color: #3B4455;\n",
              "      fill: #D2E3FC;\n",
              "    }\n",
              "\n",
              "    [theme=dark] .colab-df-convert:hover {\n",
              "      background-color: #434B5C;\n",
              "      box-shadow: 0px 1px 3px 1px rgba(0, 0, 0, 0.15);\n",
              "      filter: drop-shadow(0px 1px 2px rgba(0, 0, 0, 0.3));\n",
              "      fill: #FFFFFF;\n",
              "    }\n",
              "  </style>\n",
              "\n",
              "    <script>\n",
              "      const buttonEl =\n",
              "        document.querySelector('#df-e63c4c54-19bf-405c-898b-df0c8e3cb1ad button.colab-df-convert');\n",
              "      buttonEl.style.display =\n",
              "        google.colab.kernel.accessAllowed ? 'block' : 'none';\n",
              "\n",
              "      async function convertToInteractive(key) {\n",
              "        const element = document.querySelector('#df-e63c4c54-19bf-405c-898b-df0c8e3cb1ad');\n",
              "        const dataTable =\n",
              "          await google.colab.kernel.invokeFunction('convertToInteractive',\n",
              "                                                    [key], {});\n",
              "        if (!dataTable) return;\n",
              "\n",
              "        const docLinkHtml = 'Like what you see? Visit the ' +\n",
              "          '<a target=\"_blank\" href=https://colab.research.google.com/notebooks/data_table.ipynb>data table notebook</a>'\n",
              "          + ' to learn more about interactive tables.';\n",
              "        element.innerHTML = '';\n",
              "        dataTable['output_type'] = 'display_data';\n",
              "        await google.colab.output.renderOutput(dataTable, element);\n",
              "        const docLink = document.createElement('div');\n",
              "        docLink.innerHTML = docLinkHtml;\n",
              "        element.appendChild(docLink);\n",
              "      }\n",
              "    </script>\n",
              "  </div>\n",
              "\n",
              "\n",
              "<div id=\"df-eea52da8-2d18-4b79-beff-0af4806b5319\">\n",
              "  <button class=\"colab-df-quickchart\" onclick=\"quickchart('df-eea52da8-2d18-4b79-beff-0af4806b5319')\"\n",
              "            title=\"Suggest charts\"\n",
              "            style=\"display:none;\">\n",
              "\n",
              "<svg xmlns=\"http://www.w3.org/2000/svg\" height=\"24px\"viewBox=\"0 0 24 24\"\n",
              "     width=\"24px\">\n",
              "    <g>\n",
              "        <path d=\"M19 3H5c-1.1 0-2 .9-2 2v14c0 1.1.9 2 2 2h14c1.1 0 2-.9 2-2V5c0-1.1-.9-2-2-2zM9 17H7v-7h2v7zm4 0h-2V7h2v10zm4 0h-2v-4h2v4z\"/>\n",
              "    </g>\n",
              "</svg>\n",
              "  </button>\n",
              "\n",
              "<style>\n",
              "  .colab-df-quickchart {\n",
              "      --bg-color: #E8F0FE;\n",
              "      --fill-color: #1967D2;\n",
              "      --hover-bg-color: #E2EBFA;\n",
              "      --hover-fill-color: #174EA6;\n",
              "      --disabled-fill-color: #AAA;\n",
              "      --disabled-bg-color: #DDD;\n",
              "  }\n",
              "\n",
              "  [theme=dark] .colab-df-quickchart {\n",
              "      --bg-color: #3B4455;\n",
              "      --fill-color: #D2E3FC;\n",
              "      --hover-bg-color: #434B5C;\n",
              "      --hover-fill-color: #FFFFFF;\n",
              "      --disabled-bg-color: #3B4455;\n",
              "      --disabled-fill-color: #666;\n",
              "  }\n",
              "\n",
              "  .colab-df-quickchart {\n",
              "    background-color: var(--bg-color);\n",
              "    border: none;\n",
              "    border-radius: 50%;\n",
              "    cursor: pointer;\n",
              "    display: none;\n",
              "    fill: var(--fill-color);\n",
              "    height: 32px;\n",
              "    padding: 0;\n",
              "    width: 32px;\n",
              "  }\n",
              "\n",
              "  .colab-df-quickchart:hover {\n",
              "    background-color: var(--hover-bg-color);\n",
              "    box-shadow: 0 1px 2px rgba(60, 64, 67, 0.3), 0 1px 3px 1px rgba(60, 64, 67, 0.15);\n",
              "    fill: var(--button-hover-fill-color);\n",
              "  }\n",
              "\n",
              "  .colab-df-quickchart-complete:disabled,\n",
              "  .colab-df-quickchart-complete:disabled:hover {\n",
              "    background-color: var(--disabled-bg-color);\n",
              "    fill: var(--disabled-fill-color);\n",
              "    box-shadow: none;\n",
              "  }\n",
              "\n",
              "  .colab-df-spinner {\n",
              "    border: 2px solid var(--fill-color);\n",
              "    border-color: transparent;\n",
              "    border-bottom-color: var(--fill-color);\n",
              "    animation:\n",
              "      spin 1s steps(1) infinite;\n",
              "  }\n",
              "\n",
              "  @keyframes spin {\n",
              "    0% {\n",
              "      border-color: transparent;\n",
              "      border-bottom-color: var(--fill-color);\n",
              "      border-left-color: var(--fill-color);\n",
              "    }\n",
              "    20% {\n",
              "      border-color: transparent;\n",
              "      border-left-color: var(--fill-color);\n",
              "      border-top-color: var(--fill-color);\n",
              "    }\n",
              "    30% {\n",
              "      border-color: transparent;\n",
              "      border-left-color: var(--fill-color);\n",
              "      border-top-color: var(--fill-color);\n",
              "      border-right-color: var(--fill-color);\n",
              "    }\n",
              "    40% {\n",
              "      border-color: transparent;\n",
              "      border-right-color: var(--fill-color);\n",
              "      border-top-color: var(--fill-color);\n",
              "    }\n",
              "    60% {\n",
              "      border-color: transparent;\n",
              "      border-right-color: var(--fill-color);\n",
              "    }\n",
              "    80% {\n",
              "      border-color: transparent;\n",
              "      border-right-color: var(--fill-color);\n",
              "      border-bottom-color: var(--fill-color);\n",
              "    }\n",
              "    90% {\n",
              "      border-color: transparent;\n",
              "      border-bottom-color: var(--fill-color);\n",
              "    }\n",
              "  }\n",
              "</style>\n",
              "\n",
              "  <script>\n",
              "    async function quickchart(key) {\n",
              "      const quickchartButtonEl =\n",
              "        document.querySelector('#' + key + ' button');\n",
              "      quickchartButtonEl.disabled = true;  // To prevent multiple clicks.\n",
              "      quickchartButtonEl.classList.add('colab-df-spinner');\n",
              "      try {\n",
              "        const charts = await google.colab.kernel.invokeFunction(\n",
              "            'suggestCharts', [key], {});\n",
              "      } catch (error) {\n",
              "        console.error('Error during call to suggestCharts:', error);\n",
              "      }\n",
              "      quickchartButtonEl.classList.remove('colab-df-spinner');\n",
              "      quickchartButtonEl.classList.add('colab-df-quickchart-complete');\n",
              "    }\n",
              "    (() => {\n",
              "      let quickchartButtonEl =\n",
              "        document.querySelector('#df-eea52da8-2d18-4b79-beff-0af4806b5319 button');\n",
              "      quickchartButtonEl.style.display =\n",
              "        google.colab.kernel.accessAllowed ? 'block' : 'none';\n",
              "    })();\n",
              "  </script>\n",
              "</div>\n",
              "\n",
              "  <div id=\"id_f4877400-ae90-40d7-90c8-95741cc47ede\">\n",
              "    <style>\n",
              "      .colab-df-generate {\n",
              "        background-color: #E8F0FE;\n",
              "        border: none;\n",
              "        border-radius: 50%;\n",
              "        cursor: pointer;\n",
              "        display: none;\n",
              "        fill: #1967D2;\n",
              "        height: 32px;\n",
              "        padding: 0 0 0 0;\n",
              "        width: 32px;\n",
              "      }\n",
              "\n",
              "      .colab-df-generate:hover {\n",
              "        background-color: #E2EBFA;\n",
              "        box-shadow: 0px 1px 2px rgba(60, 64, 67, 0.3), 0px 1px 3px 1px rgba(60, 64, 67, 0.15);\n",
              "        fill: #174EA6;\n",
              "      }\n",
              "\n",
              "      [theme=dark] .colab-df-generate {\n",
              "        background-color: #3B4455;\n",
              "        fill: #D2E3FC;\n",
              "      }\n",
              "\n",
              "      [theme=dark] .colab-df-generate:hover {\n",
              "        background-color: #434B5C;\n",
              "        box-shadow: 0px 1px 3px 1px rgba(0, 0, 0, 0.15);\n",
              "        filter: drop-shadow(0px 1px 2px rgba(0, 0, 0, 0.3));\n",
              "        fill: #FFFFFF;\n",
              "      }\n",
              "    </style>\n",
              "    <button class=\"colab-df-generate\" onclick=\"generateWithVariable('ipos_filings')\"\n",
              "            title=\"Generate code using this dataframe.\"\n",
              "            style=\"display:none;\">\n",
              "\n",
              "  <svg xmlns=\"http://www.w3.org/2000/svg\" height=\"24px\"viewBox=\"0 0 24 24\"\n",
              "       width=\"24px\">\n",
              "    <path d=\"M7,19H8.4L18.45,9,17,7.55,7,17.6ZM5,21V16.75L18.45,3.32a2,2,0,0,1,2.83,0l1.4,1.43a1.91,1.91,0,0,1,.58,1.4,1.91,1.91,0,0,1-.58,1.4L9.25,21ZM18.45,9,17,7.55Zm-12,3A5.31,5.31,0,0,0,4.9,8.1,5.31,5.31,0,0,0,1,6.5,5.31,5.31,0,0,0,4.9,4.9,5.31,5.31,0,0,0,6.5,1,5.31,5.31,0,0,0,8.1,4.9,5.31,5.31,0,0,0,12,6.5,5.46,5.46,0,0,0,6.5,12Z\"/>\n",
              "  </svg>\n",
              "    </button>\n",
              "    <script>\n",
              "      (() => {\n",
              "      const buttonEl =\n",
              "        document.querySelector('#id_f4877400-ae90-40d7-90c8-95741cc47ede button.colab-df-generate');\n",
              "      buttonEl.style.display =\n",
              "        google.colab.kernel.accessAllowed ? 'block' : 'none';\n",
              "\n",
              "      buttonEl.onclick = () => {\n",
              "        google.colab.notebook.generateWithVariable('ipos_filings');\n",
              "      }\n",
              "      })();\n",
              "    </script>\n",
              "  </div>\n",
              "\n",
              "    </div>\n",
              "  </div>\n"
            ],
            "application/vnd.google.colaboratory.intrinsic+json": {
              "type": "dataframe",
              "variable_name": "ipos_filings",
              "summary": "{\n  \"name\": \"ipos_filings\",\n  \"rows\": 325,\n  \"fields\": [\n    {\n      \"column\": \"Filing Date\",\n      \"properties\": {\n        \"dtype\": \"date\",\n        \"min\": \"2018-12-27 00:00:00\",\n        \"max\": \"2024-05-03 00:00:00\",\n        \"num_unique_values\": 256,\n        \"samples\": [\n          \"2021-03-29 00:00:00\",\n          \"2024-04-15 00:00:00\",\n          \"2023-09-07 00:00:00\"\n        ],\n        \"semantic_type\": \"\",\n        \"description\": \"\"\n      }\n    },\n    {\n      \"column\": \"Symbol\",\n      \"properties\": {\n        \"dtype\": \"string\",\n        \"num_unique_values\": 325,\n        \"samples\": [\n          \"WYTC\",\n          \"NAMI\",\n          \"BXHA\"\n        ],\n        \"semantic_type\": \"\",\n        \"description\": \"\"\n      }\n    },\n    {\n      \"column\": \"Company Name\",\n      \"properties\": {\n        \"dtype\": \"string\",\n        \"num_unique_values\": 325,\n        \"samples\": [\n          \"Wytec International, Inc.\",\n          \"Jinxin Technology Holding Company\",\n          \"Bombax Healthcare Acquisition Corporation\"\n        ],\n        \"semantic_type\": \"\",\n        \"description\": \"\"\n      }\n    },\n    {\n      \"column\": \"Price Range\",\n      \"properties\": {\n        \"dtype\": \"category\",\n        \"num_unique_values\": 45,\n        \"samples\": [\n          \"$7.00 - $9.00\",\n          \"$5.50\",\n          \"$20.00\"\n        ],\n        \"semantic_type\": \"\",\n        \"description\": \"\"\n      }\n    },\n    {\n      \"column\": \"Shares Offered\",\n      \"properties\": {\n        \"dtype\": \"number\",\n        \"std\": 10834449.06730656,\n        \"min\": 360000.0,\n        \"max\": 100000000.0,\n        \"num_unique_values\": 81,\n        \"samples\": [\n          800000.0,\n          3750000.0,\n          1500000.0\n        ],\n        \"semantic_type\": \"\",\n        \"description\": \"\"\n      }\n    }\n  ]\n}"
            }
          },
          "metadata": {},
          "execution_count": 10
        }
      ]
    },
    {
      "cell_type": "code",
      "source": [
        "# ipos_filings['Avg_price'] = ipos_filings['Current'] - stacked_ipos_df['IPO Price']\n"
      ],
      "metadata": {
        "id": "9Tr7JtLgqkhb"
      },
      "execution_count": 11,
      "outputs": []
    },
    {
      "cell_type": "code",
      "source": [
        "import re\n",
        "import numpy as np\n",
        "\n",
        "def extract_numbers(input_string):\n",
        "    # num1 = re.search(r'$(\\d+)', input_string)\n",
        "    # num2 = re.search(r'-$(\\d+)', input_string)\n",
        "    print(input_string)\n",
        "    numbers = re.findall(r\"\\d+\\.\\d+\", input_string)  # 提取所有数字\n",
        "    print(numbers)\n",
        "    # fnum1 = int(y_match.group(1)) if y_match\n",
        "    # fnum2 = int(m_match.group(1)) if m_match\n",
        "    print(len(numbers))\n",
        "    if len(numbers) == 0:\n",
        "      return np.nan\n",
        "    elif len(numbers) == 1:\n",
        "      return float(numbers[0])\n",
        "    else:\n",
        "      return (float(numbers[0]) + float(numbers[1]))/2\n",
        "\n",
        "# Examples\n",
        "examples = [\"$8.00 - $10.00\", \"$10.00\", \"-\"]\n",
        "for example in examples:\n",
        "    print(example)\n",
        "    res = extract_numbers(example)\n",
        "    print(f\"{example} ==> {res}\")\n",
        "\n"
      ],
      "metadata": {
        "id": "7T3Z4xWEsJ-C",
        "colab": {
          "base_uri": "https://localhost:8080/"
        },
        "outputId": "49e7b655-7f51-40c7-f107-96924b80a720"
      },
      "execution_count": 12,
      "outputs": [
        {
          "output_type": "stream",
          "name": "stdout",
          "text": [
            "$8.00 - $10.00\n",
            "$8.00 - $10.00\n",
            "['8.00', '10.00']\n",
            "2\n",
            "$8.00 - $10.00 ==> 9.0\n",
            "$10.00\n",
            "$10.00\n",
            "['10.00']\n",
            "1\n",
            "$10.00 ==> 10.0\n",
            "-\n",
            "-\n",
            "[]\n",
            "0\n",
            "- ==> nan\n"
          ]
        }
      ]
    },
    {
      "cell_type": "code",
      "source": [
        "# str_ = \"$5.00 - $6.50\"\n",
        "# numbers = re.findall(r\"\\d+\\.\\d+\", str_)  # 提取所有数字\n",
        "# print(numbers)  # 输出结果：['5.00', '6.50']"
      ],
      "metadata": {
        "id": "8XyK-GcVsJCr"
      },
      "execution_count": 13,
      "outputs": []
    },
    {
      "cell_type": "markdown",
      "source": [],
      "metadata": {
        "id": "i1ODE4RxNrTz"
      }
    },
    {
      "cell_type": "code",
      "source": [
        "ipos_filings['Avg_price'] = ipos_filings['Price Range'].apply(lambda x:extract_numbers(x))"
      ],
      "metadata": {
        "id": "8Sf4EmrAtPHH",
        "colab": {
          "base_uri": "https://localhost:8080/"
        },
        "outputId": "649b364f-ada0-4830-808f-2474ce8d2aad"
      },
      "execution_count": 14,
      "outputs": [
        {
          "output_type": "stream",
          "name": "stdout",
          "text": [
            "-\n",
            "[]\n",
            "0\n",
            "$3.00\n",
            "['3.00']\n",
            "1\n",
            "$10.00\n",
            "['10.00']\n",
            "1\n",
            "$10.00\n",
            "['10.00']\n",
            "1\n",
            "-\n",
            "[]\n",
            "0\n",
            "$5.00\n",
            "['5.00']\n",
            "1\n",
            "$10.00\n",
            "['10.00']\n",
            "1\n",
            "$5.00\n",
            "['5.00']\n",
            "1\n",
            "-\n",
            "[]\n",
            "0\n",
            "-\n",
            "[]\n",
            "0\n",
            "$4.00 - $5.00\n",
            "['4.00', '5.00']\n",
            "2\n",
            "$4.00 - $4.50\n",
            "['4.00', '4.50']\n",
            "2\n",
            "$4.00 - $5.00\n",
            "['4.00', '5.00']\n",
            "2\n",
            "-\n",
            "[]\n",
            "0\n",
            "-\n",
            "[]\n",
            "0\n",
            "$4.00 - $5.00\n",
            "['4.00', '5.00']\n",
            "2\n",
            "$5.00 - $6.00\n",
            "['5.00', '6.00']\n",
            "2\n",
            "-\n",
            "[]\n",
            "0\n",
            "$10.00\n",
            "['10.00']\n",
            "1\n",
            "-\n",
            "[]\n",
            "0\n",
            "$5.00 - $7.00\n",
            "['5.00', '7.00']\n",
            "2\n",
            "-\n",
            "[]\n",
            "0\n",
            "$4.00 - $6.00\n",
            "['4.00', '6.00']\n",
            "2\n",
            "$10.00\n",
            "['10.00']\n",
            "1\n",
            "-\n",
            "[]\n",
            "0\n",
            "$4.00 - $6.00\n",
            "['4.00', '6.00']\n",
            "2\n",
            "-\n",
            "[]\n",
            "0\n",
            "$3.00 - $4.00\n",
            "['3.00', '4.00']\n",
            "2\n",
            "-\n",
            "[]\n",
            "0\n",
            "$4.00 - $5.00\n",
            "['4.00', '5.00']\n",
            "2\n",
            "$4.00\n",
            "['4.00']\n",
            "1\n",
            "$4.00 - $5.00\n",
            "['4.00', '5.00']\n",
            "2\n",
            "$4.00 - $5.00\n",
            "['4.00', '5.00']\n",
            "2\n",
            "$4.13\n",
            "['4.13']\n",
            "1\n",
            "-\n",
            "[]\n",
            "0\n",
            "-\n",
            "[]\n",
            "0\n",
            "$5.00\n",
            "['5.00']\n",
            "1\n",
            "$4.00 - $5.00\n",
            "['4.00', '5.00']\n",
            "2\n",
            "-\n",
            "[]\n",
            "0\n",
            "$4.00 - $6.00\n",
            "['4.00', '6.00']\n",
            "2\n",
            "$4.00 - $5.00\n",
            "['4.00', '5.00']\n",
            "2\n",
            "$5.00 - $6.00\n",
            "['5.00', '6.00']\n",
            "2\n",
            "-\n",
            "[]\n",
            "0\n",
            "$10.00 - $14.00\n",
            "['10.00', '14.00']\n",
            "2\n",
            "$4.00 - $6.00\n",
            "['4.00', '6.00']\n",
            "2\n",
            "-\n",
            "[]\n",
            "0\n",
            "$4.00 - $6.00\n",
            "['4.00', '6.00']\n",
            "2\n",
            "-\n",
            "[]\n",
            "0\n",
            "-\n",
            "[]\n",
            "0\n",
            "$10.00\n",
            "['10.00']\n",
            "1\n",
            "$3.50 - $4.50\n",
            "['3.50', '4.50']\n",
            "2\n",
            "-\n",
            "[]\n",
            "0\n",
            "$7.00 - $8.00\n",
            "['7.00', '8.00']\n",
            "2\n",
            "$4.00 - $5.00\n",
            "['4.00', '5.00']\n",
            "2\n",
            "-\n",
            "[]\n",
            "0\n",
            "-\n",
            "[]\n",
            "0\n",
            "$4.00 - $6.00\n",
            "['4.00', '6.00']\n",
            "2\n",
            "$8.00 - $10.00\n",
            "['8.00', '10.00']\n",
            "2\n",
            "-\n",
            "[]\n",
            "0\n",
            "$11.25 - $13.75\n",
            "['11.25', '13.75']\n",
            "2\n",
            "-\n",
            "[]\n",
            "0\n",
            "-\n",
            "[]\n",
            "0\n",
            "$4.00 - $6.00\n",
            "['4.00', '6.00']\n",
            "2\n",
            "$4.00 - $6.00\n",
            "['4.00', '6.00']\n",
            "2\n",
            "-\n",
            "[]\n",
            "0\n",
            "$10.00\n",
            "['10.00']\n",
            "1\n",
            "-\n",
            "[]\n",
            "0\n",
            "$4.00\n",
            "['4.00']\n",
            "1\n",
            "$5.00\n",
            "['5.00']\n",
            "1\n",
            "$4.00 - $5.00\n",
            "['4.00', '5.00']\n",
            "2\n",
            "$4.00 - $5.00\n",
            "['4.00', '5.00']\n",
            "2\n",
            "-\n",
            "[]\n",
            "0\n",
            "$10.00\n",
            "['10.00']\n",
            "1\n",
            "$4.00 - $4.75\n",
            "['4.00', '4.75']\n",
            "2\n",
            "$5.00\n",
            "['5.00']\n",
            "1\n",
            "$3.50 - $4.50\n",
            "['3.50', '4.50']\n",
            "2\n",
            "$8.00 - $10.00\n",
            "['8.00', '10.00']\n",
            "2\n",
            "$4.00 - $5.00\n",
            "['4.00', '5.00']\n",
            "2\n",
            "$4.00 - $6.00\n",
            "['4.00', '6.00']\n",
            "2\n",
            "$4.30\n",
            "['4.30']\n",
            "1\n",
            "$9.00 - $11.00\n",
            "['9.00', '11.00']\n",
            "2\n",
            "-\n",
            "[]\n",
            "0\n",
            "$4.00 - $5.00\n",
            "['4.00', '5.00']\n",
            "2\n",
            "$5.00 - $7.00\n",
            "['5.00', '7.00']\n",
            "2\n",
            "$4.00 - $6.00\n",
            "['4.00', '6.00']\n",
            "2\n",
            "$10.00\n",
            "['10.00']\n",
            "1\n",
            "$3.00 - $5.00\n",
            "['3.00', '5.00']\n",
            "2\n",
            "$4.50 - $5.50\n",
            "['4.50', '5.50']\n",
            "2\n",
            "-\n",
            "[]\n",
            "0\n",
            "$4.00\n",
            "['4.00']\n",
            "1\n",
            "$4.00 - $5.00\n",
            "['4.00', '5.00']\n",
            "2\n",
            "$5.75 - $6.75\n",
            "['5.75', '6.75']\n",
            "2\n",
            "$4.00\n",
            "['4.00']\n",
            "1\n",
            "$5.00 - $7.00\n",
            "['5.00', '7.00']\n",
            "2\n",
            "-\n",
            "[]\n",
            "0\n",
            "-\n",
            "[]\n",
            "0\n",
            "$4.00\n",
            "['4.00']\n",
            "1\n",
            "$5.00 - $6.00\n",
            "['5.00', '6.00']\n",
            "2\n",
            "$4.00 - $6.00\n",
            "['4.00', '6.00']\n",
            "2\n",
            "$8.00 - $9.00\n",
            "['8.00', '9.00']\n",
            "2\n",
            "$5.00 - $6.00\n",
            "['5.00', '6.00']\n",
            "2\n",
            "$4.00 - $5.00\n",
            "['4.00', '5.00']\n",
            "2\n",
            "$10.00\n",
            "['10.00']\n",
            "1\n",
            "$4.00 - $6.00\n",
            "['4.00', '6.00']\n",
            "2\n",
            "$4.00\n",
            "['4.00']\n",
            "1\n",
            "-\n",
            "[]\n",
            "0\n",
            "$10.00\n",
            "['10.00']\n",
            "1\n",
            "-\n",
            "[]\n",
            "0\n",
            "$4.00 - $5.00\n",
            "['4.00', '5.00']\n",
            "2\n",
            "-\n",
            "[]\n",
            "0\n",
            "$4.00 - $5.00\n",
            "['4.00', '5.00']\n",
            "2\n",
            "$5.00\n",
            "['5.00']\n",
            "1\n",
            "$5.00\n",
            "['5.00']\n",
            "1\n",
            "-\n",
            "[]\n",
            "0\n",
            "$4.00 - $5.00\n",
            "['4.00', '5.00']\n",
            "2\n",
            "$4.35 - $6.35\n",
            "['4.35', '6.35']\n",
            "2\n",
            "$10.00\n",
            "['10.00']\n",
            "1\n",
            "-\n",
            "[]\n",
            "0\n",
            "$4.00 - $5.00\n",
            "['4.00', '5.00']\n",
            "2\n",
            "$4.00 - $5.00\n",
            "['4.00', '5.00']\n",
            "2\n",
            "$5.50\n",
            "['5.50']\n",
            "1\n",
            "$4.00 - $5.00\n",
            "['4.00', '5.00']\n",
            "2\n",
            "$5.00\n",
            "['5.00']\n",
            "1\n",
            "$5.00\n",
            "['5.00']\n",
            "1\n",
            "$20.00\n",
            "['20.00']\n",
            "1\n",
            "$5.00 - $6.00\n",
            "['5.00', '6.00']\n",
            "2\n",
            "$5.00 - $8.00\n",
            "['5.00', '8.00']\n",
            "2\n",
            "$3.00 - $4.00\n",
            "['3.00', '4.00']\n",
            "2\n",
            "-\n",
            "[]\n",
            "0\n",
            "$4.50 - $5.50\n",
            "['4.50', '5.50']\n",
            "2\n",
            "$4.00 - $5.00\n",
            "['4.00', '5.00']\n",
            "2\n",
            "$10.00\n",
            "['10.00']\n",
            "1\n",
            "$10.00\n",
            "['10.00']\n",
            "1\n",
            "$4.00 - $5.00\n",
            "['4.00', '5.00']\n",
            "2\n",
            "$4.00 - $5.00\n",
            "['4.00', '5.00']\n",
            "2\n",
            "$4.00 - $6.00\n",
            "['4.00', '6.00']\n",
            "2\n",
            "$4.00\n",
            "['4.00']\n",
            "1\n",
            "$4.00\n",
            "['4.00']\n",
            "1\n",
            "$4.00\n",
            "['4.00']\n",
            "1\n",
            "$4.00 - $5.00\n",
            "['4.00', '5.00']\n",
            "2\n",
            "$5.00\n",
            "['5.00']\n",
            "1\n",
            "$4.00 - $6.00\n",
            "['4.00', '6.00']\n",
            "2\n",
            "-\n",
            "[]\n",
            "0\n",
            "-\n",
            "[]\n",
            "0\n",
            "$4.00 - $6.00\n",
            "['4.00', '6.00']\n",
            "2\n",
            "$10.00\n",
            "['10.00']\n",
            "1\n",
            "$4.00 - $5.00\n",
            "['4.00', '5.00']\n",
            "2\n",
            "$4.00\n",
            "['4.00']\n",
            "1\n",
            "-\n",
            "[]\n",
            "0\n",
            "$6.00 - $6.50\n",
            "['6.00', '6.50']\n",
            "2\n",
            "$4.00 - $6.00\n",
            "['4.00', '6.00']\n",
            "2\n",
            "$10.00\n",
            "['10.00']\n",
            "1\n",
            "$6.00 - $7.00\n",
            "['6.00', '7.00']\n",
            "2\n",
            "$4.00 - $5.00\n",
            "['4.00', '5.00']\n",
            "2\n",
            "$5.00 - $7.00\n",
            "['5.00', '7.00']\n",
            "2\n",
            "-\n",
            "[]\n",
            "0\n",
            "$4.00 - $6.00\n",
            "['4.00', '6.00']\n",
            "2\n",
            "$4.00 - $6.00\n",
            "['4.00', '6.00']\n",
            "2\n",
            "$6.00 - $7.00\n",
            "['6.00', '7.00']\n",
            "2\n",
            "-\n",
            "[]\n",
            "0\n",
            "-\n",
            "[]\n",
            "0\n",
            "-\n",
            "[]\n",
            "0\n",
            "$4.00 - $5.00\n",
            "['4.00', '5.00']\n",
            "2\n",
            "$4.00 - $6.00\n",
            "['4.00', '6.00']\n",
            "2\n",
            "-\n",
            "[]\n",
            "0\n",
            "$4.00 - $5.00\n",
            "['4.00', '5.00']\n",
            "2\n",
            "$4.00 - $6.00\n",
            "['4.00', '6.00']\n",
            "2\n",
            "$5.00 - $6.00\n",
            "['5.00', '6.00']\n",
            "2\n",
            "$4.00 - $5.00\n",
            "['4.00', '5.00']\n",
            "2\n",
            "-\n",
            "[]\n",
            "0\n",
            "$4.00\n",
            "['4.00']\n",
            "1\n",
            "$6.00\n",
            "['6.00']\n",
            "1\n",
            "$5.00\n",
            "['5.00']\n",
            "1\n",
            "$5.00\n",
            "['5.00']\n",
            "1\n",
            "$5.00\n",
            "['5.00']\n",
            "1\n",
            "-\n",
            "[]\n",
            "0\n",
            "$10.00\n",
            "['10.00']\n",
            "1\n",
            "-\n",
            "[]\n",
            "0\n",
            "$4.00 - $6.00\n",
            "['4.00', '6.00']\n",
            "2\n",
            "$4.00 - $6.00\n",
            "['4.00', '6.00']\n",
            "2\n",
            "$4.45\n",
            "['4.45']\n",
            "1\n",
            "$5.00\n",
            "['5.00']\n",
            "1\n",
            "$4.00 - $6.00\n",
            "['4.00', '6.00']\n",
            "2\n",
            "$8.00\n",
            "['8.00']\n",
            "1\n",
            "$4.00 - $6.00\n",
            "['4.00', '6.00']\n",
            "2\n",
            "$5.00 - $6.00\n",
            "['5.00', '6.00']\n",
            "2\n",
            "$4.00 - $6.00\n",
            "['4.00', '6.00']\n",
            "2\n",
            "-\n",
            "[]\n",
            "0\n",
            "$15.00\n",
            "['15.00']\n",
            "1\n",
            "$6.00\n",
            "['6.00']\n",
            "1\n",
            "$5.00\n",
            "['5.00']\n",
            "1\n",
            "$10.00\n",
            "['10.00']\n",
            "1\n",
            "$4.13\n",
            "['4.13']\n",
            "1\n",
            "$4.00 - $5.00\n",
            "['4.00', '5.00']\n",
            "2\n",
            "$4.00 - $6.00\n",
            "['4.00', '6.00']\n",
            "2\n",
            "$6.25\n",
            "['6.25']\n",
            "1\n",
            "$10.00\n",
            "['10.00']\n",
            "1\n",
            "$5.00 - $6.00\n",
            "['5.00', '6.00']\n",
            "2\n",
            "$4.25 - $6.25\n",
            "['4.25', '6.25']\n",
            "2\n",
            "$5.00 - $6.00\n",
            "['5.00', '6.00']\n",
            "2\n",
            "$10.00\n",
            "['10.00']\n",
            "1\n",
            "$10.00\n",
            "['10.00']\n",
            "1\n",
            "-\n",
            "[]\n",
            "0\n",
            "$4.00 - $6.00\n",
            "['4.00', '6.00']\n",
            "2\n",
            "$4.00\n",
            "['4.00']\n",
            "1\n",
            "$4.00 - $6.00\n",
            "['4.00', '6.00']\n",
            "2\n",
            "$5.00\n",
            "['5.00']\n",
            "1\n",
            "$5.20 - $7.20\n",
            "['5.20', '7.20']\n",
            "2\n",
            "$4.00\n",
            "['4.00']\n",
            "1\n",
            "$10.00\n",
            "['10.00']\n",
            "1\n",
            "$10.00\n",
            "['10.00']\n",
            "1\n",
            "$4.00 - $5.00\n",
            "['4.00', '5.00']\n",
            "2\n",
            "-\n",
            "[]\n",
            "0\n",
            "$10.00\n",
            "['10.00']\n",
            "1\n",
            "-\n",
            "[]\n",
            "0\n",
            "$10.00\n",
            "['10.00']\n",
            "1\n",
            "$4.50 - $6.50\n",
            "['4.50', '6.50']\n",
            "2\n",
            "$4.00 - $5.00\n",
            "['4.00', '5.00']\n",
            "2\n",
            "$4.00 - $5.00\n",
            "['4.00', '5.00']\n",
            "2\n",
            "-\n",
            "[]\n",
            "0\n",
            "$5.00\n",
            "['5.00']\n",
            "1\n",
            "$10.00\n",
            "['10.00']\n",
            "1\n",
            "$10.00\n",
            "['10.00']\n",
            "1\n",
            "$10.00\n",
            "['10.00']\n",
            "1\n",
            "$4.50 - $5.50\n",
            "['4.50', '5.50']\n",
            "2\n",
            "$4.00 - $6.00\n",
            "['4.00', '6.00']\n",
            "2\n",
            "$4.00 - $6.00\n",
            "['4.00', '6.00']\n",
            "2\n",
            "-\n",
            "[]\n",
            "0\n",
            "$10.00\n",
            "['10.00']\n",
            "1\n",
            "-\n",
            "[]\n",
            "0\n",
            "-\n",
            "[]\n",
            "0\n",
            "$4.00 - $4.50\n",
            "['4.00', '4.50']\n",
            "2\n",
            "$10.00\n",
            "['10.00']\n",
            "1\n",
            "$10.00\n",
            "['10.00']\n",
            "1\n",
            "$4.25\n",
            "['4.25']\n",
            "1\n",
            "$10.00\n",
            "['10.00']\n",
            "1\n",
            "$10.00\n",
            "['10.00']\n",
            "1\n",
            "$10.00\n",
            "['10.00']\n",
            "1\n",
            "$10.00\n",
            "['10.00']\n",
            "1\n",
            "$10.00\n",
            "['10.00']\n",
            "1\n",
            "$10.00\n",
            "['10.00']\n",
            "1\n",
            "$5.00 - $7.00\n",
            "['5.00', '7.00']\n",
            "2\n",
            "$10.00\n",
            "['10.00']\n",
            "1\n",
            "-\n",
            "[]\n",
            "0\n",
            "$10.00\n",
            "['10.00']\n",
            "1\n",
            "$10.00\n",
            "['10.00']\n",
            "1\n",
            "$10.00\n",
            "['10.00']\n",
            "1\n",
            "$7.00 - $9.00\n",
            "['7.00', '9.00']\n",
            "2\n",
            "$10.00\n",
            "['10.00']\n",
            "1\n",
            "$5.75\n",
            "['5.75']\n",
            "1\n",
            "$10.00\n",
            "['10.00']\n",
            "1\n",
            "$10.00\n",
            "['10.00']\n",
            "1\n",
            "$10.00\n",
            "['10.00']\n",
            "1\n",
            "$10.00\n",
            "['10.00']\n",
            "1\n",
            "$5.00\n",
            "['5.00']\n",
            "1\n",
            "$6.00\n",
            "['6.00']\n",
            "1\n",
            "$10.00\n",
            "['10.00']\n",
            "1\n",
            "$10.00\n",
            "['10.00']\n",
            "1\n",
            "$10.00\n",
            "['10.00']\n",
            "1\n",
            "$10.00\n",
            "['10.00']\n",
            "1\n",
            "$10.00\n",
            "['10.00']\n",
            "1\n",
            "$10.00\n",
            "['10.00']\n",
            "1\n",
            "$10.00\n",
            "['10.00']\n",
            "1\n",
            "$10.00\n",
            "['10.00']\n",
            "1\n",
            "-\n",
            "[]\n",
            "0\n",
            "$10.00\n",
            "['10.00']\n",
            "1\n",
            "$10.00\n",
            "['10.00']\n",
            "1\n",
            "$18.00 - $20.00\n",
            "['18.00', '20.00']\n",
            "2\n",
            "$10.00\n",
            "['10.00']\n",
            "1\n",
            "$10.00\n",
            "['10.00']\n",
            "1\n",
            "$10.00\n",
            "['10.00']\n",
            "1\n",
            "-\n",
            "[]\n",
            "0\n",
            "-\n",
            "[]\n",
            "0\n",
            "$4.00 - $6.00\n",
            "['4.00', '6.00']\n",
            "2\n",
            "-\n",
            "[]\n",
            "0\n",
            "$10.00\n",
            "['10.00']\n",
            "1\n",
            "$10.00\n",
            "['10.00']\n",
            "1\n",
            "$10.00\n",
            "['10.00']\n",
            "1\n",
            "$10.00\n",
            "['10.00']\n",
            "1\n",
            "$10.00\n",
            "['10.00']\n",
            "1\n",
            "$10.00\n",
            "['10.00']\n",
            "1\n",
            "$10.00\n",
            "['10.00']\n",
            "1\n",
            "$10.00\n",
            "['10.00']\n",
            "1\n",
            "$10.00\n",
            "['10.00']\n",
            "1\n",
            "$10.00\n",
            "['10.00']\n",
            "1\n",
            "$10.00\n",
            "['10.00']\n",
            "1\n",
            "$10.00\n",
            "['10.00']\n",
            "1\n",
            "$10.00\n",
            "['10.00']\n",
            "1\n",
            "$10.00\n",
            "['10.00']\n",
            "1\n",
            "$10.00\n",
            "['10.00']\n",
            "1\n",
            "$10.00\n",
            "['10.00']\n",
            "1\n",
            "$10.00\n",
            "['10.00']\n",
            "1\n",
            "$10.00\n",
            "['10.00']\n",
            "1\n",
            "$10.00\n",
            "['10.00']\n",
            "1\n",
            "$10.00\n",
            "['10.00']\n",
            "1\n",
            "$10.00\n",
            "['10.00']\n",
            "1\n",
            "$10.00\n",
            "['10.00']\n",
            "1\n",
            "$10.00\n",
            "['10.00']\n",
            "1\n",
            "$4.00 - $6.00\n",
            "['4.00', '6.00']\n",
            "2\n",
            "$10.00\n",
            "['10.00']\n",
            "1\n",
            "-\n",
            "[]\n",
            "0\n",
            "$10.00\n",
            "['10.00']\n",
            "1\n",
            "$10.00\n",
            "['10.00']\n",
            "1\n",
            "$5.50\n",
            "['5.50']\n",
            "1\n",
            "$10.00\n",
            "['10.00']\n",
            "1\n",
            "$10.00\n",
            "['10.00']\n",
            "1\n",
            "$10.00\n",
            "['10.00']\n",
            "1\n",
            "$10.00\n",
            "['10.00']\n",
            "1\n",
            "$10.00\n",
            "['10.00']\n",
            "1\n",
            "$10.00\n",
            "['10.00']\n",
            "1\n",
            "$10.00\n",
            "['10.00']\n",
            "1\n",
            "$10.00\n",
            "['10.00']\n",
            "1\n",
            "$10.00\n",
            "['10.00']\n",
            "1\n",
            "$7.00 - $7.50\n",
            "['7.00', '7.50']\n",
            "2\n",
            "-\n",
            "[]\n",
            "0\n",
            "$8.50 - $9.50\n",
            "['8.50', '9.50']\n",
            "2\n",
            "-\n",
            "[]\n",
            "0\n",
            "-\n",
            "[]\n",
            "0\n",
            "$4.00 - $6.00\n",
            "['4.00', '6.00']\n",
            "2\n",
            "-\n",
            "[]\n",
            "0\n",
            "$8.00 - $10.00\n",
            "['8.00', '10.00']\n",
            "2\n",
            "$10.00\n",
            "['10.00']\n",
            "1\n",
            "$8.00 - $10.00\n",
            "['8.00', '10.00']\n",
            "2\n",
            "$4.00\n",
            "['4.00']\n",
            "1\n",
            "$5.00 - $6.50\n",
            "['5.00', '6.50']\n",
            "2\n"
          ]
        }
      ]
    },
    {
      "cell_type": "code",
      "source": [
        "ipos_filings"
      ],
      "metadata": {
        "id": "4B_Nq8ejvS-g",
        "colab": {
          "base_uri": "https://localhost:8080/",
          "height": 423
        },
        "outputId": "03789494-3d9c-45b0-b00c-3a5f34b2bf49"
      },
      "execution_count": 15,
      "outputs": [
        {
          "output_type": "execute_result",
          "data": {
            "text/plain": [
              "    Filing Date Symbol                           Company Name     Price Range  \\\n",
              "0    2024-05-03    TBN         Tamboran Resources Corporation               -   \n",
              "1    2024-04-29   HWEC                   HW Electro Co., Ltd.           $3.00   \n",
              "2    2024-04-29   DTSQ  DT Cloud Star Acquisition Corporation          $10.00   \n",
              "3    2024-04-26   EURK                Eureka Acquisition Corp          $10.00   \n",
              "4    2024-04-26    HDL    Super Hi International Holding Ltd.               -   \n",
              "..          ...    ...                                    ...             ...   \n",
              "320  2020-01-21   GOXS                            Goxus, Inc.  $8.00 - $10.00   \n",
              "321  2020-01-21   UTXO                 UTXO Acquisition, Inc.          $10.00   \n",
              "322  2019-12-09   LOHA                           Loha Co. Ltd  $8.00 - $10.00   \n",
              "323  2019-10-04   ZGHB  China Eco-Materials Group Co. Limited           $4.00   \n",
              "324  2018-12-27   FBOX              Fit Boxx Holdings Limited   $5.00 - $6.50   \n",
              "\n",
              "     Shares Offered  Avg_price  \n",
              "0               NaN        NaN  \n",
              "1         3750000.0       3.00  \n",
              "2         6000000.0      10.00  \n",
              "3         5000000.0      10.00  \n",
              "4               NaN        NaN  \n",
              "..              ...        ...  \n",
              "320       1500000.0       9.00  \n",
              "321       5000000.0      10.00  \n",
              "322       2500000.0       9.00  \n",
              "323       4300000.0       4.00  \n",
              "324       2000000.0       5.75  \n",
              "\n",
              "[325 rows x 6 columns]"
            ],
            "text/html": [
              "\n",
              "  <div id=\"df-d8a41ead-c582-45d9-9aa6-fef85fb84ee6\" class=\"colab-df-container\">\n",
              "    <div>\n",
              "<style scoped>\n",
              "    .dataframe tbody tr th:only-of-type {\n",
              "        vertical-align: middle;\n",
              "    }\n",
              "\n",
              "    .dataframe tbody tr th {\n",
              "        vertical-align: top;\n",
              "    }\n",
              "\n",
              "    .dataframe thead th {\n",
              "        text-align: right;\n",
              "    }\n",
              "</style>\n",
              "<table border=\"1\" class=\"dataframe\">\n",
              "  <thead>\n",
              "    <tr style=\"text-align: right;\">\n",
              "      <th></th>\n",
              "      <th>Filing Date</th>\n",
              "      <th>Symbol</th>\n",
              "      <th>Company Name</th>\n",
              "      <th>Price Range</th>\n",
              "      <th>Shares Offered</th>\n",
              "      <th>Avg_price</th>\n",
              "    </tr>\n",
              "  </thead>\n",
              "  <tbody>\n",
              "    <tr>\n",
              "      <th>0</th>\n",
              "      <td>2024-05-03</td>\n",
              "      <td>TBN</td>\n",
              "      <td>Tamboran Resources Corporation</td>\n",
              "      <td>-</td>\n",
              "      <td>NaN</td>\n",
              "      <td>NaN</td>\n",
              "    </tr>\n",
              "    <tr>\n",
              "      <th>1</th>\n",
              "      <td>2024-04-29</td>\n",
              "      <td>HWEC</td>\n",
              "      <td>HW Electro Co., Ltd.</td>\n",
              "      <td>$3.00</td>\n",
              "      <td>3750000.0</td>\n",
              "      <td>3.00</td>\n",
              "    </tr>\n",
              "    <tr>\n",
              "      <th>2</th>\n",
              "      <td>2024-04-29</td>\n",
              "      <td>DTSQ</td>\n",
              "      <td>DT Cloud Star Acquisition Corporation</td>\n",
              "      <td>$10.00</td>\n",
              "      <td>6000000.0</td>\n",
              "      <td>10.00</td>\n",
              "    </tr>\n",
              "    <tr>\n",
              "      <th>3</th>\n",
              "      <td>2024-04-26</td>\n",
              "      <td>EURK</td>\n",
              "      <td>Eureka Acquisition Corp</td>\n",
              "      <td>$10.00</td>\n",
              "      <td>5000000.0</td>\n",
              "      <td>10.00</td>\n",
              "    </tr>\n",
              "    <tr>\n",
              "      <th>4</th>\n",
              "      <td>2024-04-26</td>\n",
              "      <td>HDL</td>\n",
              "      <td>Super Hi International Holding Ltd.</td>\n",
              "      <td>-</td>\n",
              "      <td>NaN</td>\n",
              "      <td>NaN</td>\n",
              "    </tr>\n",
              "    <tr>\n",
              "      <th>...</th>\n",
              "      <td>...</td>\n",
              "      <td>...</td>\n",
              "      <td>...</td>\n",
              "      <td>...</td>\n",
              "      <td>...</td>\n",
              "      <td>...</td>\n",
              "    </tr>\n",
              "    <tr>\n",
              "      <th>320</th>\n",
              "      <td>2020-01-21</td>\n",
              "      <td>GOXS</td>\n",
              "      <td>Goxus, Inc.</td>\n",
              "      <td>$8.00 - $10.00</td>\n",
              "      <td>1500000.0</td>\n",
              "      <td>9.00</td>\n",
              "    </tr>\n",
              "    <tr>\n",
              "      <th>321</th>\n",
              "      <td>2020-01-21</td>\n",
              "      <td>UTXO</td>\n",
              "      <td>UTXO Acquisition, Inc.</td>\n",
              "      <td>$10.00</td>\n",
              "      <td>5000000.0</td>\n",
              "      <td>10.00</td>\n",
              "    </tr>\n",
              "    <tr>\n",
              "      <th>322</th>\n",
              "      <td>2019-12-09</td>\n",
              "      <td>LOHA</td>\n",
              "      <td>Loha Co. Ltd</td>\n",
              "      <td>$8.00 - $10.00</td>\n",
              "      <td>2500000.0</td>\n",
              "      <td>9.00</td>\n",
              "    </tr>\n",
              "    <tr>\n",
              "      <th>323</th>\n",
              "      <td>2019-10-04</td>\n",
              "      <td>ZGHB</td>\n",
              "      <td>China Eco-Materials Group Co. Limited</td>\n",
              "      <td>$4.00</td>\n",
              "      <td>4300000.0</td>\n",
              "      <td>4.00</td>\n",
              "    </tr>\n",
              "    <tr>\n",
              "      <th>324</th>\n",
              "      <td>2018-12-27</td>\n",
              "      <td>FBOX</td>\n",
              "      <td>Fit Boxx Holdings Limited</td>\n",
              "      <td>$5.00 - $6.50</td>\n",
              "      <td>2000000.0</td>\n",
              "      <td>5.75</td>\n",
              "    </tr>\n",
              "  </tbody>\n",
              "</table>\n",
              "<p>325 rows × 6 columns</p>\n",
              "</div>\n",
              "    <div class=\"colab-df-buttons\">\n",
              "\n",
              "  <div class=\"colab-df-container\">\n",
              "    <button class=\"colab-df-convert\" onclick=\"convertToInteractive('df-d8a41ead-c582-45d9-9aa6-fef85fb84ee6')\"\n",
              "            title=\"Convert this dataframe to an interactive table.\"\n",
              "            style=\"display:none;\">\n",
              "\n",
              "  <svg xmlns=\"http://www.w3.org/2000/svg\" height=\"24px\" viewBox=\"0 -960 960 960\">\n",
              "    <path d=\"M120-120v-720h720v720H120Zm60-500h600v-160H180v160Zm220 220h160v-160H400v160Zm0 220h160v-160H400v160ZM180-400h160v-160H180v160Zm440 0h160v-160H620v160ZM180-180h160v-160H180v160Zm440 0h160v-160H620v160Z\"/>\n",
              "  </svg>\n",
              "    </button>\n",
              "\n",
              "  <style>\n",
              "    .colab-df-container {\n",
              "      display:flex;\n",
              "      gap: 12px;\n",
              "    }\n",
              "\n",
              "    .colab-df-convert {\n",
              "      background-color: #E8F0FE;\n",
              "      border: none;\n",
              "      border-radius: 50%;\n",
              "      cursor: pointer;\n",
              "      display: none;\n",
              "      fill: #1967D2;\n",
              "      height: 32px;\n",
              "      padding: 0 0 0 0;\n",
              "      width: 32px;\n",
              "    }\n",
              "\n",
              "    .colab-df-convert:hover {\n",
              "      background-color: #E2EBFA;\n",
              "      box-shadow: 0px 1px 2px rgba(60, 64, 67, 0.3), 0px 1px 3px 1px rgba(60, 64, 67, 0.15);\n",
              "      fill: #174EA6;\n",
              "    }\n",
              "\n",
              "    .colab-df-buttons div {\n",
              "      margin-bottom: 4px;\n",
              "    }\n",
              "\n",
              "    [theme=dark] .colab-df-convert {\n",
              "      background-color: #3B4455;\n",
              "      fill: #D2E3FC;\n",
              "    }\n",
              "\n",
              "    [theme=dark] .colab-df-convert:hover {\n",
              "      background-color: #434B5C;\n",
              "      box-shadow: 0px 1px 3px 1px rgba(0, 0, 0, 0.15);\n",
              "      filter: drop-shadow(0px 1px 2px rgba(0, 0, 0, 0.3));\n",
              "      fill: #FFFFFF;\n",
              "    }\n",
              "  </style>\n",
              "\n",
              "    <script>\n",
              "      const buttonEl =\n",
              "        document.querySelector('#df-d8a41ead-c582-45d9-9aa6-fef85fb84ee6 button.colab-df-convert');\n",
              "      buttonEl.style.display =\n",
              "        google.colab.kernel.accessAllowed ? 'block' : 'none';\n",
              "\n",
              "      async function convertToInteractive(key) {\n",
              "        const element = document.querySelector('#df-d8a41ead-c582-45d9-9aa6-fef85fb84ee6');\n",
              "        const dataTable =\n",
              "          await google.colab.kernel.invokeFunction('convertToInteractive',\n",
              "                                                    [key], {});\n",
              "        if (!dataTable) return;\n",
              "\n",
              "        const docLinkHtml = 'Like what you see? Visit the ' +\n",
              "          '<a target=\"_blank\" href=https://colab.research.google.com/notebooks/data_table.ipynb>data table notebook</a>'\n",
              "          + ' to learn more about interactive tables.';\n",
              "        element.innerHTML = '';\n",
              "        dataTable['output_type'] = 'display_data';\n",
              "        await google.colab.output.renderOutput(dataTable, element);\n",
              "        const docLink = document.createElement('div');\n",
              "        docLink.innerHTML = docLinkHtml;\n",
              "        element.appendChild(docLink);\n",
              "      }\n",
              "    </script>\n",
              "  </div>\n",
              "\n",
              "\n",
              "<div id=\"df-e75af9ea-35ac-4a7f-a819-f1303d29acfa\">\n",
              "  <button class=\"colab-df-quickchart\" onclick=\"quickchart('df-e75af9ea-35ac-4a7f-a819-f1303d29acfa')\"\n",
              "            title=\"Suggest charts\"\n",
              "            style=\"display:none;\">\n",
              "\n",
              "<svg xmlns=\"http://www.w3.org/2000/svg\" height=\"24px\"viewBox=\"0 0 24 24\"\n",
              "     width=\"24px\">\n",
              "    <g>\n",
              "        <path d=\"M19 3H5c-1.1 0-2 .9-2 2v14c0 1.1.9 2 2 2h14c1.1 0 2-.9 2-2V5c0-1.1-.9-2-2-2zM9 17H7v-7h2v7zm4 0h-2V7h2v10zm4 0h-2v-4h2v4z\"/>\n",
              "    </g>\n",
              "</svg>\n",
              "  </button>\n",
              "\n",
              "<style>\n",
              "  .colab-df-quickchart {\n",
              "      --bg-color: #E8F0FE;\n",
              "      --fill-color: #1967D2;\n",
              "      --hover-bg-color: #E2EBFA;\n",
              "      --hover-fill-color: #174EA6;\n",
              "      --disabled-fill-color: #AAA;\n",
              "      --disabled-bg-color: #DDD;\n",
              "  }\n",
              "\n",
              "  [theme=dark] .colab-df-quickchart {\n",
              "      --bg-color: #3B4455;\n",
              "      --fill-color: #D2E3FC;\n",
              "      --hover-bg-color: #434B5C;\n",
              "      --hover-fill-color: #FFFFFF;\n",
              "      --disabled-bg-color: #3B4455;\n",
              "      --disabled-fill-color: #666;\n",
              "  }\n",
              "\n",
              "  .colab-df-quickchart {\n",
              "    background-color: var(--bg-color);\n",
              "    border: none;\n",
              "    border-radius: 50%;\n",
              "    cursor: pointer;\n",
              "    display: none;\n",
              "    fill: var(--fill-color);\n",
              "    height: 32px;\n",
              "    padding: 0;\n",
              "    width: 32px;\n",
              "  }\n",
              "\n",
              "  .colab-df-quickchart:hover {\n",
              "    background-color: var(--hover-bg-color);\n",
              "    box-shadow: 0 1px 2px rgba(60, 64, 67, 0.3), 0 1px 3px 1px rgba(60, 64, 67, 0.15);\n",
              "    fill: var(--button-hover-fill-color);\n",
              "  }\n",
              "\n",
              "  .colab-df-quickchart-complete:disabled,\n",
              "  .colab-df-quickchart-complete:disabled:hover {\n",
              "    background-color: var(--disabled-bg-color);\n",
              "    fill: var(--disabled-fill-color);\n",
              "    box-shadow: none;\n",
              "  }\n",
              "\n",
              "  .colab-df-spinner {\n",
              "    border: 2px solid var(--fill-color);\n",
              "    border-color: transparent;\n",
              "    border-bottom-color: var(--fill-color);\n",
              "    animation:\n",
              "      spin 1s steps(1) infinite;\n",
              "  }\n",
              "\n",
              "  @keyframes spin {\n",
              "    0% {\n",
              "      border-color: transparent;\n",
              "      border-bottom-color: var(--fill-color);\n",
              "      border-left-color: var(--fill-color);\n",
              "    }\n",
              "    20% {\n",
              "      border-color: transparent;\n",
              "      border-left-color: var(--fill-color);\n",
              "      border-top-color: var(--fill-color);\n",
              "    }\n",
              "    30% {\n",
              "      border-color: transparent;\n",
              "      border-left-color: var(--fill-color);\n",
              "      border-top-color: var(--fill-color);\n",
              "      border-right-color: var(--fill-color);\n",
              "    }\n",
              "    40% {\n",
              "      border-color: transparent;\n",
              "      border-right-color: var(--fill-color);\n",
              "      border-top-color: var(--fill-color);\n",
              "    }\n",
              "    60% {\n",
              "      border-color: transparent;\n",
              "      border-right-color: var(--fill-color);\n",
              "    }\n",
              "    80% {\n",
              "      border-color: transparent;\n",
              "      border-right-color: var(--fill-color);\n",
              "      border-bottom-color: var(--fill-color);\n",
              "    }\n",
              "    90% {\n",
              "      border-color: transparent;\n",
              "      border-bottom-color: var(--fill-color);\n",
              "    }\n",
              "  }\n",
              "</style>\n",
              "\n",
              "  <script>\n",
              "    async function quickchart(key) {\n",
              "      const quickchartButtonEl =\n",
              "        document.querySelector('#' + key + ' button');\n",
              "      quickchartButtonEl.disabled = true;  // To prevent multiple clicks.\n",
              "      quickchartButtonEl.classList.add('colab-df-spinner');\n",
              "      try {\n",
              "        const charts = await google.colab.kernel.invokeFunction(\n",
              "            'suggestCharts', [key], {});\n",
              "      } catch (error) {\n",
              "        console.error('Error during call to suggestCharts:', error);\n",
              "      }\n",
              "      quickchartButtonEl.classList.remove('colab-df-spinner');\n",
              "      quickchartButtonEl.classList.add('colab-df-quickchart-complete');\n",
              "    }\n",
              "    (() => {\n",
              "      let quickchartButtonEl =\n",
              "        document.querySelector('#df-e75af9ea-35ac-4a7f-a819-f1303d29acfa button');\n",
              "      quickchartButtonEl.style.display =\n",
              "        google.colab.kernel.accessAllowed ? 'block' : 'none';\n",
              "    })();\n",
              "  </script>\n",
              "</div>\n",
              "\n",
              "  <div id=\"id_7d80c680-6878-4046-8047-4df5114bfe32\">\n",
              "    <style>\n",
              "      .colab-df-generate {\n",
              "        background-color: #E8F0FE;\n",
              "        border: none;\n",
              "        border-radius: 50%;\n",
              "        cursor: pointer;\n",
              "        display: none;\n",
              "        fill: #1967D2;\n",
              "        height: 32px;\n",
              "        padding: 0 0 0 0;\n",
              "        width: 32px;\n",
              "      }\n",
              "\n",
              "      .colab-df-generate:hover {\n",
              "        background-color: #E2EBFA;\n",
              "        box-shadow: 0px 1px 2px rgba(60, 64, 67, 0.3), 0px 1px 3px 1px rgba(60, 64, 67, 0.15);\n",
              "        fill: #174EA6;\n",
              "      }\n",
              "\n",
              "      [theme=dark] .colab-df-generate {\n",
              "        background-color: #3B4455;\n",
              "        fill: #D2E3FC;\n",
              "      }\n",
              "\n",
              "      [theme=dark] .colab-df-generate:hover {\n",
              "        background-color: #434B5C;\n",
              "        box-shadow: 0px 1px 3px 1px rgba(0, 0, 0, 0.15);\n",
              "        filter: drop-shadow(0px 1px 2px rgba(0, 0, 0, 0.3));\n",
              "        fill: #FFFFFF;\n",
              "      }\n",
              "    </style>\n",
              "    <button class=\"colab-df-generate\" onclick=\"generateWithVariable('ipos_filings')\"\n",
              "            title=\"Generate code using this dataframe.\"\n",
              "            style=\"display:none;\">\n",
              "\n",
              "  <svg xmlns=\"http://www.w3.org/2000/svg\" height=\"24px\"viewBox=\"0 0 24 24\"\n",
              "       width=\"24px\">\n",
              "    <path d=\"M7,19H8.4L18.45,9,17,7.55,7,17.6ZM5,21V16.75L18.45,3.32a2,2,0,0,1,2.83,0l1.4,1.43a1.91,1.91,0,0,1,.58,1.4,1.91,1.91,0,0,1-.58,1.4L9.25,21ZM18.45,9,17,7.55Zm-12,3A5.31,5.31,0,0,0,4.9,8.1,5.31,5.31,0,0,0,1,6.5,5.31,5.31,0,0,0,4.9,4.9,5.31,5.31,0,0,0,6.5,1,5.31,5.31,0,0,0,8.1,4.9,5.31,5.31,0,0,0,12,6.5,5.46,5.46,0,0,0,6.5,12Z\"/>\n",
              "  </svg>\n",
              "    </button>\n",
              "    <script>\n",
              "      (() => {\n",
              "      const buttonEl =\n",
              "        document.querySelector('#id_7d80c680-6878-4046-8047-4df5114bfe32 button.colab-df-generate');\n",
              "      buttonEl.style.display =\n",
              "        google.colab.kernel.accessAllowed ? 'block' : 'none';\n",
              "\n",
              "      buttonEl.onclick = () => {\n",
              "        google.colab.notebook.generateWithVariable('ipos_filings');\n",
              "      }\n",
              "      })();\n",
              "    </script>\n",
              "  </div>\n",
              "\n",
              "    </div>\n",
              "  </div>\n"
            ],
            "application/vnd.google.colaboratory.intrinsic+json": {
              "type": "dataframe",
              "variable_name": "ipos_filings",
              "summary": "{\n  \"name\": \"ipos_filings\",\n  \"rows\": 325,\n  \"fields\": [\n    {\n      \"column\": \"Filing Date\",\n      \"properties\": {\n        \"dtype\": \"date\",\n        \"min\": \"2018-12-27 00:00:00\",\n        \"max\": \"2024-05-03 00:00:00\",\n        \"num_unique_values\": 256,\n        \"samples\": [\n          \"2021-03-29 00:00:00\",\n          \"2024-04-15 00:00:00\",\n          \"2023-09-07 00:00:00\"\n        ],\n        \"semantic_type\": \"\",\n        \"description\": \"\"\n      }\n    },\n    {\n      \"column\": \"Symbol\",\n      \"properties\": {\n        \"dtype\": \"string\",\n        \"num_unique_values\": 325,\n        \"samples\": [\n          \"WYTC\",\n          \"NAMI\",\n          \"BXHA\"\n        ],\n        \"semantic_type\": \"\",\n        \"description\": \"\"\n      }\n    },\n    {\n      \"column\": \"Company Name\",\n      \"properties\": {\n        \"dtype\": \"string\",\n        \"num_unique_values\": 325,\n        \"samples\": [\n          \"Wytec International, Inc.\",\n          \"Jinxin Technology Holding Company\",\n          \"Bombax Healthcare Acquisition Corporation\"\n        ],\n        \"semantic_type\": \"\",\n        \"description\": \"\"\n      }\n    },\n    {\n      \"column\": \"Price Range\",\n      \"properties\": {\n        \"dtype\": \"category\",\n        \"num_unique_values\": 45,\n        \"samples\": [\n          \"$7.00 - $9.00\",\n          \"$5.50\",\n          \"$20.00\"\n        ],\n        \"semantic_type\": \"\",\n        \"description\": \"\"\n      }\n    },\n    {\n      \"column\": \"Shares Offered\",\n      \"properties\": {\n        \"dtype\": \"number\",\n        \"std\": 10834449.06730656,\n        \"min\": 360000.0,\n        \"max\": 100000000.0,\n        \"num_unique_values\": 81,\n        \"samples\": [\n          800000.0,\n          3750000.0,\n          1500000.0\n        ],\n        \"semantic_type\": \"\",\n        \"description\": \"\"\n      }\n    },\n    {\n      \"column\": \"Avg_price\",\n      \"properties\": {\n        \"dtype\": \"number\",\n        \"std\": 2.8212415460687588,\n        \"min\": 3.0,\n        \"max\": 20.0,\n        \"num_unique_values\": 29,\n        \"samples\": [\n          19.0,\n          6.25,\n          9.0\n        ],\n        \"semantic_type\": \"\",\n        \"description\": \"\"\n      }\n    }\n  ]\n}"
            }
          },
          "metadata": {},
          "execution_count": 15
        }
      ]
    },
    {
      "cell_type": "code",
      "source": [
        "ipos_filings['Shares_offered_value'] = ipos_filings['Shares Offered']* ipos_filings['Avg_price']"
      ],
      "metadata": {
        "id": "JNE-cFdVN0Ge"
      },
      "execution_count": 16,
      "outputs": []
    },
    {
      "cell_type": "code",
      "source": [
        "ipos_filings"
      ],
      "metadata": {
        "id": "z6xCEIfuOpRE",
        "colab": {
          "base_uri": "https://localhost:8080/",
          "height": 423
        },
        "outputId": "ac4b149a-8065-4644-ab8c-c25a7e1f5a1a"
      },
      "execution_count": 17,
      "outputs": [
        {
          "output_type": "execute_result",
          "data": {
            "text/plain": [
              "    Filing Date Symbol                           Company Name     Price Range  \\\n",
              "0    2024-05-03    TBN         Tamboran Resources Corporation               -   \n",
              "1    2024-04-29   HWEC                   HW Electro Co., Ltd.           $3.00   \n",
              "2    2024-04-29   DTSQ  DT Cloud Star Acquisition Corporation          $10.00   \n",
              "3    2024-04-26   EURK                Eureka Acquisition Corp          $10.00   \n",
              "4    2024-04-26    HDL    Super Hi International Holding Ltd.               -   \n",
              "..          ...    ...                                    ...             ...   \n",
              "320  2020-01-21   GOXS                            Goxus, Inc.  $8.00 - $10.00   \n",
              "321  2020-01-21   UTXO                 UTXO Acquisition, Inc.          $10.00   \n",
              "322  2019-12-09   LOHA                           Loha Co. Ltd  $8.00 - $10.00   \n",
              "323  2019-10-04   ZGHB  China Eco-Materials Group Co. Limited           $4.00   \n",
              "324  2018-12-27   FBOX              Fit Boxx Holdings Limited   $5.00 - $6.50   \n",
              "\n",
              "     Shares Offered  Avg_price  Shares_offered_value  \n",
              "0               NaN        NaN                   NaN  \n",
              "1         3750000.0       3.00            11250000.0  \n",
              "2         6000000.0      10.00            60000000.0  \n",
              "3         5000000.0      10.00            50000000.0  \n",
              "4               NaN        NaN                   NaN  \n",
              "..              ...        ...                   ...  \n",
              "320       1500000.0       9.00            13500000.0  \n",
              "321       5000000.0      10.00            50000000.0  \n",
              "322       2500000.0       9.00            22500000.0  \n",
              "323       4300000.0       4.00            17200000.0  \n",
              "324       2000000.0       5.75            11500000.0  \n",
              "\n",
              "[325 rows x 7 columns]"
            ],
            "text/html": [
              "\n",
              "  <div id=\"df-ac3342d6-c49c-4f8d-8ca9-6df0ba95d182\" class=\"colab-df-container\">\n",
              "    <div>\n",
              "<style scoped>\n",
              "    .dataframe tbody tr th:only-of-type {\n",
              "        vertical-align: middle;\n",
              "    }\n",
              "\n",
              "    .dataframe tbody tr th {\n",
              "        vertical-align: top;\n",
              "    }\n",
              "\n",
              "    .dataframe thead th {\n",
              "        text-align: right;\n",
              "    }\n",
              "</style>\n",
              "<table border=\"1\" class=\"dataframe\">\n",
              "  <thead>\n",
              "    <tr style=\"text-align: right;\">\n",
              "      <th></th>\n",
              "      <th>Filing Date</th>\n",
              "      <th>Symbol</th>\n",
              "      <th>Company Name</th>\n",
              "      <th>Price Range</th>\n",
              "      <th>Shares Offered</th>\n",
              "      <th>Avg_price</th>\n",
              "      <th>Shares_offered_value</th>\n",
              "    </tr>\n",
              "  </thead>\n",
              "  <tbody>\n",
              "    <tr>\n",
              "      <th>0</th>\n",
              "      <td>2024-05-03</td>\n",
              "      <td>TBN</td>\n",
              "      <td>Tamboran Resources Corporation</td>\n",
              "      <td>-</td>\n",
              "      <td>NaN</td>\n",
              "      <td>NaN</td>\n",
              "      <td>NaN</td>\n",
              "    </tr>\n",
              "    <tr>\n",
              "      <th>1</th>\n",
              "      <td>2024-04-29</td>\n",
              "      <td>HWEC</td>\n",
              "      <td>HW Electro Co., Ltd.</td>\n",
              "      <td>$3.00</td>\n",
              "      <td>3750000.0</td>\n",
              "      <td>3.00</td>\n",
              "      <td>11250000.0</td>\n",
              "    </tr>\n",
              "    <tr>\n",
              "      <th>2</th>\n",
              "      <td>2024-04-29</td>\n",
              "      <td>DTSQ</td>\n",
              "      <td>DT Cloud Star Acquisition Corporation</td>\n",
              "      <td>$10.00</td>\n",
              "      <td>6000000.0</td>\n",
              "      <td>10.00</td>\n",
              "      <td>60000000.0</td>\n",
              "    </tr>\n",
              "    <tr>\n",
              "      <th>3</th>\n",
              "      <td>2024-04-26</td>\n",
              "      <td>EURK</td>\n",
              "      <td>Eureka Acquisition Corp</td>\n",
              "      <td>$10.00</td>\n",
              "      <td>5000000.0</td>\n",
              "      <td>10.00</td>\n",
              "      <td>50000000.0</td>\n",
              "    </tr>\n",
              "    <tr>\n",
              "      <th>4</th>\n",
              "      <td>2024-04-26</td>\n",
              "      <td>HDL</td>\n",
              "      <td>Super Hi International Holding Ltd.</td>\n",
              "      <td>-</td>\n",
              "      <td>NaN</td>\n",
              "      <td>NaN</td>\n",
              "      <td>NaN</td>\n",
              "    </tr>\n",
              "    <tr>\n",
              "      <th>...</th>\n",
              "      <td>...</td>\n",
              "      <td>...</td>\n",
              "      <td>...</td>\n",
              "      <td>...</td>\n",
              "      <td>...</td>\n",
              "      <td>...</td>\n",
              "      <td>...</td>\n",
              "    </tr>\n",
              "    <tr>\n",
              "      <th>320</th>\n",
              "      <td>2020-01-21</td>\n",
              "      <td>GOXS</td>\n",
              "      <td>Goxus, Inc.</td>\n",
              "      <td>$8.00 - $10.00</td>\n",
              "      <td>1500000.0</td>\n",
              "      <td>9.00</td>\n",
              "      <td>13500000.0</td>\n",
              "    </tr>\n",
              "    <tr>\n",
              "      <th>321</th>\n",
              "      <td>2020-01-21</td>\n",
              "      <td>UTXO</td>\n",
              "      <td>UTXO Acquisition, Inc.</td>\n",
              "      <td>$10.00</td>\n",
              "      <td>5000000.0</td>\n",
              "      <td>10.00</td>\n",
              "      <td>50000000.0</td>\n",
              "    </tr>\n",
              "    <tr>\n",
              "      <th>322</th>\n",
              "      <td>2019-12-09</td>\n",
              "      <td>LOHA</td>\n",
              "      <td>Loha Co. Ltd</td>\n",
              "      <td>$8.00 - $10.00</td>\n",
              "      <td>2500000.0</td>\n",
              "      <td>9.00</td>\n",
              "      <td>22500000.0</td>\n",
              "    </tr>\n",
              "    <tr>\n",
              "      <th>323</th>\n",
              "      <td>2019-10-04</td>\n",
              "      <td>ZGHB</td>\n",
              "      <td>China Eco-Materials Group Co. Limited</td>\n",
              "      <td>$4.00</td>\n",
              "      <td>4300000.0</td>\n",
              "      <td>4.00</td>\n",
              "      <td>17200000.0</td>\n",
              "    </tr>\n",
              "    <tr>\n",
              "      <th>324</th>\n",
              "      <td>2018-12-27</td>\n",
              "      <td>FBOX</td>\n",
              "      <td>Fit Boxx Holdings Limited</td>\n",
              "      <td>$5.00 - $6.50</td>\n",
              "      <td>2000000.0</td>\n",
              "      <td>5.75</td>\n",
              "      <td>11500000.0</td>\n",
              "    </tr>\n",
              "  </tbody>\n",
              "</table>\n",
              "<p>325 rows × 7 columns</p>\n",
              "</div>\n",
              "    <div class=\"colab-df-buttons\">\n",
              "\n",
              "  <div class=\"colab-df-container\">\n",
              "    <button class=\"colab-df-convert\" onclick=\"convertToInteractive('df-ac3342d6-c49c-4f8d-8ca9-6df0ba95d182')\"\n",
              "            title=\"Convert this dataframe to an interactive table.\"\n",
              "            style=\"display:none;\">\n",
              "\n",
              "  <svg xmlns=\"http://www.w3.org/2000/svg\" height=\"24px\" viewBox=\"0 -960 960 960\">\n",
              "    <path d=\"M120-120v-720h720v720H120Zm60-500h600v-160H180v160Zm220 220h160v-160H400v160Zm0 220h160v-160H400v160ZM180-400h160v-160H180v160Zm440 0h160v-160H620v160ZM180-180h160v-160H180v160Zm440 0h160v-160H620v160Z\"/>\n",
              "  </svg>\n",
              "    </button>\n",
              "\n",
              "  <style>\n",
              "    .colab-df-container {\n",
              "      display:flex;\n",
              "      gap: 12px;\n",
              "    }\n",
              "\n",
              "    .colab-df-convert {\n",
              "      background-color: #E8F0FE;\n",
              "      border: none;\n",
              "      border-radius: 50%;\n",
              "      cursor: pointer;\n",
              "      display: none;\n",
              "      fill: #1967D2;\n",
              "      height: 32px;\n",
              "      padding: 0 0 0 0;\n",
              "      width: 32px;\n",
              "    }\n",
              "\n",
              "    .colab-df-convert:hover {\n",
              "      background-color: #E2EBFA;\n",
              "      box-shadow: 0px 1px 2px rgba(60, 64, 67, 0.3), 0px 1px 3px 1px rgba(60, 64, 67, 0.15);\n",
              "      fill: #174EA6;\n",
              "    }\n",
              "\n",
              "    .colab-df-buttons div {\n",
              "      margin-bottom: 4px;\n",
              "    }\n",
              "\n",
              "    [theme=dark] .colab-df-convert {\n",
              "      background-color: #3B4455;\n",
              "      fill: #D2E3FC;\n",
              "    }\n",
              "\n",
              "    [theme=dark] .colab-df-convert:hover {\n",
              "      background-color: #434B5C;\n",
              "      box-shadow: 0px 1px 3px 1px rgba(0, 0, 0, 0.15);\n",
              "      filter: drop-shadow(0px 1px 2px rgba(0, 0, 0, 0.3));\n",
              "      fill: #FFFFFF;\n",
              "    }\n",
              "  </style>\n",
              "\n",
              "    <script>\n",
              "      const buttonEl =\n",
              "        document.querySelector('#df-ac3342d6-c49c-4f8d-8ca9-6df0ba95d182 button.colab-df-convert');\n",
              "      buttonEl.style.display =\n",
              "        google.colab.kernel.accessAllowed ? 'block' : 'none';\n",
              "\n",
              "      async function convertToInteractive(key) {\n",
              "        const element = document.querySelector('#df-ac3342d6-c49c-4f8d-8ca9-6df0ba95d182');\n",
              "        const dataTable =\n",
              "          await google.colab.kernel.invokeFunction('convertToInteractive',\n",
              "                                                    [key], {});\n",
              "        if (!dataTable) return;\n",
              "\n",
              "        const docLinkHtml = 'Like what you see? Visit the ' +\n",
              "          '<a target=\"_blank\" href=https://colab.research.google.com/notebooks/data_table.ipynb>data table notebook</a>'\n",
              "          + ' to learn more about interactive tables.';\n",
              "        element.innerHTML = '';\n",
              "        dataTable['output_type'] = 'display_data';\n",
              "        await google.colab.output.renderOutput(dataTable, element);\n",
              "        const docLink = document.createElement('div');\n",
              "        docLink.innerHTML = docLinkHtml;\n",
              "        element.appendChild(docLink);\n",
              "      }\n",
              "    </script>\n",
              "  </div>\n",
              "\n",
              "\n",
              "<div id=\"df-30633c97-357d-4360-ad9e-20aea9418d1b\">\n",
              "  <button class=\"colab-df-quickchart\" onclick=\"quickchart('df-30633c97-357d-4360-ad9e-20aea9418d1b')\"\n",
              "            title=\"Suggest charts\"\n",
              "            style=\"display:none;\">\n",
              "\n",
              "<svg xmlns=\"http://www.w3.org/2000/svg\" height=\"24px\"viewBox=\"0 0 24 24\"\n",
              "     width=\"24px\">\n",
              "    <g>\n",
              "        <path d=\"M19 3H5c-1.1 0-2 .9-2 2v14c0 1.1.9 2 2 2h14c1.1 0 2-.9 2-2V5c0-1.1-.9-2-2-2zM9 17H7v-7h2v7zm4 0h-2V7h2v10zm4 0h-2v-4h2v4z\"/>\n",
              "    </g>\n",
              "</svg>\n",
              "  </button>\n",
              "\n",
              "<style>\n",
              "  .colab-df-quickchart {\n",
              "      --bg-color: #E8F0FE;\n",
              "      --fill-color: #1967D2;\n",
              "      --hover-bg-color: #E2EBFA;\n",
              "      --hover-fill-color: #174EA6;\n",
              "      --disabled-fill-color: #AAA;\n",
              "      --disabled-bg-color: #DDD;\n",
              "  }\n",
              "\n",
              "  [theme=dark] .colab-df-quickchart {\n",
              "      --bg-color: #3B4455;\n",
              "      --fill-color: #D2E3FC;\n",
              "      --hover-bg-color: #434B5C;\n",
              "      --hover-fill-color: #FFFFFF;\n",
              "      --disabled-bg-color: #3B4455;\n",
              "      --disabled-fill-color: #666;\n",
              "  }\n",
              "\n",
              "  .colab-df-quickchart {\n",
              "    background-color: var(--bg-color);\n",
              "    border: none;\n",
              "    border-radius: 50%;\n",
              "    cursor: pointer;\n",
              "    display: none;\n",
              "    fill: var(--fill-color);\n",
              "    height: 32px;\n",
              "    padding: 0;\n",
              "    width: 32px;\n",
              "  }\n",
              "\n",
              "  .colab-df-quickchart:hover {\n",
              "    background-color: var(--hover-bg-color);\n",
              "    box-shadow: 0 1px 2px rgba(60, 64, 67, 0.3), 0 1px 3px 1px rgba(60, 64, 67, 0.15);\n",
              "    fill: var(--button-hover-fill-color);\n",
              "  }\n",
              "\n",
              "  .colab-df-quickchart-complete:disabled,\n",
              "  .colab-df-quickchart-complete:disabled:hover {\n",
              "    background-color: var(--disabled-bg-color);\n",
              "    fill: var(--disabled-fill-color);\n",
              "    box-shadow: none;\n",
              "  }\n",
              "\n",
              "  .colab-df-spinner {\n",
              "    border: 2px solid var(--fill-color);\n",
              "    border-color: transparent;\n",
              "    border-bottom-color: var(--fill-color);\n",
              "    animation:\n",
              "      spin 1s steps(1) infinite;\n",
              "  }\n",
              "\n",
              "  @keyframes spin {\n",
              "    0% {\n",
              "      border-color: transparent;\n",
              "      border-bottom-color: var(--fill-color);\n",
              "      border-left-color: var(--fill-color);\n",
              "    }\n",
              "    20% {\n",
              "      border-color: transparent;\n",
              "      border-left-color: var(--fill-color);\n",
              "      border-top-color: var(--fill-color);\n",
              "    }\n",
              "    30% {\n",
              "      border-color: transparent;\n",
              "      border-left-color: var(--fill-color);\n",
              "      border-top-color: var(--fill-color);\n",
              "      border-right-color: var(--fill-color);\n",
              "    }\n",
              "    40% {\n",
              "      border-color: transparent;\n",
              "      border-right-color: var(--fill-color);\n",
              "      border-top-color: var(--fill-color);\n",
              "    }\n",
              "    60% {\n",
              "      border-color: transparent;\n",
              "      border-right-color: var(--fill-color);\n",
              "    }\n",
              "    80% {\n",
              "      border-color: transparent;\n",
              "      border-right-color: var(--fill-color);\n",
              "      border-bottom-color: var(--fill-color);\n",
              "    }\n",
              "    90% {\n",
              "      border-color: transparent;\n",
              "      border-bottom-color: var(--fill-color);\n",
              "    }\n",
              "  }\n",
              "</style>\n",
              "\n",
              "  <script>\n",
              "    async function quickchart(key) {\n",
              "      const quickchartButtonEl =\n",
              "        document.querySelector('#' + key + ' button');\n",
              "      quickchartButtonEl.disabled = true;  // To prevent multiple clicks.\n",
              "      quickchartButtonEl.classList.add('colab-df-spinner');\n",
              "      try {\n",
              "        const charts = await google.colab.kernel.invokeFunction(\n",
              "            'suggestCharts', [key], {});\n",
              "      } catch (error) {\n",
              "        console.error('Error during call to suggestCharts:', error);\n",
              "      }\n",
              "      quickchartButtonEl.classList.remove('colab-df-spinner');\n",
              "      quickchartButtonEl.classList.add('colab-df-quickchart-complete');\n",
              "    }\n",
              "    (() => {\n",
              "      let quickchartButtonEl =\n",
              "        document.querySelector('#df-30633c97-357d-4360-ad9e-20aea9418d1b button');\n",
              "      quickchartButtonEl.style.display =\n",
              "        google.colab.kernel.accessAllowed ? 'block' : 'none';\n",
              "    })();\n",
              "  </script>\n",
              "</div>\n",
              "\n",
              "  <div id=\"id_0b865b03-2954-4d3c-8ddd-b55a2b255515\">\n",
              "    <style>\n",
              "      .colab-df-generate {\n",
              "        background-color: #E8F0FE;\n",
              "        border: none;\n",
              "        border-radius: 50%;\n",
              "        cursor: pointer;\n",
              "        display: none;\n",
              "        fill: #1967D2;\n",
              "        height: 32px;\n",
              "        padding: 0 0 0 0;\n",
              "        width: 32px;\n",
              "      }\n",
              "\n",
              "      .colab-df-generate:hover {\n",
              "        background-color: #E2EBFA;\n",
              "        box-shadow: 0px 1px 2px rgba(60, 64, 67, 0.3), 0px 1px 3px 1px rgba(60, 64, 67, 0.15);\n",
              "        fill: #174EA6;\n",
              "      }\n",
              "\n",
              "      [theme=dark] .colab-df-generate {\n",
              "        background-color: #3B4455;\n",
              "        fill: #D2E3FC;\n",
              "      }\n",
              "\n",
              "      [theme=dark] .colab-df-generate:hover {\n",
              "        background-color: #434B5C;\n",
              "        box-shadow: 0px 1px 3px 1px rgba(0, 0, 0, 0.15);\n",
              "        filter: drop-shadow(0px 1px 2px rgba(0, 0, 0, 0.3));\n",
              "        fill: #FFFFFF;\n",
              "      }\n",
              "    </style>\n",
              "    <button class=\"colab-df-generate\" onclick=\"generateWithVariable('ipos_filings')\"\n",
              "            title=\"Generate code using this dataframe.\"\n",
              "            style=\"display:none;\">\n",
              "\n",
              "  <svg xmlns=\"http://www.w3.org/2000/svg\" height=\"24px\"viewBox=\"0 0 24 24\"\n",
              "       width=\"24px\">\n",
              "    <path d=\"M7,19H8.4L18.45,9,17,7.55,7,17.6ZM5,21V16.75L18.45,3.32a2,2,0,0,1,2.83,0l1.4,1.43a1.91,1.91,0,0,1,.58,1.4,1.91,1.91,0,0,1-.58,1.4L9.25,21ZM18.45,9,17,7.55Zm-12,3A5.31,5.31,0,0,0,4.9,8.1,5.31,5.31,0,0,0,1,6.5,5.31,5.31,0,0,0,4.9,4.9,5.31,5.31,0,0,0,6.5,1,5.31,5.31,0,0,0,8.1,4.9,5.31,5.31,0,0,0,12,6.5,5.46,5.46,0,0,0,6.5,12Z\"/>\n",
              "  </svg>\n",
              "    </button>\n",
              "    <script>\n",
              "      (() => {\n",
              "      const buttonEl =\n",
              "        document.querySelector('#id_0b865b03-2954-4d3c-8ddd-b55a2b255515 button.colab-df-generate');\n",
              "      buttonEl.style.display =\n",
              "        google.colab.kernel.accessAllowed ? 'block' : 'none';\n",
              "\n",
              "      buttonEl.onclick = () => {\n",
              "        google.colab.notebook.generateWithVariable('ipos_filings');\n",
              "      }\n",
              "      })();\n",
              "    </script>\n",
              "  </div>\n",
              "\n",
              "    </div>\n",
              "  </div>\n"
            ],
            "application/vnd.google.colaboratory.intrinsic+json": {
              "type": "dataframe",
              "variable_name": "ipos_filings",
              "summary": "{\n  \"name\": \"ipos_filings\",\n  \"rows\": 325,\n  \"fields\": [\n    {\n      \"column\": \"Filing Date\",\n      \"properties\": {\n        \"dtype\": \"date\",\n        \"min\": \"2018-12-27 00:00:00\",\n        \"max\": \"2024-05-03 00:00:00\",\n        \"num_unique_values\": 256,\n        \"samples\": [\n          \"2021-03-29 00:00:00\",\n          \"2024-04-15 00:00:00\",\n          \"2023-09-07 00:00:00\"\n        ],\n        \"semantic_type\": \"\",\n        \"description\": \"\"\n      }\n    },\n    {\n      \"column\": \"Symbol\",\n      \"properties\": {\n        \"dtype\": \"string\",\n        \"num_unique_values\": 325,\n        \"samples\": [\n          \"WYTC\",\n          \"NAMI\",\n          \"BXHA\"\n        ],\n        \"semantic_type\": \"\",\n        \"description\": \"\"\n      }\n    },\n    {\n      \"column\": \"Company Name\",\n      \"properties\": {\n        \"dtype\": \"string\",\n        \"num_unique_values\": 325,\n        \"samples\": [\n          \"Wytec International, Inc.\",\n          \"Jinxin Technology Holding Company\",\n          \"Bombax Healthcare Acquisition Corporation\"\n        ],\n        \"semantic_type\": \"\",\n        \"description\": \"\"\n      }\n    },\n    {\n      \"column\": \"Price Range\",\n      \"properties\": {\n        \"dtype\": \"category\",\n        \"num_unique_values\": 45,\n        \"samples\": [\n          \"$7.00 - $9.00\",\n          \"$5.50\",\n          \"$20.00\"\n        ],\n        \"semantic_type\": \"\",\n        \"description\": \"\"\n      }\n    },\n    {\n      \"column\": \"Shares Offered\",\n      \"properties\": {\n        \"dtype\": \"number\",\n        \"std\": 10834449.06730656,\n        \"min\": 360000.0,\n        \"max\": 100000000.0,\n        \"num_unique_values\": 81,\n        \"samples\": [\n          800000.0,\n          3750000.0,\n          1500000.0\n        ],\n        \"semantic_type\": \"\",\n        \"description\": \"\"\n      }\n    },\n    {\n      \"column\": \"Avg_price\",\n      \"properties\": {\n        \"dtype\": \"number\",\n        \"std\": 2.8212415460687588,\n        \"min\": 3.0,\n        \"max\": 20.0,\n        \"num_unique_values\": 29,\n        \"samples\": [\n          19.0,\n          6.25,\n          9.0\n        ],\n        \"semantic_type\": \"\",\n        \"description\": \"\"\n      }\n    },\n    {\n      \"column\": \"Shares_offered_value\",\n      \"properties\": {\n        \"dtype\": \"number\",\n        \"std\": 111585313.19650331,\n        \"min\": 4000000.0,\n        \"max\": 1000000000.0,\n        \"num_unique_values\": 110,\n        \"samples\": [\n          18400000.0,\n          100000000.0,\n          9000000.0\n        ],\n        \"semantic_type\": \"\",\n        \"description\": \"\"\n      }\n    }\n  ]\n}"
            }
          },
          "metadata": {},
          "execution_count": 17
        }
      ]
    },
    {
      "cell_type": "code",
      "source": [
        "ipos_filings.info()"
      ],
      "metadata": {
        "id": "bVl3PvguOqP7",
        "colab": {
          "base_uri": "https://localhost:8080/"
        },
        "outputId": "2233543a-aeae-4ee5-ea81-2bd418238a73"
      },
      "execution_count": 18,
      "outputs": [
        {
          "output_type": "stream",
          "name": "stdout",
          "text": [
            "<class 'pandas.core.frame.DataFrame'>\n",
            "RangeIndex: 325 entries, 0 to 324\n",
            "Data columns (total 7 columns):\n",
            " #   Column                Non-Null Count  Dtype         \n",
            "---  ------                --------------  -----         \n",
            " 0   Filing Date           325 non-null    datetime64[ns]\n",
            " 1   Symbol                325 non-null    object        \n",
            " 2   Company Name          325 non-null    object        \n",
            " 3   Price Range           325 non-null    object        \n",
            " 4   Shares Offered        252 non-null    float64       \n",
            " 5   Avg_price             258 non-null    float64       \n",
            " 6   Shares_offered_value  249 non-null    float64       \n",
            "dtypes: datetime64[ns](1), float64(3), object(3)\n",
            "memory usage: 17.9+ KB\n"
          ]
        }
      ]
    },
    {
      "cell_type": "code",
      "source": [
        "ipos_filings['Filing Date'].dt.year"
      ],
      "metadata": {
        "id": "G121p-fj2ra3",
        "colab": {
          "base_uri": "https://localhost:8080/"
        },
        "outputId": "d1d4ccc3-d9fa-4117-db5c-d750398fb049"
      },
      "execution_count": 19,
      "outputs": [
        {
          "output_type": "execute_result",
          "data": {
            "text/plain": [
              "0      2024\n",
              "1      2024\n",
              "2      2024\n",
              "3      2024\n",
              "4      2024\n",
              "       ... \n",
              "320    2020\n",
              "321    2020\n",
              "322    2019\n",
              "323    2019\n",
              "324    2018\n",
              "Name: Filing Date, Length: 325, dtype: int32"
            ]
          },
          "metadata": {},
          "execution_count": 19
        }
      ]
    },
    {
      "cell_type": "code",
      "source": [
        "ipos_filings[(ipos_filings['Filing Date'].dt.year == 2023) & (ipos_filings['Filing Date'].dt.dayofweek == 4)].Shares_offered_value.sum()/1000000"
      ],
      "metadata": {
        "id": "ElVuW6cUPBYo",
        "colab": {
          "base_uri": "https://localhost:8080/"
        },
        "outputId": "74a9d6ed-2322-4989-f85e-e09f2bc1ca13"
      },
      "execution_count": 20,
      "outputs": [
        {
          "output_type": "execute_result",
          "data": {
            "text/plain": [
              "285.7"
            ]
          },
          "metadata": {},
          "execution_count": 20
        }
      ]
    },
    {
      "cell_type": "code",
      "source": [
        "def getStockanalysis(urllist):\n",
        "  headers = {\n",
        "    'User-Agent': 'Mozilla/5.0 (Windows NT 10.0; Win64; x64) AppleWebKit/537.36 (KHTML, like Gecko) Chrome/58.0.3029.110 Safari/537.3',\n",
        "  }\n",
        "  df = None;\n",
        "  for url in urllist:\n",
        "    response = requests.get(url, headers=headers)\n",
        "    ipo_dfs = pd.read_html(response.text)[0]\n",
        "    print(ipo_dfs.head)\n",
        "    # print(ipo_dfs.info())\n",
        "    if df is None:\n",
        "      df = ipo_dfs\n",
        "      print(df.head)\n",
        "\n",
        "    else:\n",
        "      print('else---------')\n",
        "\n",
        "      df = pd.concat([df, ipo_dfs], ignore_index=True)\n",
        "    print('over---------')\n",
        "\n",
        "  return df\n",
        "\n",
        "\n"
      ],
      "metadata": {
        "id": "0TImpIPp33I-"
      },
      "execution_count": 21,
      "outputs": []
    },
    {
      "cell_type": "code",
      "source": [
        "stacked_ipos_df = getStockanalysis(\n",
        "    [\"https://stockanalysis.com/ipos/2023/\"\n",
        "    ,\"https://stockanalysis.com/ipos/2024/\"\n",
        "     ])\n"
      ],
      "metadata": {
        "id": "OrM4Oa5-6TQL",
        "colab": {
          "base_uri": "https://localhost:8080/"
        },
        "outputId": "2ad1d235-d819-42a1-b4c1-cf3f3b71c640"
      },
      "execution_count": 22,
      "outputs": [
        {
          "output_type": "stream",
          "name": "stdout",
          "text": [
            "<bound method NDFrame.head of          IPO Date Symbol                             Company Name IPO Price  \\\n",
            "0    Dec 27, 2023   IROH            Iron Horse Acquisitions Corp.    $10.00   \n",
            "1    Dec 19, 2023   LGCB                       Linkage Global Inc     $4.00   \n",
            "2    Dec 15, 2023    ZKH                        ZKH Group Limited    $15.50   \n",
            "3    Dec 15, 2023   BAYA                 Bayview Acquisition Corp    $10.00   \n",
            "4    Dec 14, 2023   INHD                       Inno Holdings Inc.     $4.00   \n",
            "..            ...    ...                                      ...       ...   \n",
            "149  Jan 25, 2023    QSG                     QuantaSing Group Ltd    $12.50   \n",
            "150  Jan 20, 2023   CVKD              Cadrenal Therapeutics, Inc.     $5.00   \n",
            "151  Jan 13, 2023   SKWD  Skyward Specialty Insurance Group, Inc.    $15.00   \n",
            "152  Jan 13, 2023   ISRL                 Israel Acquisitions Corp    $10.00   \n",
            "153  Jan 13, 2023   MGOL                          MGO Global Inc.     $5.00   \n",
            "\n",
            "    Current   Return  \n",
            "0    $10.05    0.50%  \n",
            "1     $2.91  -27.25%  \n",
            "2    $12.95  -16.45%  \n",
            "3    $10.18    1.80%  \n",
            "4     $0.62  -84.45%  \n",
            "..      ...      ...  \n",
            "149   $3.19  -74.48%  \n",
            "150   $0.48  -90.40%  \n",
            "151  $37.61  150.73%  \n",
            "152  $10.93    9.30%  \n",
            "153   $0.22  -95.50%  \n",
            "\n",
            "[154 rows x 6 columns]>\n",
            "<bound method NDFrame.head of          IPO Date Symbol                             Company Name IPO Price  \\\n",
            "0    Dec 27, 2023   IROH            Iron Horse Acquisitions Corp.    $10.00   \n",
            "1    Dec 19, 2023   LGCB                       Linkage Global Inc     $4.00   \n",
            "2    Dec 15, 2023    ZKH                        ZKH Group Limited    $15.50   \n",
            "3    Dec 15, 2023   BAYA                 Bayview Acquisition Corp    $10.00   \n",
            "4    Dec 14, 2023   INHD                       Inno Holdings Inc.     $4.00   \n",
            "..            ...    ...                                      ...       ...   \n",
            "149  Jan 25, 2023    QSG                     QuantaSing Group Ltd    $12.50   \n",
            "150  Jan 20, 2023   CVKD              Cadrenal Therapeutics, Inc.     $5.00   \n",
            "151  Jan 13, 2023   SKWD  Skyward Specialty Insurance Group, Inc.    $15.00   \n",
            "152  Jan 13, 2023   ISRL                 Israel Acquisitions Corp    $10.00   \n",
            "153  Jan 13, 2023   MGOL                          MGO Global Inc.     $5.00   \n",
            "\n",
            "    Current   Return  \n",
            "0    $10.05    0.50%  \n",
            "1     $2.91  -27.25%  \n",
            "2    $12.95  -16.45%  \n",
            "3    $10.18    1.80%  \n",
            "4     $0.62  -84.45%  \n",
            "..      ...      ...  \n",
            "149   $3.19  -74.48%  \n",
            "150   $0.48  -90.40%  \n",
            "151  $37.61  150.73%  \n",
            "152  $10.93    9.30%  \n",
            "153   $0.22  -95.50%  \n",
            "\n",
            "[154 rows x 6 columns]>\n",
            "over---------\n",
            "<bound method NDFrame.head of         IPO Date Symbol                                    Company Name  \\\n",
            "0    May 1, 2024    VIK                            Viking Holdings Ltd.   \n",
            "1   Apr 26, 2024   ZONE                       CleanCore Solutions, Inc.   \n",
            "2   Apr 25, 2024   RBRK                                    Rubrik, Inc.   \n",
            "3   Apr 25, 2024   LOAR                              Loar Holdings Inc.   \n",
            "4   Apr 25, 2024    MRX                                 Marex Group plc   \n",
            "..           ...    ...                                             ...   \n",
            "59  Jan 18, 2024   PSBD                  Palmer Square Capital BDC Inc.   \n",
            "60  Jan 18, 2024   CCTG  CCSC Technology International Holdings Limited   \n",
            "61  Jan 12, 2024   SYNX                                  Silynxcom Ltd.   \n",
            "62  Jan 11, 2024   SDHC                       Smith Douglas Homes Corp.   \n",
            "63   Jan 9, 2024   ROMA                      Roma Green Finance Limited   \n",
            "\n",
            "   IPO Price Current   Return  \n",
            "0     $24.00  $28.65   19.38%  \n",
            "1      $4.00   $3.15  -21.25%  \n",
            "2     $32.00  $33.77    5.53%  \n",
            "3     $28.00  $49.83   77.96%  \n",
            "4     $19.00  $19.17    0.89%  \n",
            "..       ...     ...      ...  \n",
            "59    $16.45  $16.55    0.61%  \n",
            "60     $6.00   $2.41  -59.83%  \n",
            "61     $4.00   $2.74  -31.50%  \n",
            "62    $21.00  $29.68   41.33%  \n",
            "63     $4.00   $0.75  -81.25%  \n",
            "\n",
            "[64 rows x 6 columns]>\n",
            "else---------\n",
            "over---------\n"
          ]
        }
      ]
    },
    {
      "cell_type": "code",
      "source": [],
      "metadata": {
        "id": "cJy2g-Ar-JkV"
      },
      "execution_count": 22,
      "outputs": []
    },
    {
      "cell_type": "code",
      "source": [
        "stacked_ipos_df.dtypes\n",
        "# stacked_ipos_df['IPO Date'] = pd.to_datetime(stacked_ipos_df['IPO Date'])\n"
      ],
      "metadata": {
        "id": "2xQhjKNM6lQo",
        "colab": {
          "base_uri": "https://localhost:8080/"
        },
        "outputId": "9965beed-02b3-46a8-f9fe-ca68c792274e"
      },
      "execution_count": 23,
      "outputs": [
        {
          "output_type": "execute_result",
          "data": {
            "text/plain": [
              "IPO Date        object\n",
              "Symbol          object\n",
              "Company Name    object\n",
              "IPO Price       object\n",
              "Current         object\n",
              "Return          object\n",
              "dtype: object"
            ]
          },
          "metadata": {},
          "execution_count": 23
        }
      ]
    },
    {
      "cell_type": "code",
      "source": [
        "stacked_ipos_df['IPO Date'] = pd.to_datetime(stacked_ipos_df['IPO Date'])"
      ],
      "metadata": {
        "id": "2rS37hO143Jw"
      },
      "execution_count": 24,
      "outputs": []
    },
    {
      "cell_type": "code",
      "source": [],
      "metadata": {
        "id": "-GXLlqc_5Gix"
      },
      "execution_count": 24,
      "outputs": []
    },
    {
      "cell_type": "code",
      "source": [
        "stacked_ipos_df = stacked_ipos_df[(stacked_ipos_df['IPO Date'] < '2024-03-01') & (stacked_ipos_df['Symbol'] != 'RYZB')]"
      ],
      "metadata": {
        "id": "v-KBJgnZ8Jaw"
      },
      "execution_count": 25,
      "outputs": []
    },
    {
      "cell_type": "code",
      "source": [
        "stacked_ipos_df.dtypes"
      ],
      "metadata": {
        "id": "5_Er_Ctp1BKE",
        "colab": {
          "base_uri": "https://localhost:8080/"
        },
        "outputId": "d6140f34-44f6-40ca-be82-0064e194a9f4"
      },
      "execution_count": 26,
      "outputs": [
        {
          "output_type": "execute_result",
          "data": {
            "text/plain": [
              "IPO Date        datetime64[ns]\n",
              "Symbol                  object\n",
              "Company Name            object\n",
              "IPO Price               object\n",
              "Current                 object\n",
              "Return                  object\n",
              "dtype: object"
            ]
          },
          "metadata": {},
          "execution_count": 26
        }
      ]
    },
    {
      "cell_type": "code",
      "source": [
        "stacked_ipos_df[stacked_ipos_df['IPO Price'].astype(str).str.find('-') >= 0]\n",
        "stacked_ipos_df['IPO Price'] = pd.to_numeric(stacked_ipos_df['IPO Price'].str.replace('$', ''), errors='coerce')\n",
        "# not sure why, but need to call it again to transform 'object' to 'float64'\n",
        "stacked_ipos_df['IPO Price'] = pd.to_numeric(stacked_ipos_df['IPO Price'])"
      ],
      "metadata": {
        "id": "8TlHEyFu-MM7",
        "colab": {
          "base_uri": "https://localhost:8080/"
        },
        "outputId": "10667f41-b351-451d-f37a-68fb2d769787"
      },
      "execution_count": 27,
      "outputs": [
        {
          "output_type": "stream",
          "name": "stderr",
          "text": [
            "<ipython-input-27-132c1ec3fc4a>:2: SettingWithCopyWarning: \n",
            "A value is trying to be set on a copy of a slice from a DataFrame.\n",
            "Try using .loc[row_indexer,col_indexer] = value instead\n",
            "\n",
            "See the caveats in the documentation: https://pandas.pydata.org/pandas-docs/stable/user_guide/indexing.html#returning-a-view-versus-a-copy\n",
            "  stacked_ipos_df['IPO Price'] = pd.to_numeric(stacked_ipos_df['IPO Price'].str.replace('$', ''), errors='coerce')\n",
            "<ipython-input-27-132c1ec3fc4a>:4: SettingWithCopyWarning: \n",
            "A value is trying to be set on a copy of a slice from a DataFrame.\n",
            "Try using .loc[row_indexer,col_indexer] = value instead\n",
            "\n",
            "See the caveats in the documentation: https://pandas.pydata.org/pandas-docs/stable/user_guide/indexing.html#returning-a-view-versus-a-copy\n",
            "  stacked_ipos_df['IPO Price'] = pd.to_numeric(stacked_ipos_df['IPO Price'])\n"
          ]
        }
      ]
    },
    {
      "cell_type": "code",
      "source": [
        "stacked_ipos_df"
      ],
      "metadata": {
        "id": "efKH0oaL-Rgw",
        "colab": {
          "base_uri": "https://localhost:8080/",
          "height": 423
        },
        "outputId": "c23a6144-86d4-42b1-8b88-58ade5bf9935"
      },
      "execution_count": 28,
      "outputs": [
        {
          "output_type": "execute_result",
          "data": {
            "text/plain": [
              "      IPO Date Symbol                                    Company Name  \\\n",
              "0   2023-12-27   IROH                   Iron Horse Acquisitions Corp.   \n",
              "1   2023-12-19   LGCB                              Linkage Global Inc   \n",
              "2   2023-12-15    ZKH                               ZKH Group Limited   \n",
              "3   2023-12-15   BAYA                        Bayview Acquisition Corp   \n",
              "4   2023-12-14   INHD                              Inno Holdings Inc.   \n",
              "..         ...    ...                                             ...   \n",
              "213 2024-01-18   PSBD                  Palmer Square Capital BDC Inc.   \n",
              "214 2024-01-18   CCTG  CCSC Technology International Holdings Limited   \n",
              "215 2024-01-12   SYNX                                  Silynxcom Ltd.   \n",
              "216 2024-01-11   SDHC                       Smith Douglas Homes Corp.   \n",
              "217 2024-01-09   ROMA                      Roma Green Finance Limited   \n",
              "\n",
              "     IPO Price Current   Return  \n",
              "0        10.00  $10.05    0.50%  \n",
              "1         4.00   $2.91  -27.25%  \n",
              "2        15.50  $12.95  -16.45%  \n",
              "3        10.00  $10.18    1.80%  \n",
              "4         4.00   $0.62  -84.45%  \n",
              "..         ...     ...      ...  \n",
              "213      16.45  $16.55    0.61%  \n",
              "214       6.00   $2.41  -59.83%  \n",
              "215       4.00   $2.74  -31.50%  \n",
              "216      21.00  $29.68   41.33%  \n",
              "217       4.00   $0.75  -81.25%  \n",
              "\n",
              "[184 rows x 6 columns]"
            ],
            "text/html": [
              "\n",
              "  <div id=\"df-32097365-0c4f-4b85-b0bf-45d5c9a4e02a\" class=\"colab-df-container\">\n",
              "    <div>\n",
              "<style scoped>\n",
              "    .dataframe tbody tr th:only-of-type {\n",
              "        vertical-align: middle;\n",
              "    }\n",
              "\n",
              "    .dataframe tbody tr th {\n",
              "        vertical-align: top;\n",
              "    }\n",
              "\n",
              "    .dataframe thead th {\n",
              "        text-align: right;\n",
              "    }\n",
              "</style>\n",
              "<table border=\"1\" class=\"dataframe\">\n",
              "  <thead>\n",
              "    <tr style=\"text-align: right;\">\n",
              "      <th></th>\n",
              "      <th>IPO Date</th>\n",
              "      <th>Symbol</th>\n",
              "      <th>Company Name</th>\n",
              "      <th>IPO Price</th>\n",
              "      <th>Current</th>\n",
              "      <th>Return</th>\n",
              "    </tr>\n",
              "  </thead>\n",
              "  <tbody>\n",
              "    <tr>\n",
              "      <th>0</th>\n",
              "      <td>2023-12-27</td>\n",
              "      <td>IROH</td>\n",
              "      <td>Iron Horse Acquisitions Corp.</td>\n",
              "      <td>10.00</td>\n",
              "      <td>$10.05</td>\n",
              "      <td>0.50%</td>\n",
              "    </tr>\n",
              "    <tr>\n",
              "      <th>1</th>\n",
              "      <td>2023-12-19</td>\n",
              "      <td>LGCB</td>\n",
              "      <td>Linkage Global Inc</td>\n",
              "      <td>4.00</td>\n",
              "      <td>$2.91</td>\n",
              "      <td>-27.25%</td>\n",
              "    </tr>\n",
              "    <tr>\n",
              "      <th>2</th>\n",
              "      <td>2023-12-15</td>\n",
              "      <td>ZKH</td>\n",
              "      <td>ZKH Group Limited</td>\n",
              "      <td>15.50</td>\n",
              "      <td>$12.95</td>\n",
              "      <td>-16.45%</td>\n",
              "    </tr>\n",
              "    <tr>\n",
              "      <th>3</th>\n",
              "      <td>2023-12-15</td>\n",
              "      <td>BAYA</td>\n",
              "      <td>Bayview Acquisition Corp</td>\n",
              "      <td>10.00</td>\n",
              "      <td>$10.18</td>\n",
              "      <td>1.80%</td>\n",
              "    </tr>\n",
              "    <tr>\n",
              "      <th>4</th>\n",
              "      <td>2023-12-14</td>\n",
              "      <td>INHD</td>\n",
              "      <td>Inno Holdings Inc.</td>\n",
              "      <td>4.00</td>\n",
              "      <td>$0.62</td>\n",
              "      <td>-84.45%</td>\n",
              "    </tr>\n",
              "    <tr>\n",
              "      <th>...</th>\n",
              "      <td>...</td>\n",
              "      <td>...</td>\n",
              "      <td>...</td>\n",
              "      <td>...</td>\n",
              "      <td>...</td>\n",
              "      <td>...</td>\n",
              "    </tr>\n",
              "    <tr>\n",
              "      <th>213</th>\n",
              "      <td>2024-01-18</td>\n",
              "      <td>PSBD</td>\n",
              "      <td>Palmer Square Capital BDC Inc.</td>\n",
              "      <td>16.45</td>\n",
              "      <td>$16.55</td>\n",
              "      <td>0.61%</td>\n",
              "    </tr>\n",
              "    <tr>\n",
              "      <th>214</th>\n",
              "      <td>2024-01-18</td>\n",
              "      <td>CCTG</td>\n",
              "      <td>CCSC Technology International Holdings Limited</td>\n",
              "      <td>6.00</td>\n",
              "      <td>$2.41</td>\n",
              "      <td>-59.83%</td>\n",
              "    </tr>\n",
              "    <tr>\n",
              "      <th>215</th>\n",
              "      <td>2024-01-12</td>\n",
              "      <td>SYNX</td>\n",
              "      <td>Silynxcom Ltd.</td>\n",
              "      <td>4.00</td>\n",
              "      <td>$2.74</td>\n",
              "      <td>-31.50%</td>\n",
              "    </tr>\n",
              "    <tr>\n",
              "      <th>216</th>\n",
              "      <td>2024-01-11</td>\n",
              "      <td>SDHC</td>\n",
              "      <td>Smith Douglas Homes Corp.</td>\n",
              "      <td>21.00</td>\n",
              "      <td>$29.68</td>\n",
              "      <td>41.33%</td>\n",
              "    </tr>\n",
              "    <tr>\n",
              "      <th>217</th>\n",
              "      <td>2024-01-09</td>\n",
              "      <td>ROMA</td>\n",
              "      <td>Roma Green Finance Limited</td>\n",
              "      <td>4.00</td>\n",
              "      <td>$0.75</td>\n",
              "      <td>-81.25%</td>\n",
              "    </tr>\n",
              "  </tbody>\n",
              "</table>\n",
              "<p>184 rows × 6 columns</p>\n",
              "</div>\n",
              "    <div class=\"colab-df-buttons\">\n",
              "\n",
              "  <div class=\"colab-df-container\">\n",
              "    <button class=\"colab-df-convert\" onclick=\"convertToInteractive('df-32097365-0c4f-4b85-b0bf-45d5c9a4e02a')\"\n",
              "            title=\"Convert this dataframe to an interactive table.\"\n",
              "            style=\"display:none;\">\n",
              "\n",
              "  <svg xmlns=\"http://www.w3.org/2000/svg\" height=\"24px\" viewBox=\"0 -960 960 960\">\n",
              "    <path d=\"M120-120v-720h720v720H120Zm60-500h600v-160H180v160Zm220 220h160v-160H400v160Zm0 220h160v-160H400v160ZM180-400h160v-160H180v160Zm440 0h160v-160H620v160ZM180-180h160v-160H180v160Zm440 0h160v-160H620v160Z\"/>\n",
              "  </svg>\n",
              "    </button>\n",
              "\n",
              "  <style>\n",
              "    .colab-df-container {\n",
              "      display:flex;\n",
              "      gap: 12px;\n",
              "    }\n",
              "\n",
              "    .colab-df-convert {\n",
              "      background-color: #E8F0FE;\n",
              "      border: none;\n",
              "      border-radius: 50%;\n",
              "      cursor: pointer;\n",
              "      display: none;\n",
              "      fill: #1967D2;\n",
              "      height: 32px;\n",
              "      padding: 0 0 0 0;\n",
              "      width: 32px;\n",
              "    }\n",
              "\n",
              "    .colab-df-convert:hover {\n",
              "      background-color: #E2EBFA;\n",
              "      box-shadow: 0px 1px 2px rgba(60, 64, 67, 0.3), 0px 1px 3px 1px rgba(60, 64, 67, 0.15);\n",
              "      fill: #174EA6;\n",
              "    }\n",
              "\n",
              "    .colab-df-buttons div {\n",
              "      margin-bottom: 4px;\n",
              "    }\n",
              "\n",
              "    [theme=dark] .colab-df-convert {\n",
              "      background-color: #3B4455;\n",
              "      fill: #D2E3FC;\n",
              "    }\n",
              "\n",
              "    [theme=dark] .colab-df-convert:hover {\n",
              "      background-color: #434B5C;\n",
              "      box-shadow: 0px 1px 3px 1px rgba(0, 0, 0, 0.15);\n",
              "      filter: drop-shadow(0px 1px 2px rgba(0, 0, 0, 0.3));\n",
              "      fill: #FFFFFF;\n",
              "    }\n",
              "  </style>\n",
              "\n",
              "    <script>\n",
              "      const buttonEl =\n",
              "        document.querySelector('#df-32097365-0c4f-4b85-b0bf-45d5c9a4e02a button.colab-df-convert');\n",
              "      buttonEl.style.display =\n",
              "        google.colab.kernel.accessAllowed ? 'block' : 'none';\n",
              "\n",
              "      async function convertToInteractive(key) {\n",
              "        const element = document.querySelector('#df-32097365-0c4f-4b85-b0bf-45d5c9a4e02a');\n",
              "        const dataTable =\n",
              "          await google.colab.kernel.invokeFunction('convertToInteractive',\n",
              "                                                    [key], {});\n",
              "        if (!dataTable) return;\n",
              "\n",
              "        const docLinkHtml = 'Like what you see? Visit the ' +\n",
              "          '<a target=\"_blank\" href=https://colab.research.google.com/notebooks/data_table.ipynb>data table notebook</a>'\n",
              "          + ' to learn more about interactive tables.';\n",
              "        element.innerHTML = '';\n",
              "        dataTable['output_type'] = 'display_data';\n",
              "        await google.colab.output.renderOutput(dataTable, element);\n",
              "        const docLink = document.createElement('div');\n",
              "        docLink.innerHTML = docLinkHtml;\n",
              "        element.appendChild(docLink);\n",
              "      }\n",
              "    </script>\n",
              "  </div>\n",
              "\n",
              "\n",
              "<div id=\"df-6b46376d-e4d1-4317-a2f7-c7d93992a25b\">\n",
              "  <button class=\"colab-df-quickchart\" onclick=\"quickchart('df-6b46376d-e4d1-4317-a2f7-c7d93992a25b')\"\n",
              "            title=\"Suggest charts\"\n",
              "            style=\"display:none;\">\n",
              "\n",
              "<svg xmlns=\"http://www.w3.org/2000/svg\" height=\"24px\"viewBox=\"0 0 24 24\"\n",
              "     width=\"24px\">\n",
              "    <g>\n",
              "        <path d=\"M19 3H5c-1.1 0-2 .9-2 2v14c0 1.1.9 2 2 2h14c1.1 0 2-.9 2-2V5c0-1.1-.9-2-2-2zM9 17H7v-7h2v7zm4 0h-2V7h2v10zm4 0h-2v-4h2v4z\"/>\n",
              "    </g>\n",
              "</svg>\n",
              "  </button>\n",
              "\n",
              "<style>\n",
              "  .colab-df-quickchart {\n",
              "      --bg-color: #E8F0FE;\n",
              "      --fill-color: #1967D2;\n",
              "      --hover-bg-color: #E2EBFA;\n",
              "      --hover-fill-color: #174EA6;\n",
              "      --disabled-fill-color: #AAA;\n",
              "      --disabled-bg-color: #DDD;\n",
              "  }\n",
              "\n",
              "  [theme=dark] .colab-df-quickchart {\n",
              "      --bg-color: #3B4455;\n",
              "      --fill-color: #D2E3FC;\n",
              "      --hover-bg-color: #434B5C;\n",
              "      --hover-fill-color: #FFFFFF;\n",
              "      --disabled-bg-color: #3B4455;\n",
              "      --disabled-fill-color: #666;\n",
              "  }\n",
              "\n",
              "  .colab-df-quickchart {\n",
              "    background-color: var(--bg-color);\n",
              "    border: none;\n",
              "    border-radius: 50%;\n",
              "    cursor: pointer;\n",
              "    display: none;\n",
              "    fill: var(--fill-color);\n",
              "    height: 32px;\n",
              "    padding: 0;\n",
              "    width: 32px;\n",
              "  }\n",
              "\n",
              "  .colab-df-quickchart:hover {\n",
              "    background-color: var(--hover-bg-color);\n",
              "    box-shadow: 0 1px 2px rgba(60, 64, 67, 0.3), 0 1px 3px 1px rgba(60, 64, 67, 0.15);\n",
              "    fill: var(--button-hover-fill-color);\n",
              "  }\n",
              "\n",
              "  .colab-df-quickchart-complete:disabled,\n",
              "  .colab-df-quickchart-complete:disabled:hover {\n",
              "    background-color: var(--disabled-bg-color);\n",
              "    fill: var(--disabled-fill-color);\n",
              "    box-shadow: none;\n",
              "  }\n",
              "\n",
              "  .colab-df-spinner {\n",
              "    border: 2px solid var(--fill-color);\n",
              "    border-color: transparent;\n",
              "    border-bottom-color: var(--fill-color);\n",
              "    animation:\n",
              "      spin 1s steps(1) infinite;\n",
              "  }\n",
              "\n",
              "  @keyframes spin {\n",
              "    0% {\n",
              "      border-color: transparent;\n",
              "      border-bottom-color: var(--fill-color);\n",
              "      border-left-color: var(--fill-color);\n",
              "    }\n",
              "    20% {\n",
              "      border-color: transparent;\n",
              "      border-left-color: var(--fill-color);\n",
              "      border-top-color: var(--fill-color);\n",
              "    }\n",
              "    30% {\n",
              "      border-color: transparent;\n",
              "      border-left-color: var(--fill-color);\n",
              "      border-top-color: var(--fill-color);\n",
              "      border-right-color: var(--fill-color);\n",
              "    }\n",
              "    40% {\n",
              "      border-color: transparent;\n",
              "      border-right-color: var(--fill-color);\n",
              "      border-top-color: var(--fill-color);\n",
              "    }\n",
              "    60% {\n",
              "      border-color: transparent;\n",
              "      border-right-color: var(--fill-color);\n",
              "    }\n",
              "    80% {\n",
              "      border-color: transparent;\n",
              "      border-right-color: var(--fill-color);\n",
              "      border-bottom-color: var(--fill-color);\n",
              "    }\n",
              "    90% {\n",
              "      border-color: transparent;\n",
              "      border-bottom-color: var(--fill-color);\n",
              "    }\n",
              "  }\n",
              "</style>\n",
              "\n",
              "  <script>\n",
              "    async function quickchart(key) {\n",
              "      const quickchartButtonEl =\n",
              "        document.querySelector('#' + key + ' button');\n",
              "      quickchartButtonEl.disabled = true;  // To prevent multiple clicks.\n",
              "      quickchartButtonEl.classList.add('colab-df-spinner');\n",
              "      try {\n",
              "        const charts = await google.colab.kernel.invokeFunction(\n",
              "            'suggestCharts', [key], {});\n",
              "      } catch (error) {\n",
              "        console.error('Error during call to suggestCharts:', error);\n",
              "      }\n",
              "      quickchartButtonEl.classList.remove('colab-df-spinner');\n",
              "      quickchartButtonEl.classList.add('colab-df-quickchart-complete');\n",
              "    }\n",
              "    (() => {\n",
              "      let quickchartButtonEl =\n",
              "        document.querySelector('#df-6b46376d-e4d1-4317-a2f7-c7d93992a25b button');\n",
              "      quickchartButtonEl.style.display =\n",
              "        google.colab.kernel.accessAllowed ? 'block' : 'none';\n",
              "    })();\n",
              "  </script>\n",
              "</div>\n",
              "\n",
              "  <div id=\"id_876a8013-82f7-4caa-b8aa-1fea5da67b84\">\n",
              "    <style>\n",
              "      .colab-df-generate {\n",
              "        background-color: #E8F0FE;\n",
              "        border: none;\n",
              "        border-radius: 50%;\n",
              "        cursor: pointer;\n",
              "        display: none;\n",
              "        fill: #1967D2;\n",
              "        height: 32px;\n",
              "        padding: 0 0 0 0;\n",
              "        width: 32px;\n",
              "      }\n",
              "\n",
              "      .colab-df-generate:hover {\n",
              "        background-color: #E2EBFA;\n",
              "        box-shadow: 0px 1px 2px rgba(60, 64, 67, 0.3), 0px 1px 3px 1px rgba(60, 64, 67, 0.15);\n",
              "        fill: #174EA6;\n",
              "      }\n",
              "\n",
              "      [theme=dark] .colab-df-generate {\n",
              "        background-color: #3B4455;\n",
              "        fill: #D2E3FC;\n",
              "      }\n",
              "\n",
              "      [theme=dark] .colab-df-generate:hover {\n",
              "        background-color: #434B5C;\n",
              "        box-shadow: 0px 1px 3px 1px rgba(0, 0, 0, 0.15);\n",
              "        filter: drop-shadow(0px 1px 2px rgba(0, 0, 0, 0.3));\n",
              "        fill: #FFFFFF;\n",
              "      }\n",
              "    </style>\n",
              "    <button class=\"colab-df-generate\" onclick=\"generateWithVariable('stacked_ipos_df')\"\n",
              "            title=\"Generate code using this dataframe.\"\n",
              "            style=\"display:none;\">\n",
              "\n",
              "  <svg xmlns=\"http://www.w3.org/2000/svg\" height=\"24px\"viewBox=\"0 0 24 24\"\n",
              "       width=\"24px\">\n",
              "    <path d=\"M7,19H8.4L18.45,9,17,7.55,7,17.6ZM5,21V16.75L18.45,3.32a2,2,0,0,1,2.83,0l1.4,1.43a1.91,1.91,0,0,1,.58,1.4,1.91,1.91,0,0,1-.58,1.4L9.25,21ZM18.45,9,17,7.55Zm-12,3A5.31,5.31,0,0,0,4.9,8.1,5.31,5.31,0,0,0,1,6.5,5.31,5.31,0,0,0,4.9,4.9,5.31,5.31,0,0,0,6.5,1,5.31,5.31,0,0,0,8.1,4.9,5.31,5.31,0,0,0,12,6.5,5.46,5.46,0,0,0,6.5,12Z\"/>\n",
              "  </svg>\n",
              "    </button>\n",
              "    <script>\n",
              "      (() => {\n",
              "      const buttonEl =\n",
              "        document.querySelector('#id_876a8013-82f7-4caa-b8aa-1fea5da67b84 button.colab-df-generate');\n",
              "      buttonEl.style.display =\n",
              "        google.colab.kernel.accessAllowed ? 'block' : 'none';\n",
              "\n",
              "      buttonEl.onclick = () => {\n",
              "        google.colab.notebook.generateWithVariable('stacked_ipos_df');\n",
              "      }\n",
              "      })();\n",
              "    </script>\n",
              "  </div>\n",
              "\n",
              "    </div>\n",
              "  </div>\n"
            ],
            "application/vnd.google.colaboratory.intrinsic+json": {
              "type": "dataframe",
              "variable_name": "stacked_ipos_df",
              "summary": "{\n  \"name\": \"stacked_ipos_df\",\n  \"rows\": 184,\n  \"fields\": [\n    {\n      \"column\": \"IPO Date\",\n      \"properties\": {\n        \"dtype\": \"date\",\n        \"min\": \"2023-01-13 00:00:00\",\n        \"max\": \"2024-02-27 00:00:00\",\n        \"num_unique_values\": 118,\n        \"samples\": [\n          \"2023-06-14 00:00:00\",\n          \"2023-02-09 00:00:00\",\n          \"2023-12-04 00:00:00\"\n        ],\n        \"semantic_type\": \"\",\n        \"description\": \"\"\n      }\n    },\n    {\n      \"column\": \"Symbol\",\n      \"properties\": {\n        \"dtype\": \"string\",\n        \"num_unique_values\": 184,\n        \"samples\": [\n          \"GVH\",\n          \"DTCK\",\n          \"CHRO\"\n        ],\n        \"semantic_type\": \"\",\n        \"description\": \"\"\n      }\n    },\n    {\n      \"column\": \"Company Name\",\n      \"properties\": {\n        \"dtype\": \"string\",\n        \"num_unique_values\": 184,\n        \"samples\": [\n          \"Globavend Holdings Limited\",\n          \"Davis Commodities Limited\",\n          \"Chromocell Therapeutics Corp\"\n        ],\n        \"semantic_type\": \"\",\n        \"description\": \"\"\n      }\n    },\n    {\n      \"column\": \"IPO Price\",\n      \"properties\": {\n        \"dtype\": \"number\",\n        \"std\": 9.89411696453202,\n        \"min\": 2.5,\n        \"max\": 92.0,\n        \"num_unique_values\": 44,\n        \"samples\": [\n          12.5,\n          18.0,\n          14.0\n        ],\n        \"semantic_type\": \"\",\n        \"description\": \"\"\n      }\n    },\n    {\n      \"column\": \"Current\",\n      \"properties\": {\n        \"dtype\": \"string\",\n        \"num_unique_values\": 168,\n        \"samples\": [\n          \"$37.61\",\n          \"$10.31\",\n          \"$10.56\"\n        ],\n        \"semantic_type\": \"\",\n        \"description\": \"\"\n      }\n    },\n    {\n      \"column\": \"Return\",\n      \"properties\": {\n        \"dtype\": \"string\",\n        \"num_unique_values\": 179,\n        \"samples\": [\n          \"5.90%\",\n          \"34.93%\",\n          \"-73.33%\"\n        ],\n        \"semantic_type\": \"\",\n        \"description\": \"\"\n      }\n    }\n  ]\n}"
            }
          },
          "metadata": {},
          "execution_count": 28
        }
      ]
    },
    {
      "cell_type": "code",
      "source": [
        "# Convert \"Current\" column\n",
        "stacked_ipos_df['Current'] = pd.to_numeric(stacked_ipos_df['Current'].str.replace('$', ''), errors='coerce')\n",
        "\n",
        "# Convert 'Return' to numeric format (percentage)\n",
        "stacked_ipos_df['Return'] = pd.to_numeric(stacked_ipos_df['Return'].str.replace('%', ''), errors='coerce') / 100\n"
      ],
      "metadata": {
        "id": "b2E3zGI0-Y0a"
      },
      "execution_count": 29,
      "outputs": []
    },
    {
      "cell_type": "code",
      "source": [
        "stacked_ipos_df.info()\n"
      ],
      "metadata": {
        "id": "_lO4DCO3_X0g",
        "colab": {
          "base_uri": "https://localhost:8080/"
        },
        "outputId": "cf9b5905-b793-48bb-c2a8-7df74c8f7237"
      },
      "execution_count": 30,
      "outputs": [
        {
          "output_type": "stream",
          "name": "stdout",
          "text": [
            "<class 'pandas.core.frame.DataFrame'>\n",
            "Index: 184 entries, 0 to 217\n",
            "Data columns (total 6 columns):\n",
            " #   Column        Non-Null Count  Dtype         \n",
            "---  ------        --------------  -----         \n",
            " 0   IPO Date      184 non-null    datetime64[ns]\n",
            " 1   Symbol        184 non-null    object        \n",
            " 2   Company Name  184 non-null    object        \n",
            " 3   IPO Price     184 non-null    float64       \n",
            " 4   Current       184 non-null    float64       \n",
            " 5   Return        184 non-null    float64       \n",
            "dtypes: datetime64[ns](1), float64(3), object(2)\n",
            "memory usage: 10.1+ KB\n"
          ]
        }
      ]
    },
    {
      "cell_type": "code",
      "source": [
        "stacked_ipos_df.isnull().sum()"
      ],
      "metadata": {
        "id": "WJgH_cTv_ZRn",
        "colab": {
          "base_uri": "https://localhost:8080/"
        },
        "outputId": "c842867a-5939-4dbb-a7d0-05224d1222ec"
      },
      "execution_count": 31,
      "outputs": [
        {
          "output_type": "execute_result",
          "data": {
            "text/plain": [
              "IPO Date        0\n",
              "Symbol          0\n",
              "Company Name    0\n",
              "IPO Price       0\n",
              "Current         0\n",
              "Return          0\n",
              "dtype: int64"
            ]
          },
          "metadata": {},
          "execution_count": 31
        }
      ]
    },
    {
      "cell_type": "code",
      "source": [
        "stacked_ipos_df[stacked_ipos_df.Return.isnull()]\n"
      ],
      "metadata": {
        "id": "fwursoZh_etW",
        "colab": {
          "base_uri": "https://localhost:8080/",
          "height": 53
        },
        "outputId": "ba135236-be90-41be-9f5f-de3f97ad3166"
      },
      "execution_count": 32,
      "outputs": [
        {
          "output_type": "execute_result",
          "data": {
            "text/plain": [
              "Empty DataFrame\n",
              "Columns: [IPO Date, Symbol, Company Name, IPO Price, Current, Return]\n",
              "Index: []"
            ],
            "text/html": [
              "\n",
              "  <div id=\"df-96b3ebec-0870-40f8-8a1d-c306dac45cf8\" class=\"colab-df-container\">\n",
              "    <div>\n",
              "<style scoped>\n",
              "    .dataframe tbody tr th:only-of-type {\n",
              "        vertical-align: middle;\n",
              "    }\n",
              "\n",
              "    .dataframe tbody tr th {\n",
              "        vertical-align: top;\n",
              "    }\n",
              "\n",
              "    .dataframe thead th {\n",
              "        text-align: right;\n",
              "    }\n",
              "</style>\n",
              "<table border=\"1\" class=\"dataframe\">\n",
              "  <thead>\n",
              "    <tr style=\"text-align: right;\">\n",
              "      <th></th>\n",
              "      <th>IPO Date</th>\n",
              "      <th>Symbol</th>\n",
              "      <th>Company Name</th>\n",
              "      <th>IPO Price</th>\n",
              "      <th>Current</th>\n",
              "      <th>Return</th>\n",
              "    </tr>\n",
              "  </thead>\n",
              "  <tbody>\n",
              "  </tbody>\n",
              "</table>\n",
              "</div>\n",
              "    <div class=\"colab-df-buttons\">\n",
              "\n",
              "  <div class=\"colab-df-container\">\n",
              "    <button class=\"colab-df-convert\" onclick=\"convertToInteractive('df-96b3ebec-0870-40f8-8a1d-c306dac45cf8')\"\n",
              "            title=\"Convert this dataframe to an interactive table.\"\n",
              "            style=\"display:none;\">\n",
              "\n",
              "  <svg xmlns=\"http://www.w3.org/2000/svg\" height=\"24px\" viewBox=\"0 -960 960 960\">\n",
              "    <path d=\"M120-120v-720h720v720H120Zm60-500h600v-160H180v160Zm220 220h160v-160H400v160Zm0 220h160v-160H400v160ZM180-400h160v-160H180v160Zm440 0h160v-160H620v160ZM180-180h160v-160H180v160Zm440 0h160v-160H620v160Z\"/>\n",
              "  </svg>\n",
              "    </button>\n",
              "\n",
              "  <style>\n",
              "    .colab-df-container {\n",
              "      display:flex;\n",
              "      gap: 12px;\n",
              "    }\n",
              "\n",
              "    .colab-df-convert {\n",
              "      background-color: #E8F0FE;\n",
              "      border: none;\n",
              "      border-radius: 50%;\n",
              "      cursor: pointer;\n",
              "      display: none;\n",
              "      fill: #1967D2;\n",
              "      height: 32px;\n",
              "      padding: 0 0 0 0;\n",
              "      width: 32px;\n",
              "    }\n",
              "\n",
              "    .colab-df-convert:hover {\n",
              "      background-color: #E2EBFA;\n",
              "      box-shadow: 0px 1px 2px rgba(60, 64, 67, 0.3), 0px 1px 3px 1px rgba(60, 64, 67, 0.15);\n",
              "      fill: #174EA6;\n",
              "    }\n",
              "\n",
              "    .colab-df-buttons div {\n",
              "      margin-bottom: 4px;\n",
              "    }\n",
              "\n",
              "    [theme=dark] .colab-df-convert {\n",
              "      background-color: #3B4455;\n",
              "      fill: #D2E3FC;\n",
              "    }\n",
              "\n",
              "    [theme=dark] .colab-df-convert:hover {\n",
              "      background-color: #434B5C;\n",
              "      box-shadow: 0px 1px 3px 1px rgba(0, 0, 0, 0.15);\n",
              "      filter: drop-shadow(0px 1px 2px rgba(0, 0, 0, 0.3));\n",
              "      fill: #FFFFFF;\n",
              "    }\n",
              "  </style>\n",
              "\n",
              "    <script>\n",
              "      const buttonEl =\n",
              "        document.querySelector('#df-96b3ebec-0870-40f8-8a1d-c306dac45cf8 button.colab-df-convert');\n",
              "      buttonEl.style.display =\n",
              "        google.colab.kernel.accessAllowed ? 'block' : 'none';\n",
              "\n",
              "      async function convertToInteractive(key) {\n",
              "        const element = document.querySelector('#df-96b3ebec-0870-40f8-8a1d-c306dac45cf8');\n",
              "        const dataTable =\n",
              "          await google.colab.kernel.invokeFunction('convertToInteractive',\n",
              "                                                    [key], {});\n",
              "        if (!dataTable) return;\n",
              "\n",
              "        const docLinkHtml = 'Like what you see? Visit the ' +\n",
              "          '<a target=\"_blank\" href=https://colab.research.google.com/notebooks/data_table.ipynb>data table notebook</a>'\n",
              "          + ' to learn more about interactive tables.';\n",
              "        element.innerHTML = '';\n",
              "        dataTable['output_type'] = 'display_data';\n",
              "        await google.colab.output.renderOutput(dataTable, element);\n",
              "        const docLink = document.createElement('div');\n",
              "        docLink.innerHTML = docLinkHtml;\n",
              "        element.appendChild(docLink);\n",
              "      }\n",
              "    </script>\n",
              "  </div>\n",
              "\n",
              "\n",
              "    </div>\n",
              "  </div>\n"
            ],
            "application/vnd.google.colaboratory.intrinsic+json": {
              "type": "dataframe",
              "repr_error": "Out of range float values are not JSON compliant: nan"
            }
          },
          "metadata": {},
          "execution_count": 32
        }
      ]
    },
    {
      "cell_type": "code",
      "source": [
        "stacked_ipos_df.describe()"
      ],
      "metadata": {
        "id": "wvSKG2Rd_myR",
        "colab": {
          "base_uri": "https://localhost:8080/",
          "height": 300
        },
        "outputId": "e99bc247-db5c-40a7-8b96-2f6e9bbc8afa"
      },
      "execution_count": 33,
      "outputs": [
        {
          "output_type": "execute_result",
          "data": {
            "text/plain": [
              "                            IPO Date   IPO Price     Current      Return\n",
              "count                            184  184.000000  184.000000  184.000000\n",
              "mean   2023-08-01 01:57:23.478260992   10.449076    9.859185   -0.254271\n",
              "min              2023-01-13 00:00:00    2.500000    0.000000   -0.999600\n",
              "25%              2023-04-04 00:00:00    4.000000    1.117500   -0.742325\n",
              "50%              2023-07-26 12:00:00    8.000000    5.355000   -0.387100\n",
              "75%              2023-11-11 00:00:00   12.000000   10.720000    0.050250\n",
              "max              2024-02-27 00:00:00   92.000000  120.520000    2.597500\n",
              "std                              NaN    9.894117   15.538189    0.643848"
            ],
            "text/html": [
              "\n",
              "  <div id=\"df-54d7bcdb-d8d9-466c-996c-c000d80e6c93\" class=\"colab-df-container\">\n",
              "    <div>\n",
              "<style scoped>\n",
              "    .dataframe tbody tr th:only-of-type {\n",
              "        vertical-align: middle;\n",
              "    }\n",
              "\n",
              "    .dataframe tbody tr th {\n",
              "        vertical-align: top;\n",
              "    }\n",
              "\n",
              "    .dataframe thead th {\n",
              "        text-align: right;\n",
              "    }\n",
              "</style>\n",
              "<table border=\"1\" class=\"dataframe\">\n",
              "  <thead>\n",
              "    <tr style=\"text-align: right;\">\n",
              "      <th></th>\n",
              "      <th>IPO Date</th>\n",
              "      <th>IPO Price</th>\n",
              "      <th>Current</th>\n",
              "      <th>Return</th>\n",
              "    </tr>\n",
              "  </thead>\n",
              "  <tbody>\n",
              "    <tr>\n",
              "      <th>count</th>\n",
              "      <td>184</td>\n",
              "      <td>184.000000</td>\n",
              "      <td>184.000000</td>\n",
              "      <td>184.000000</td>\n",
              "    </tr>\n",
              "    <tr>\n",
              "      <th>mean</th>\n",
              "      <td>2023-08-01 01:57:23.478260992</td>\n",
              "      <td>10.449076</td>\n",
              "      <td>9.859185</td>\n",
              "      <td>-0.254271</td>\n",
              "    </tr>\n",
              "    <tr>\n",
              "      <th>min</th>\n",
              "      <td>2023-01-13 00:00:00</td>\n",
              "      <td>2.500000</td>\n",
              "      <td>0.000000</td>\n",
              "      <td>-0.999600</td>\n",
              "    </tr>\n",
              "    <tr>\n",
              "      <th>25%</th>\n",
              "      <td>2023-04-04 00:00:00</td>\n",
              "      <td>4.000000</td>\n",
              "      <td>1.117500</td>\n",
              "      <td>-0.742325</td>\n",
              "    </tr>\n",
              "    <tr>\n",
              "      <th>50%</th>\n",
              "      <td>2023-07-26 12:00:00</td>\n",
              "      <td>8.000000</td>\n",
              "      <td>5.355000</td>\n",
              "      <td>-0.387100</td>\n",
              "    </tr>\n",
              "    <tr>\n",
              "      <th>75%</th>\n",
              "      <td>2023-11-11 00:00:00</td>\n",
              "      <td>12.000000</td>\n",
              "      <td>10.720000</td>\n",
              "      <td>0.050250</td>\n",
              "    </tr>\n",
              "    <tr>\n",
              "      <th>max</th>\n",
              "      <td>2024-02-27 00:00:00</td>\n",
              "      <td>92.000000</td>\n",
              "      <td>120.520000</td>\n",
              "      <td>2.597500</td>\n",
              "    </tr>\n",
              "    <tr>\n",
              "      <th>std</th>\n",
              "      <td>NaN</td>\n",
              "      <td>9.894117</td>\n",
              "      <td>15.538189</td>\n",
              "      <td>0.643848</td>\n",
              "    </tr>\n",
              "  </tbody>\n",
              "</table>\n",
              "</div>\n",
              "    <div class=\"colab-df-buttons\">\n",
              "\n",
              "  <div class=\"colab-df-container\">\n",
              "    <button class=\"colab-df-convert\" onclick=\"convertToInteractive('df-54d7bcdb-d8d9-466c-996c-c000d80e6c93')\"\n",
              "            title=\"Convert this dataframe to an interactive table.\"\n",
              "            style=\"display:none;\">\n",
              "\n",
              "  <svg xmlns=\"http://www.w3.org/2000/svg\" height=\"24px\" viewBox=\"0 -960 960 960\">\n",
              "    <path d=\"M120-120v-720h720v720H120Zm60-500h600v-160H180v160Zm220 220h160v-160H400v160Zm0 220h160v-160H400v160ZM180-400h160v-160H180v160Zm440 0h160v-160H620v160ZM180-180h160v-160H180v160Zm440 0h160v-160H620v160Z\"/>\n",
              "  </svg>\n",
              "    </button>\n",
              "\n",
              "  <style>\n",
              "    .colab-df-container {\n",
              "      display:flex;\n",
              "      gap: 12px;\n",
              "    }\n",
              "\n",
              "    .colab-df-convert {\n",
              "      background-color: #E8F0FE;\n",
              "      border: none;\n",
              "      border-radius: 50%;\n",
              "      cursor: pointer;\n",
              "      display: none;\n",
              "      fill: #1967D2;\n",
              "      height: 32px;\n",
              "      padding: 0 0 0 0;\n",
              "      width: 32px;\n",
              "    }\n",
              "\n",
              "    .colab-df-convert:hover {\n",
              "      background-color: #E2EBFA;\n",
              "      box-shadow: 0px 1px 2px rgba(60, 64, 67, 0.3), 0px 1px 3px 1px rgba(60, 64, 67, 0.15);\n",
              "      fill: #174EA6;\n",
              "    }\n",
              "\n",
              "    .colab-df-buttons div {\n",
              "      margin-bottom: 4px;\n",
              "    }\n",
              "\n",
              "    [theme=dark] .colab-df-convert {\n",
              "      background-color: #3B4455;\n",
              "      fill: #D2E3FC;\n",
              "    }\n",
              "\n",
              "    [theme=dark] .colab-df-convert:hover {\n",
              "      background-color: #434B5C;\n",
              "      box-shadow: 0px 1px 3px 1px rgba(0, 0, 0, 0.15);\n",
              "      filter: drop-shadow(0px 1px 2px rgba(0, 0, 0, 0.3));\n",
              "      fill: #FFFFFF;\n",
              "    }\n",
              "  </style>\n",
              "\n",
              "    <script>\n",
              "      const buttonEl =\n",
              "        document.querySelector('#df-54d7bcdb-d8d9-466c-996c-c000d80e6c93 button.colab-df-convert');\n",
              "      buttonEl.style.display =\n",
              "        google.colab.kernel.accessAllowed ? 'block' : 'none';\n",
              "\n",
              "      async function convertToInteractive(key) {\n",
              "        const element = document.querySelector('#df-54d7bcdb-d8d9-466c-996c-c000d80e6c93');\n",
              "        const dataTable =\n",
              "          await google.colab.kernel.invokeFunction('convertToInteractive',\n",
              "                                                    [key], {});\n",
              "        if (!dataTable) return;\n",
              "\n",
              "        const docLinkHtml = 'Like what you see? Visit the ' +\n",
              "          '<a target=\"_blank\" href=https://colab.research.google.com/notebooks/data_table.ipynb>data table notebook</a>'\n",
              "          + ' to learn more about interactive tables.';\n",
              "        element.innerHTML = '';\n",
              "        dataTable['output_type'] = 'display_data';\n",
              "        await google.colab.output.renderOutput(dataTable, element);\n",
              "        const docLink = document.createElement('div');\n",
              "        docLink.innerHTML = docLinkHtml;\n",
              "        element.appendChild(docLink);\n",
              "      }\n",
              "    </script>\n",
              "  </div>\n",
              "\n",
              "\n",
              "<div id=\"df-512b0144-f66e-4b22-8d72-a710035de4be\">\n",
              "  <button class=\"colab-df-quickchart\" onclick=\"quickchart('df-512b0144-f66e-4b22-8d72-a710035de4be')\"\n",
              "            title=\"Suggest charts\"\n",
              "            style=\"display:none;\">\n",
              "\n",
              "<svg xmlns=\"http://www.w3.org/2000/svg\" height=\"24px\"viewBox=\"0 0 24 24\"\n",
              "     width=\"24px\">\n",
              "    <g>\n",
              "        <path d=\"M19 3H5c-1.1 0-2 .9-2 2v14c0 1.1.9 2 2 2h14c1.1 0 2-.9 2-2V5c0-1.1-.9-2-2-2zM9 17H7v-7h2v7zm4 0h-2V7h2v10zm4 0h-2v-4h2v4z\"/>\n",
              "    </g>\n",
              "</svg>\n",
              "  </button>\n",
              "\n",
              "<style>\n",
              "  .colab-df-quickchart {\n",
              "      --bg-color: #E8F0FE;\n",
              "      --fill-color: #1967D2;\n",
              "      --hover-bg-color: #E2EBFA;\n",
              "      --hover-fill-color: #174EA6;\n",
              "      --disabled-fill-color: #AAA;\n",
              "      --disabled-bg-color: #DDD;\n",
              "  }\n",
              "\n",
              "  [theme=dark] .colab-df-quickchart {\n",
              "      --bg-color: #3B4455;\n",
              "      --fill-color: #D2E3FC;\n",
              "      --hover-bg-color: #434B5C;\n",
              "      --hover-fill-color: #FFFFFF;\n",
              "      --disabled-bg-color: #3B4455;\n",
              "      --disabled-fill-color: #666;\n",
              "  }\n",
              "\n",
              "  .colab-df-quickchart {\n",
              "    background-color: var(--bg-color);\n",
              "    border: none;\n",
              "    border-radius: 50%;\n",
              "    cursor: pointer;\n",
              "    display: none;\n",
              "    fill: var(--fill-color);\n",
              "    height: 32px;\n",
              "    padding: 0;\n",
              "    width: 32px;\n",
              "  }\n",
              "\n",
              "  .colab-df-quickchart:hover {\n",
              "    background-color: var(--hover-bg-color);\n",
              "    box-shadow: 0 1px 2px rgba(60, 64, 67, 0.3), 0 1px 3px 1px rgba(60, 64, 67, 0.15);\n",
              "    fill: var(--button-hover-fill-color);\n",
              "  }\n",
              "\n",
              "  .colab-df-quickchart-complete:disabled,\n",
              "  .colab-df-quickchart-complete:disabled:hover {\n",
              "    background-color: var(--disabled-bg-color);\n",
              "    fill: var(--disabled-fill-color);\n",
              "    box-shadow: none;\n",
              "  }\n",
              "\n",
              "  .colab-df-spinner {\n",
              "    border: 2px solid var(--fill-color);\n",
              "    border-color: transparent;\n",
              "    border-bottom-color: var(--fill-color);\n",
              "    animation:\n",
              "      spin 1s steps(1) infinite;\n",
              "  }\n",
              "\n",
              "  @keyframes spin {\n",
              "    0% {\n",
              "      border-color: transparent;\n",
              "      border-bottom-color: var(--fill-color);\n",
              "      border-left-color: var(--fill-color);\n",
              "    }\n",
              "    20% {\n",
              "      border-color: transparent;\n",
              "      border-left-color: var(--fill-color);\n",
              "      border-top-color: var(--fill-color);\n",
              "    }\n",
              "    30% {\n",
              "      border-color: transparent;\n",
              "      border-left-color: var(--fill-color);\n",
              "      border-top-color: var(--fill-color);\n",
              "      border-right-color: var(--fill-color);\n",
              "    }\n",
              "    40% {\n",
              "      border-color: transparent;\n",
              "      border-right-color: var(--fill-color);\n",
              "      border-top-color: var(--fill-color);\n",
              "    }\n",
              "    60% {\n",
              "      border-color: transparent;\n",
              "      border-right-color: var(--fill-color);\n",
              "    }\n",
              "    80% {\n",
              "      border-color: transparent;\n",
              "      border-right-color: var(--fill-color);\n",
              "      border-bottom-color: var(--fill-color);\n",
              "    }\n",
              "    90% {\n",
              "      border-color: transparent;\n",
              "      border-bottom-color: var(--fill-color);\n",
              "    }\n",
              "  }\n",
              "</style>\n",
              "\n",
              "  <script>\n",
              "    async function quickchart(key) {\n",
              "      const quickchartButtonEl =\n",
              "        document.querySelector('#' + key + ' button');\n",
              "      quickchartButtonEl.disabled = true;  // To prevent multiple clicks.\n",
              "      quickchartButtonEl.classList.add('colab-df-spinner');\n",
              "      try {\n",
              "        const charts = await google.colab.kernel.invokeFunction(\n",
              "            'suggestCharts', [key], {});\n",
              "      } catch (error) {\n",
              "        console.error('Error during call to suggestCharts:', error);\n",
              "      }\n",
              "      quickchartButtonEl.classList.remove('colab-df-spinner');\n",
              "      quickchartButtonEl.classList.add('colab-df-quickchart-complete');\n",
              "    }\n",
              "    (() => {\n",
              "      let quickchartButtonEl =\n",
              "        document.querySelector('#df-512b0144-f66e-4b22-8d72-a710035de4be button');\n",
              "      quickchartButtonEl.style.display =\n",
              "        google.colab.kernel.accessAllowed ? 'block' : 'none';\n",
              "    })();\n",
              "  </script>\n",
              "</div>\n",
              "\n",
              "    </div>\n",
              "  </div>\n"
            ],
            "application/vnd.google.colaboratory.intrinsic+json": {
              "type": "dataframe",
              "summary": "{\n  \"name\": \"stacked_ipos_df\",\n  \"rows\": 8,\n  \"fields\": [\n    {\n      \"column\": \"IPO Date\",\n      \"properties\": {\n        \"dtype\": \"date\",\n        \"min\": \"1970-01-01 00:00:00.000000184\",\n        \"max\": \"2024-02-27 00:00:00\",\n        \"num_unique_values\": 7,\n        \"samples\": [\n          \"184\",\n          \"2023-08-01 01:57:23.478260992\",\n          \"2023-11-11 00:00:00\"\n        ],\n        \"semantic_type\": \"\",\n        \"description\": \"\"\n      }\n    },\n    {\n      \"column\": \"IPO Price\",\n      \"properties\": {\n        \"dtype\": \"number\",\n        \"std\": 65.1688585019374,\n        \"min\": 2.5,\n        \"max\": 184.0,\n        \"num_unique_values\": 8,\n        \"samples\": [\n          10.449076086956522,\n          12.0,\n          184.0\n        ],\n        \"semantic_type\": \"\",\n        \"description\": \"\"\n      }\n    },\n    {\n      \"column\": \"Current\",\n      \"properties\": {\n        \"dtype\": \"number\",\n        \"std\": 69.49192597527188,\n        \"min\": 0.0,\n        \"max\": 184.0,\n        \"num_unique_values\": 8,\n        \"samples\": [\n          9.859184782608697,\n          10.72,\n          184.0\n        ],\n        \"semantic_type\": \"\",\n        \"description\": \"\"\n      }\n    },\n    {\n      \"column\": \"Return\",\n      \"properties\": {\n        \"dtype\": \"number\",\n        \"std\": 65.01762817619615,\n        \"min\": -0.9995999999999999,\n        \"max\": 184.0,\n        \"num_unique_values\": 8,\n        \"samples\": [\n          -0.2542711956521739,\n          0.05025,\n          184.0\n        ],\n        \"semantic_type\": \"\",\n        \"description\": \"\"\n      }\n    }\n  ]\n}"
            }
          },
          "metadata": {},
          "execution_count": 33
        }
      ]
    },
    {
      "cell_type": "code",
      "source": [],
      "metadata": {
        "id": "9InII3Fe6BeN"
      },
      "execution_count": 33,
      "outputs": []
    },
    {
      "cell_type": "code",
      "source": [
        "ALL_TICKERS = stacked_ipos_df['Symbol'].replace('PTHR','PTHRF')"
      ],
      "metadata": {
        "id": "6BR3_buU_rEX"
      },
      "execution_count": 34,
      "outputs": []
    },
    {
      "cell_type": "code",
      "source": [
        "ALL_TICKERS.tolist()\n"
      ],
      "metadata": {
        "id": "FpWmSz0g4heT",
        "colab": {
          "base_uri": "https://localhost:8080/"
        },
        "outputId": "20a0166a-e5fd-4cbe-b594-e4173e5662e0"
      },
      "execution_count": 35,
      "outputs": [
        {
          "output_type": "execute_result",
          "data": {
            "text/plain": [
              "['IROH',\n",
              " 'LGCB',\n",
              " 'ZKH',\n",
              " 'BAYA',\n",
              " 'INHD',\n",
              " 'AFJK',\n",
              " 'GSIW',\n",
              " 'FEBO',\n",
              " 'CLBR',\n",
              " 'ELAB',\n",
              " 'RR',\n",
              " 'DDC',\n",
              " 'SHIM',\n",
              " 'GLAC',\n",
              " 'SGN',\n",
              " 'HG',\n",
              " 'CRGX',\n",
              " 'ANSC',\n",
              " 'AITR',\n",
              " 'GVH',\n",
              " 'LXEO',\n",
              " 'PAPL',\n",
              " 'ATGL',\n",
              " 'MNR',\n",
              " 'WBUY',\n",
              " 'NCL',\n",
              " 'BIRK',\n",
              " 'GMM',\n",
              " 'PMEC',\n",
              " 'LRHC',\n",
              " 'GPAK',\n",
              " 'SPKL',\n",
              " 'QETA',\n",
              " 'MSS',\n",
              " 'ANL',\n",
              " 'SYRA',\n",
              " 'VSME',\n",
              " 'LRE',\n",
              " 'TURB',\n",
              " 'MDBH',\n",
              " 'KVYO',\n",
              " 'CART',\n",
              " 'DTCK',\n",
              " 'NMRA',\n",
              " 'ARM',\n",
              " 'SPPL',\n",
              " 'NWGL',\n",
              " 'SWIN',\n",
              " 'IVP',\n",
              " 'NNAG',\n",
              " 'SRM',\n",
              " 'SPGC',\n",
              " 'LQR',\n",
              " 'NRXS',\n",
              " 'FTEL',\n",
              " 'MIRA',\n",
              " 'PXDT',\n",
              " 'HRYU',\n",
              " 'CTNT',\n",
              " 'SRFM',\n",
              " 'PRZO',\n",
              " 'HYAC',\n",
              " 'KVAC',\n",
              " 'JNVR',\n",
              " 'ELWS',\n",
              " 'WRNT',\n",
              " 'TSBX',\n",
              " 'ODD',\n",
              " 'APGE',\n",
              " 'NETD',\n",
              " 'SGMT',\n",
              " 'BOWN',\n",
              " 'SXTP',\n",
              " 'PWM',\n",
              " 'VTMX',\n",
              " 'INTS',\n",
              " 'SVV',\n",
              " 'KGS',\n",
              " 'FIHL',\n",
              " 'GENK',\n",
              " 'BUJA',\n",
              " 'BOF',\n",
              " 'AZTR',\n",
              " 'CAVA',\n",
              " 'ESHA',\n",
              " 'ATMU',\n",
              " 'ATS',\n",
              " 'IPXX',\n",
              " 'CWD',\n",
              " 'SGE',\n",
              " 'SLRN',\n",
              " 'ALCY',\n",
              " 'KVUE',\n",
              " 'GODN',\n",
              " 'TRNR',\n",
              " 'AACT',\n",
              " 'JYD',\n",
              " 'USGO',\n",
              " 'UCAR',\n",
              " 'WLGS',\n",
              " 'TPET',\n",
              " 'TCJH',\n",
              " 'GDTC',\n",
              " 'VCIG',\n",
              " 'GDHG',\n",
              " 'ARBB',\n",
              " 'ISPR',\n",
              " 'MGIH',\n",
              " 'MWG',\n",
              " 'HSHP',\n",
              " 'SFWL',\n",
              " 'SYT',\n",
              " 'HKIT',\n",
              " 'CHSN',\n",
              " 'TBMC',\n",
              " 'HLP',\n",
              " 'ZJYL',\n",
              " 'TMTC',\n",
              " 'YGFGF',\n",
              " 'OAKU',\n",
              " 'BANL',\n",
              " 'OMH',\n",
              " 'MGRX',\n",
              " 'FORL',\n",
              " 'ICG',\n",
              " 'IZM',\n",
              " 'AESI',\n",
              " 'AIXI',\n",
              " 'SBXC',\n",
              " 'BMR',\n",
              " 'DIST',\n",
              " 'GXAI',\n",
              " 'MARX',\n",
              " 'BFRG',\n",
              " 'ENLT',\n",
              " 'MLYS',\n",
              " 'PTHRF',\n",
              " 'BLAC',\n",
              " 'NXT',\n",
              " 'HSAI',\n",
              " 'LSDI',\n",
              " 'LICN',\n",
              " 'GPCR',\n",
              " 'ASST',\n",
              " 'CETU',\n",
              " 'TXO',\n",
              " 'BREA',\n",
              " 'GNLX',\n",
              " 'QSG',\n",
              " 'CVKD',\n",
              " 'SKWD',\n",
              " 'ISRL',\n",
              " 'MGOL',\n",
              " 'SMXT',\n",
              " 'VHAI',\n",
              " 'DYCQ',\n",
              " 'CHRO',\n",
              " 'UMAC',\n",
              " 'TBBB',\n",
              " 'MGX',\n",
              " 'HLXB',\n",
              " 'TELO',\n",
              " 'KYTX',\n",
              " 'PMNT',\n",
              " 'AHR',\n",
              " 'LEGT',\n",
              " 'ANRO',\n",
              " 'GUTS',\n",
              " 'AS',\n",
              " 'FBLG',\n",
              " 'BTSG',\n",
              " 'AVBP',\n",
              " 'HAO',\n",
              " 'CGON',\n",
              " 'YIBO',\n",
              " 'SUGP',\n",
              " 'JL',\n",
              " 'KSPI',\n",
              " 'JVSA',\n",
              " 'PSBD',\n",
              " 'CCTG',\n",
              " 'SYNX',\n",
              " 'SDHC',\n",
              " 'ROMA']"
            ]
          },
          "metadata": {},
          "execution_count": 35
        }
      ]
    },
    {
      "cell_type": "code",
      "source": [
        "for i,t in enumerate(ALL_TICKERS):\n",
        "  try:\n",
        "    ticker = yf.Ticker(t)\n",
        "    info = None\n",
        "\n",
        "    info = ticker.info\n",
        "  except:\n",
        "    print('fff',t)\n",
        "    print(f\"Cannot get info of {t}, it probably does not exist\")\n",
        "    continue\n",
        "\n",
        "  # Got the info of the ticker, do more stuff with it\n",
        "  #print(f\"Info of {t}: {info}\")\n"
      ],
      "metadata": {
        "id": "EGooiuqF3am5"
      },
      "execution_count": 36,
      "outputs": []
    },
    {
      "cell_type": "code",
      "source": [
        "import time\n",
        "\n",
        "stocks_df = pd.DataFrame({'A' : []})\n",
        "\n",
        "for i,ticker in enumerate(ALL_TICKERS):\n",
        "  print(i,ticker)\n",
        "\n",
        "  # Work with stock prices\n",
        "  historyPrices = yf.download(tickers = ticker,\n",
        "                     period = \"max\",\n",
        "                     interval = \"1d\")\n",
        "\n",
        "  # generate features for historical prices, and what we want to predict\n",
        "  historyPrices['Ticker'] = ticker\n",
        "  historyPrices['Year']= historyPrices.index.year\n",
        "  historyPrices['Month'] = historyPrices.index.month\n",
        "  historyPrices['Weekday'] = historyPrices.index.weekday\n",
        "  historyPrices['Date'] = historyPrices.index.date\n",
        "\n",
        "  # historical returns\n",
        "  for i in [1,3,7,30,90,365]:\n",
        "    historyPrices['growth_'+str(i)+'d'] = historyPrices['Adj Close'] / historyPrices['Adj Close'].shift(i)\n",
        "  historyPrices['growth_future_5d'] = historyPrices['Adj Close'].shift(-5) / historyPrices['Adj Close']\n",
        "\n",
        "  # Technical indicators\n",
        "  # SimpleMovingAverage 10 days and 20 days\n",
        "  historyPrices['SMA10']= historyPrices['Close'].rolling(10).mean()\n",
        "  historyPrices['SMA20']= historyPrices['Close'].rolling(20).mean()\n",
        "  historyPrices['growing_moving_average'] = np.where(historyPrices['SMA10'] > historyPrices['SMA20'], 1, 0)\n",
        "  historyPrices['high_minus_low_relative'] = (historyPrices.High - historyPrices.Low) / historyPrices['Adj Close']\n",
        "\n",
        "  # 30d rolling volatility : https://ycharts.com/glossary/terms/rolling_vol_30\n",
        "  historyPrices['volatility'] =   historyPrices['Adj Close'].rolling(30).std() * np.sqrt(252)\n",
        "\n",
        "  # what we want to predict\n",
        "  historyPrices['is_positive_growth_5d_future'] = np.where(historyPrices['growth_future_5d'] > 1, 1, 0)\n",
        "\n",
        "  # sleep 1 sec between downloads - not to overload the API server\n",
        "  time.sleep(1)\n",
        "\n",
        "\n",
        "  if stocks_df.empty:\n",
        "    stocks_df = historyPrices\n",
        "  else:\n",
        "    stocks_df = pd.concat([stocks_df, historyPrices], ignore_index=True)"
      ],
      "metadata": {
        "id": "QXM5-27WwRKT",
        "colab": {
          "base_uri": "https://localhost:8080/"
        },
        "outputId": "268f7365-8b8e-4962-b83e-18bf21ee3e3c"
      },
      "execution_count": 37,
      "outputs": [
        {
          "output_type": "stream",
          "name": "stdout",
          "text": [
            "0 IROH\n"
          ]
        },
        {
          "output_type": "stream",
          "name": "stderr",
          "text": [
            "\r[*********************100%%**********************]  1 of 1 completed\n"
          ]
        },
        {
          "output_type": "stream",
          "name": "stdout",
          "text": [
            "1 LGCB\n"
          ]
        },
        {
          "output_type": "stream",
          "name": "stderr",
          "text": [
            "\r[*********************100%%**********************]  1 of 1 completed\n"
          ]
        },
        {
          "output_type": "stream",
          "name": "stdout",
          "text": [
            "2 ZKH\n"
          ]
        },
        {
          "output_type": "stream",
          "name": "stderr",
          "text": [
            "\r[*********************100%%**********************]  1 of 1 completed\n"
          ]
        },
        {
          "output_type": "stream",
          "name": "stdout",
          "text": [
            "3 BAYA\n"
          ]
        },
        {
          "output_type": "stream",
          "name": "stderr",
          "text": [
            "[*********************100%%**********************]  1 of 1 completed\n",
            "[*********************100%%**********************]  1 of 1 completed"
          ]
        },
        {
          "output_type": "stream",
          "name": "stdout",
          "text": [
            "4 INHD\n"
          ]
        },
        {
          "output_type": "stream",
          "name": "stderr",
          "text": [
            "\n"
          ]
        },
        {
          "output_type": "stream",
          "name": "stdout",
          "text": [
            "5 AFJK\n"
          ]
        },
        {
          "output_type": "stream",
          "name": "stderr",
          "text": [
            "\r[*********************100%%**********************]  1 of 1 completed\n"
          ]
        },
        {
          "output_type": "stream",
          "name": "stdout",
          "text": [
            "6 GSIW\n"
          ]
        },
        {
          "output_type": "stream",
          "name": "stderr",
          "text": [
            "[*********************100%%**********************]  1 of 1 completed\n",
            "[*********************100%%**********************]  1 of 1 completed"
          ]
        },
        {
          "output_type": "stream",
          "name": "stdout",
          "text": [
            "7 FEBO\n"
          ]
        },
        {
          "output_type": "stream",
          "name": "stderr",
          "text": [
            "\n"
          ]
        },
        {
          "output_type": "stream",
          "name": "stdout",
          "text": [
            "8 CLBR\n"
          ]
        },
        {
          "output_type": "stream",
          "name": "stderr",
          "text": [
            "[*********************100%%**********************]  1 of 1 completed\n",
            "[*********************100%%**********************]  1 of 1 completed"
          ]
        },
        {
          "output_type": "stream",
          "name": "stdout",
          "text": [
            "9 ELAB\n"
          ]
        },
        {
          "output_type": "stream",
          "name": "stderr",
          "text": [
            "\n",
            "[*********************100%%**********************]  1 of 1 completed"
          ]
        },
        {
          "output_type": "stream",
          "name": "stdout",
          "text": [
            "10 RR\n"
          ]
        },
        {
          "output_type": "stream",
          "name": "stderr",
          "text": [
            "\n",
            "[*********************100%%**********************]  1 of 1 completed"
          ]
        },
        {
          "output_type": "stream",
          "name": "stdout",
          "text": [
            "11 DDC\n"
          ]
        },
        {
          "output_type": "stream",
          "name": "stderr",
          "text": [
            "\n",
            "[*********************100%%**********************]  1 of 1 completed"
          ]
        },
        {
          "output_type": "stream",
          "name": "stdout",
          "text": [
            "12 SHIM\n"
          ]
        },
        {
          "output_type": "stream",
          "name": "stderr",
          "text": [
            "\n",
            "[*********************100%%**********************]  1 of 1 completed"
          ]
        },
        {
          "output_type": "stream",
          "name": "stdout",
          "text": [
            "13 GLAC\n"
          ]
        },
        {
          "output_type": "stream",
          "name": "stderr",
          "text": [
            "\n",
            "[*********************100%%**********************]  1 of 1 completed"
          ]
        },
        {
          "output_type": "stream",
          "name": "stdout",
          "text": [
            "14 SGN\n"
          ]
        },
        {
          "output_type": "stream",
          "name": "stderr",
          "text": [
            "\n",
            "[*********************100%%**********************]  1 of 1 completed"
          ]
        },
        {
          "output_type": "stream",
          "name": "stdout",
          "text": [
            "15 HG\n"
          ]
        },
        {
          "output_type": "stream",
          "name": "stderr",
          "text": [
            "\n",
            "[*********************100%%**********************]  1 of 1 completed"
          ]
        },
        {
          "output_type": "stream",
          "name": "stdout",
          "text": [
            "16 CRGX\n"
          ]
        },
        {
          "output_type": "stream",
          "name": "stderr",
          "text": [
            "\n",
            "[*********************100%%**********************]  1 of 1 completed"
          ]
        },
        {
          "output_type": "stream",
          "name": "stdout",
          "text": [
            "17 ANSC\n"
          ]
        },
        {
          "output_type": "stream",
          "name": "stderr",
          "text": [
            "\n",
            "[*********************100%%**********************]  1 of 1 completed"
          ]
        },
        {
          "output_type": "stream",
          "name": "stdout",
          "text": [
            "18 AITR\n"
          ]
        },
        {
          "output_type": "stream",
          "name": "stderr",
          "text": [
            "\n"
          ]
        },
        {
          "output_type": "stream",
          "name": "stdout",
          "text": [
            "19 GVH\n"
          ]
        },
        {
          "output_type": "stream",
          "name": "stderr",
          "text": [
            "\r[*********************100%%**********************]  1 of 1 completed\n"
          ]
        },
        {
          "output_type": "stream",
          "name": "stdout",
          "text": [
            "20 LXEO\n"
          ]
        },
        {
          "output_type": "stream",
          "name": "stderr",
          "text": [
            "[*********************100%%**********************]  1 of 1 completed\n",
            "[*********************100%%**********************]  1 of 1 completed"
          ]
        },
        {
          "output_type": "stream",
          "name": "stdout",
          "text": [
            "21 PAPL\n"
          ]
        },
        {
          "output_type": "stream",
          "name": "stderr",
          "text": [
            "\n",
            "[*********************100%%**********************]  1 of 1 completed"
          ]
        },
        {
          "output_type": "stream",
          "name": "stdout",
          "text": [
            "22 ATGL\n"
          ]
        },
        {
          "output_type": "stream",
          "name": "stderr",
          "text": [
            "\n",
            "[*********************100%%**********************]  1 of 1 completed"
          ]
        },
        {
          "output_type": "stream",
          "name": "stdout",
          "text": [
            "23 MNR\n"
          ]
        },
        {
          "output_type": "stream",
          "name": "stderr",
          "text": [
            "\n"
          ]
        },
        {
          "output_type": "stream",
          "name": "stdout",
          "text": [
            "24 WBUY\n"
          ]
        },
        {
          "output_type": "stream",
          "name": "stderr",
          "text": [
            "\r[*********************100%%**********************]  1 of 1 completed\n"
          ]
        },
        {
          "output_type": "stream",
          "name": "stdout",
          "text": [
            "25 NCL\n"
          ]
        },
        {
          "output_type": "stream",
          "name": "stderr",
          "text": [
            "\r[*********************100%%**********************]  1 of 1 completed\n"
          ]
        },
        {
          "output_type": "stream",
          "name": "stdout",
          "text": [
            "26 BIRK\n"
          ]
        },
        {
          "output_type": "stream",
          "name": "stderr",
          "text": [
            "\r[*********************100%%**********************]  1 of 1 completed\n"
          ]
        },
        {
          "output_type": "stream",
          "name": "stdout",
          "text": [
            "27 GMM\n"
          ]
        },
        {
          "output_type": "stream",
          "name": "stderr",
          "text": [
            "[*********************100%%**********************]  1 of 1 completed\n",
            "[*********************100%%**********************]  1 of 1 completed"
          ]
        },
        {
          "output_type": "stream",
          "name": "stdout",
          "text": [
            "28 PMEC\n"
          ]
        },
        {
          "output_type": "stream",
          "name": "stderr",
          "text": [
            "\n",
            "[*********************100%%**********************]  1 of 1 completed"
          ]
        },
        {
          "output_type": "stream",
          "name": "stdout",
          "text": [
            "29 LRHC\n"
          ]
        },
        {
          "output_type": "stream",
          "name": "stderr",
          "text": [
            "\n"
          ]
        },
        {
          "output_type": "stream",
          "name": "stdout",
          "text": [
            "30 GPAK\n"
          ]
        },
        {
          "output_type": "stream",
          "name": "stderr",
          "text": [
            "\r[*********************100%%**********************]  1 of 1 completed\n"
          ]
        },
        {
          "output_type": "stream",
          "name": "stdout",
          "text": [
            "31 SPKL\n"
          ]
        },
        {
          "output_type": "stream",
          "name": "stderr",
          "text": [
            "\r[*********************100%%**********************]  1 of 1 completed\n"
          ]
        },
        {
          "output_type": "stream",
          "name": "stdout",
          "text": [
            "32 QETA\n"
          ]
        },
        {
          "output_type": "stream",
          "name": "stderr",
          "text": [
            "\r[*********************100%%**********************]  1 of 1 completed\n"
          ]
        },
        {
          "output_type": "stream",
          "name": "stdout",
          "text": [
            "33 MSS\n"
          ]
        },
        {
          "output_type": "stream",
          "name": "stderr",
          "text": [
            "[*********************100%%**********************]  1 of 1 completed\n",
            "[*********************100%%**********************]  1 of 1 completed"
          ]
        },
        {
          "output_type": "stream",
          "name": "stdout",
          "text": [
            "34 ANL\n"
          ]
        },
        {
          "output_type": "stream",
          "name": "stderr",
          "text": [
            "\n"
          ]
        },
        {
          "output_type": "stream",
          "name": "stdout",
          "text": [
            "35 SYRA\n"
          ]
        },
        {
          "output_type": "stream",
          "name": "stderr",
          "text": [
            "[*********************100%%**********************]  1 of 1 completed\n",
            "[*********************100%%**********************]  1 of 1 completed"
          ]
        },
        {
          "output_type": "stream",
          "name": "stdout",
          "text": [
            "36 VSME\n"
          ]
        },
        {
          "output_type": "stream",
          "name": "stderr",
          "text": [
            "\n"
          ]
        },
        {
          "output_type": "stream",
          "name": "stdout",
          "text": [
            "37 LRE\n"
          ]
        },
        {
          "output_type": "stream",
          "name": "stderr",
          "text": [
            "\r[*********************100%%**********************]  1 of 1 completed\n"
          ]
        },
        {
          "output_type": "stream",
          "name": "stdout",
          "text": [
            "38 TURB\n"
          ]
        },
        {
          "output_type": "stream",
          "name": "stderr",
          "text": [
            "[*********************100%%**********************]  1 of 1 completed\n",
            "[*********************100%%**********************]  1 of 1 completed"
          ]
        },
        {
          "output_type": "stream",
          "name": "stdout",
          "text": [
            "39 MDBH\n"
          ]
        },
        {
          "output_type": "stream",
          "name": "stderr",
          "text": [
            "\n",
            "[*********************100%%**********************]  1 of 1 completed"
          ]
        },
        {
          "output_type": "stream",
          "name": "stdout",
          "text": [
            "40 KVYO\n"
          ]
        },
        {
          "output_type": "stream",
          "name": "stderr",
          "text": [
            "\n",
            "[*********************100%%**********************]  1 of 1 completed"
          ]
        },
        {
          "output_type": "stream",
          "name": "stdout",
          "text": [
            "41 CART\n"
          ]
        },
        {
          "output_type": "stream",
          "name": "stderr",
          "text": [
            "\n"
          ]
        },
        {
          "output_type": "stream",
          "name": "stdout",
          "text": [
            "42 DTCK\n"
          ]
        },
        {
          "output_type": "stream",
          "name": "stderr",
          "text": [
            "[*********************100%%**********************]  1 of 1 completed\n",
            "[*********************100%%**********************]  1 of 1 completed"
          ]
        },
        {
          "output_type": "stream",
          "name": "stdout",
          "text": [
            "43 NMRA\n"
          ]
        },
        {
          "output_type": "stream",
          "name": "stderr",
          "text": [
            "\n",
            "[*********************100%%**********************]  1 of 1 completed"
          ]
        },
        {
          "output_type": "stream",
          "name": "stdout",
          "text": [
            "44 ARM\n"
          ]
        },
        {
          "output_type": "stream",
          "name": "stderr",
          "text": [
            "\n",
            "[*********************100%%**********************]  1 of 1 completed"
          ]
        },
        {
          "output_type": "stream",
          "name": "stdout",
          "text": [
            "45 SPPL\n"
          ]
        },
        {
          "output_type": "stream",
          "name": "stderr",
          "text": [
            "\n",
            "[*********************100%%**********************]  1 of 1 completed"
          ]
        },
        {
          "output_type": "stream",
          "name": "stdout",
          "text": [
            "46 NWGL\n"
          ]
        },
        {
          "output_type": "stream",
          "name": "stderr",
          "text": [
            "\n",
            "[*********************100%%**********************]  1 of 1 completed"
          ]
        },
        {
          "output_type": "stream",
          "name": "stdout",
          "text": [
            "47 SWIN\n"
          ]
        },
        {
          "output_type": "stream",
          "name": "stderr",
          "text": [
            "\n",
            "[*********************100%%**********************]  1 of 1 completed"
          ]
        },
        {
          "output_type": "stream",
          "name": "stdout",
          "text": [
            "48 IVP\n"
          ]
        },
        {
          "output_type": "stream",
          "name": "stderr",
          "text": [
            "\n",
            "[*********************100%%**********************]  1 of 1 completed"
          ]
        },
        {
          "output_type": "stream",
          "name": "stdout",
          "text": [
            "49 NNAG\n"
          ]
        },
        {
          "output_type": "stream",
          "name": "stderr",
          "text": [
            "\n",
            "[*********************100%%**********************]  1 of 1 completed"
          ]
        },
        {
          "output_type": "stream",
          "name": "stdout",
          "text": [
            "50 SRM\n"
          ]
        },
        {
          "output_type": "stream",
          "name": "stderr",
          "text": [
            "\n",
            "[*********************100%%**********************]  1 of 1 completed"
          ]
        },
        {
          "output_type": "stream",
          "name": "stdout",
          "text": [
            "51 SPGC\n"
          ]
        },
        {
          "output_type": "stream",
          "name": "stderr",
          "text": [
            "\n",
            "[*********************100%%**********************]  1 of 1 completed"
          ]
        },
        {
          "output_type": "stream",
          "name": "stdout",
          "text": [
            "52 LQR\n"
          ]
        },
        {
          "output_type": "stream",
          "name": "stderr",
          "text": [
            "\n",
            "[*********************100%%**********************]  1 of 1 completed"
          ]
        },
        {
          "output_type": "stream",
          "name": "stdout",
          "text": [
            "53 NRXS\n"
          ]
        },
        {
          "output_type": "stream",
          "name": "stderr",
          "text": [
            "\n",
            "[*********************100%%**********************]  1 of 1 completed"
          ]
        },
        {
          "output_type": "stream",
          "name": "stdout",
          "text": [
            "54 FTEL\n"
          ]
        },
        {
          "output_type": "stream",
          "name": "stderr",
          "text": [
            "\n",
            "[*********************100%%**********************]  1 of 1 completed"
          ]
        },
        {
          "output_type": "stream",
          "name": "stdout",
          "text": [
            "55 MIRA\n"
          ]
        },
        {
          "output_type": "stream",
          "name": "stderr",
          "text": [
            "\n",
            "[*********************100%%**********************]  1 of 1 completed"
          ]
        },
        {
          "output_type": "stream",
          "name": "stdout",
          "text": [
            "56 PXDT\n"
          ]
        },
        {
          "output_type": "stream",
          "name": "stderr",
          "text": [
            "\n",
            "[*********************100%%**********************]  1 of 1 completed"
          ]
        },
        {
          "output_type": "stream",
          "name": "stdout",
          "text": [
            "57 HRYU\n"
          ]
        },
        {
          "output_type": "stream",
          "name": "stderr",
          "text": [
            "\n",
            "[*********************100%%**********************]  1 of 1 completed"
          ]
        },
        {
          "output_type": "stream",
          "name": "stdout",
          "text": [
            "58 CTNT\n"
          ]
        },
        {
          "output_type": "stream",
          "name": "stderr",
          "text": [
            "\n",
            "[*********************100%%**********************]  1 of 1 completed"
          ]
        },
        {
          "output_type": "stream",
          "name": "stdout",
          "text": [
            "59 SRFM\n"
          ]
        },
        {
          "output_type": "stream",
          "name": "stderr",
          "text": [
            "\n",
            "[*********************100%%**********************]  1 of 1 completed"
          ]
        },
        {
          "output_type": "stream",
          "name": "stdout",
          "text": [
            "60 PRZO\n"
          ]
        },
        {
          "output_type": "stream",
          "name": "stderr",
          "text": [
            "\n",
            "[*********************100%%**********************]  1 of 1 completed"
          ]
        },
        {
          "output_type": "stream",
          "name": "stdout",
          "text": [
            "61 HYAC\n"
          ]
        },
        {
          "output_type": "stream",
          "name": "stderr",
          "text": [
            "\n",
            "[*********************100%%**********************]  1 of 1 completed"
          ]
        },
        {
          "output_type": "stream",
          "name": "stdout",
          "text": [
            "62 KVAC\n"
          ]
        },
        {
          "output_type": "stream",
          "name": "stderr",
          "text": [
            "\n",
            "[*********************100%%**********************]  1 of 1 completed"
          ]
        },
        {
          "output_type": "stream",
          "name": "stdout",
          "text": [
            "63 JNVR\n"
          ]
        },
        {
          "output_type": "stream",
          "name": "stderr",
          "text": [
            "\n",
            "[*********************100%%**********************]  1 of 1 completed"
          ]
        },
        {
          "output_type": "stream",
          "name": "stdout",
          "text": [
            "64 ELWS\n"
          ]
        },
        {
          "output_type": "stream",
          "name": "stderr",
          "text": [
            "\n",
            "[*********************100%%**********************]  1 of 1 completed"
          ]
        },
        {
          "output_type": "stream",
          "name": "stdout",
          "text": [
            "65 WRNT\n"
          ]
        },
        {
          "output_type": "stream",
          "name": "stderr",
          "text": [
            "\n",
            "[*********************100%%**********************]  1 of 1 completed"
          ]
        },
        {
          "output_type": "stream",
          "name": "stdout",
          "text": [
            "66 TSBX\n"
          ]
        },
        {
          "output_type": "stream",
          "name": "stderr",
          "text": [
            "\n",
            "[*********************100%%**********************]  1 of 1 completed"
          ]
        },
        {
          "output_type": "stream",
          "name": "stdout",
          "text": [
            "67 ODD\n"
          ]
        },
        {
          "output_type": "stream",
          "name": "stderr",
          "text": [
            "\n",
            "[*********************100%%**********************]  1 of 1 completed"
          ]
        },
        {
          "output_type": "stream",
          "name": "stdout",
          "text": [
            "68 APGE\n"
          ]
        },
        {
          "output_type": "stream",
          "name": "stderr",
          "text": [
            "\n",
            "[*********************100%%**********************]  1 of 1 completed"
          ]
        },
        {
          "output_type": "stream",
          "name": "stdout",
          "text": [
            "69 NETD\n"
          ]
        },
        {
          "output_type": "stream",
          "name": "stderr",
          "text": [
            "\n",
            "[*********************100%%**********************]  1 of 1 completed"
          ]
        },
        {
          "output_type": "stream",
          "name": "stdout",
          "text": [
            "70 SGMT\n"
          ]
        },
        {
          "output_type": "stream",
          "name": "stderr",
          "text": [
            "\n",
            "[*********************100%%**********************]  1 of 1 completed"
          ]
        },
        {
          "output_type": "stream",
          "name": "stdout",
          "text": [
            "71 BOWN\n"
          ]
        },
        {
          "output_type": "stream",
          "name": "stderr",
          "text": [
            "\n",
            "[*********************100%%**********************]  1 of 1 completed"
          ]
        },
        {
          "output_type": "stream",
          "name": "stdout",
          "text": [
            "72 SXTP\n"
          ]
        },
        {
          "output_type": "stream",
          "name": "stderr",
          "text": [
            "\n",
            "[*********************100%%**********************]  1 of 1 completed"
          ]
        },
        {
          "output_type": "stream",
          "name": "stdout",
          "text": [
            "73 PWM\n"
          ]
        },
        {
          "output_type": "stream",
          "name": "stderr",
          "text": [
            "\n"
          ]
        },
        {
          "output_type": "stream",
          "name": "stdout",
          "text": [
            "74 VTMX\n"
          ]
        },
        {
          "output_type": "stream",
          "name": "stderr",
          "text": [
            "[*********************100%%**********************]  1 of 1 completed\n",
            "[*********************100%%**********************]  1 of 1 completed"
          ]
        },
        {
          "output_type": "stream",
          "name": "stdout",
          "text": [
            "75 INTS\n"
          ]
        },
        {
          "output_type": "stream",
          "name": "stderr",
          "text": [
            "\n",
            "[*********************100%%**********************]  1 of 1 completed"
          ]
        },
        {
          "output_type": "stream",
          "name": "stdout",
          "text": [
            "76 SVV\n"
          ]
        },
        {
          "output_type": "stream",
          "name": "stderr",
          "text": [
            "\n",
            "[*********************100%%**********************]  1 of 1 completed"
          ]
        },
        {
          "output_type": "stream",
          "name": "stdout",
          "text": [
            "77 KGS\n"
          ]
        },
        {
          "output_type": "stream",
          "name": "stderr",
          "text": [
            "\n",
            "[*********************100%%**********************]  1 of 1 completed"
          ]
        },
        {
          "output_type": "stream",
          "name": "stdout",
          "text": [
            "78 FIHL\n"
          ]
        },
        {
          "output_type": "stream",
          "name": "stderr",
          "text": [
            "\n",
            "[*********************100%%**********************]  1 of 1 completed"
          ]
        },
        {
          "output_type": "stream",
          "name": "stdout",
          "text": [
            "79 GENK\n"
          ]
        },
        {
          "output_type": "stream",
          "name": "stderr",
          "text": [
            "\n",
            "[*********************100%%**********************]  1 of 1 completed"
          ]
        },
        {
          "output_type": "stream",
          "name": "stdout",
          "text": [
            "80 BUJA\n"
          ]
        },
        {
          "output_type": "stream",
          "name": "stderr",
          "text": [
            "\n",
            "[*********************100%%**********************]  1 of 1 completed"
          ]
        },
        {
          "output_type": "stream",
          "name": "stdout",
          "text": [
            "81 BOF\n"
          ]
        },
        {
          "output_type": "stream",
          "name": "stderr",
          "text": [
            "\n"
          ]
        },
        {
          "output_type": "stream",
          "name": "stdout",
          "text": [
            "82 AZTR\n"
          ]
        },
        {
          "output_type": "stream",
          "name": "stderr",
          "text": [
            "\r[*********************100%%**********************]  1 of 1 completed\n"
          ]
        },
        {
          "output_type": "stream",
          "name": "stdout",
          "text": [
            "83 CAVA\n"
          ]
        },
        {
          "output_type": "stream",
          "name": "stderr",
          "text": [
            "\r[*********************100%%**********************]  1 of 1 completed\n"
          ]
        },
        {
          "output_type": "stream",
          "name": "stdout",
          "text": [
            "84 ESHA\n"
          ]
        },
        {
          "output_type": "stream",
          "name": "stderr",
          "text": [
            "\r[*********************100%%**********************]  1 of 1 completed\n"
          ]
        },
        {
          "output_type": "stream",
          "name": "stdout",
          "text": [
            "85 ATMU\n"
          ]
        },
        {
          "output_type": "stream",
          "name": "stderr",
          "text": [
            "\r[*********************100%%**********************]  1 of 1 completed\n"
          ]
        },
        {
          "output_type": "stream",
          "name": "stdout",
          "text": [
            "86 ATS\n"
          ]
        },
        {
          "output_type": "stream",
          "name": "stderr",
          "text": [
            "[*********************100%%**********************]  1 of 1 completed\n",
            "[*********************100%%**********************]  1 of 1 completed"
          ]
        },
        {
          "output_type": "stream",
          "name": "stdout",
          "text": [
            "87 IPXX\n"
          ]
        },
        {
          "output_type": "stream",
          "name": "stderr",
          "text": [
            "\n"
          ]
        },
        {
          "output_type": "stream",
          "name": "stdout",
          "text": [
            "88 CWD\n"
          ]
        },
        {
          "output_type": "stream",
          "name": "stderr",
          "text": [
            "\r[*********************100%%**********************]  1 of 1 completed\n"
          ]
        },
        {
          "output_type": "stream",
          "name": "stdout",
          "text": [
            "89 SGE\n"
          ]
        },
        {
          "output_type": "stream",
          "name": "stderr",
          "text": [
            "[*********************100%%**********************]  1 of 1 completed\n",
            "[*********************100%%**********************]  1 of 1 completed"
          ]
        },
        {
          "output_type": "stream",
          "name": "stdout",
          "text": [
            "90 SLRN\n"
          ]
        },
        {
          "output_type": "stream",
          "name": "stderr",
          "text": [
            "\n"
          ]
        },
        {
          "output_type": "stream",
          "name": "stdout",
          "text": [
            "91 ALCY\n"
          ]
        },
        {
          "output_type": "stream",
          "name": "stderr",
          "text": [
            "[*********************100%%**********************]  1 of 1 completed\n",
            "[*********************100%%**********************]  1 of 1 completed"
          ]
        },
        {
          "output_type": "stream",
          "name": "stdout",
          "text": [
            "92 KVUE\n"
          ]
        },
        {
          "output_type": "stream",
          "name": "stderr",
          "text": [
            "\n",
            "[*********************100%%**********************]  1 of 1 completed"
          ]
        },
        {
          "output_type": "stream",
          "name": "stdout",
          "text": [
            "93 GODN\n"
          ]
        },
        {
          "output_type": "stream",
          "name": "stderr",
          "text": [
            "\n"
          ]
        },
        {
          "output_type": "stream",
          "name": "stdout",
          "text": [
            "94 TRNR\n"
          ]
        },
        {
          "output_type": "stream",
          "name": "stderr",
          "text": [
            "[*********************100%%**********************]  1 of 1 completed\n",
            "[*********************100%%**********************]  1 of 1 completed"
          ]
        },
        {
          "output_type": "stream",
          "name": "stdout",
          "text": [
            "95 AACT\n"
          ]
        },
        {
          "output_type": "stream",
          "name": "stderr",
          "text": [
            "\n"
          ]
        },
        {
          "output_type": "stream",
          "name": "stdout",
          "text": [
            "96 JYD\n"
          ]
        },
        {
          "output_type": "stream",
          "name": "stderr",
          "text": [
            "[*********************100%%**********************]  1 of 1 completed\n",
            "[*********************100%%**********************]  1 of 1 completed"
          ]
        },
        {
          "output_type": "stream",
          "name": "stdout",
          "text": [
            "97 USGO\n"
          ]
        },
        {
          "output_type": "stream",
          "name": "stderr",
          "text": [
            "\n",
            "[*********************100%%**********************]  1 of 1 completed"
          ]
        },
        {
          "output_type": "stream",
          "name": "stdout",
          "text": [
            "98 UCAR\n"
          ]
        },
        {
          "output_type": "stream",
          "name": "stderr",
          "text": [
            "\n"
          ]
        },
        {
          "output_type": "stream",
          "name": "stdout",
          "text": [
            "99 WLGS\n"
          ]
        },
        {
          "output_type": "stream",
          "name": "stderr",
          "text": [
            "[*********************100%%**********************]  1 of 1 completed\n",
            "[*********************100%%**********************]  1 of 1 completed"
          ]
        },
        {
          "output_type": "stream",
          "name": "stdout",
          "text": [
            "100 TPET\n"
          ]
        },
        {
          "output_type": "stream",
          "name": "stderr",
          "text": [
            "\n",
            "[*********************100%%**********************]  1 of 1 completed"
          ]
        },
        {
          "output_type": "stream",
          "name": "stdout",
          "text": [
            "101 TCJH\n"
          ]
        },
        {
          "output_type": "stream",
          "name": "stderr",
          "text": [
            "\n",
            "[*********************100%%**********************]  1 of 1 completed"
          ]
        },
        {
          "output_type": "stream",
          "name": "stdout",
          "text": [
            "102 GDTC\n"
          ]
        },
        {
          "output_type": "stream",
          "name": "stderr",
          "text": [
            "\n",
            "[*********************100%%**********************]  1 of 1 completed"
          ]
        },
        {
          "output_type": "stream",
          "name": "stdout",
          "text": [
            "103 VCIG\n"
          ]
        },
        {
          "output_type": "stream",
          "name": "stderr",
          "text": [
            "\n"
          ]
        },
        {
          "output_type": "stream",
          "name": "stdout",
          "text": [
            "104 GDHG\n"
          ]
        },
        {
          "output_type": "stream",
          "name": "stderr",
          "text": [
            "\r[*********************100%%**********************]  1 of 1 completed\n"
          ]
        },
        {
          "output_type": "stream",
          "name": "stdout",
          "text": [
            "105 ARBB\n"
          ]
        },
        {
          "output_type": "stream",
          "name": "stderr",
          "text": [
            "[*********************100%%**********************]  1 of 1 completed\n",
            "[*********************100%%**********************]  1 of 1 completed"
          ]
        },
        {
          "output_type": "stream",
          "name": "stdout",
          "text": [
            "106 ISPR\n"
          ]
        },
        {
          "output_type": "stream",
          "name": "stderr",
          "text": [
            "\n",
            "[*********************100%%**********************]  1 of 1 completed"
          ]
        },
        {
          "output_type": "stream",
          "name": "stdout",
          "text": [
            "107 MGIH\n"
          ]
        },
        {
          "output_type": "stream",
          "name": "stderr",
          "text": [
            "\n"
          ]
        },
        {
          "output_type": "stream",
          "name": "stdout",
          "text": [
            "108 MWG\n"
          ]
        },
        {
          "output_type": "stream",
          "name": "stderr",
          "text": [
            "[*********************100%%**********************]  1 of 1 completed\n",
            "[*********************100%%**********************]  1 of 1 completed"
          ]
        },
        {
          "output_type": "stream",
          "name": "stdout",
          "text": [
            "109 HSHP\n"
          ]
        },
        {
          "output_type": "stream",
          "name": "stderr",
          "text": [
            "\n",
            "[*********************100%%**********************]  1 of 1 completed"
          ]
        },
        {
          "output_type": "stream",
          "name": "stdout",
          "text": [
            "110 SFWL\n"
          ]
        },
        {
          "output_type": "stream",
          "name": "stderr",
          "text": [
            "\n",
            "[*********************100%%**********************]  1 of 1 completed"
          ]
        },
        {
          "output_type": "stream",
          "name": "stdout",
          "text": [
            "111 SYT\n"
          ]
        },
        {
          "output_type": "stream",
          "name": "stderr",
          "text": [
            "\n",
            "[*********************100%%**********************]  1 of 1 completed"
          ]
        },
        {
          "output_type": "stream",
          "name": "stdout",
          "text": [
            "112 HKIT\n"
          ]
        },
        {
          "output_type": "stream",
          "name": "stderr",
          "text": [
            "\n",
            "[*********************100%%**********************]  1 of 1 completed"
          ]
        },
        {
          "output_type": "stream",
          "name": "stdout",
          "text": [
            "113 CHSN\n"
          ]
        },
        {
          "output_type": "stream",
          "name": "stderr",
          "text": [
            "\n",
            "[*********************100%%**********************]  1 of 1 completed"
          ]
        },
        {
          "output_type": "stream",
          "name": "stdout",
          "text": [
            "114 TBMC\n"
          ]
        },
        {
          "output_type": "stream",
          "name": "stderr",
          "text": [
            "\n",
            "[*********************100%%**********************]  1 of 1 completed"
          ]
        },
        {
          "output_type": "stream",
          "name": "stdout",
          "text": [
            "115 HLP\n"
          ]
        },
        {
          "output_type": "stream",
          "name": "stderr",
          "text": [
            "\n",
            "[*********************100%%**********************]  1 of 1 completed"
          ]
        },
        {
          "output_type": "stream",
          "name": "stdout",
          "text": [
            "116 ZJYL\n"
          ]
        },
        {
          "output_type": "stream",
          "name": "stderr",
          "text": [
            "\n",
            "[*********************100%%**********************]  1 of 1 completed"
          ]
        },
        {
          "output_type": "stream",
          "name": "stdout",
          "text": [
            "117 TMTC\n"
          ]
        },
        {
          "output_type": "stream",
          "name": "stderr",
          "text": [
            "\n"
          ]
        },
        {
          "output_type": "stream",
          "name": "stdout",
          "text": [
            "118 YGFGF\n"
          ]
        },
        {
          "output_type": "stream",
          "name": "stderr",
          "text": [
            "[*********************100%%**********************]  1 of 1 completed\n",
            "[*********************100%%**********************]  1 of 1 completed"
          ]
        },
        {
          "output_type": "stream",
          "name": "stdout",
          "text": [
            "119 OAKU\n"
          ]
        },
        {
          "output_type": "stream",
          "name": "stderr",
          "text": [
            "\n",
            "[*********************100%%**********************]  1 of 1 completed"
          ]
        },
        {
          "output_type": "stream",
          "name": "stdout",
          "text": [
            "120 BANL\n"
          ]
        },
        {
          "output_type": "stream",
          "name": "stderr",
          "text": [
            "\n",
            "[*********************100%%**********************]  1 of 1 completed"
          ]
        },
        {
          "output_type": "stream",
          "name": "stdout",
          "text": [
            "121 OMH\n"
          ]
        },
        {
          "output_type": "stream",
          "name": "stderr",
          "text": [
            "\n",
            "[*********************100%%**********************]  1 of 1 completed"
          ]
        },
        {
          "output_type": "stream",
          "name": "stdout",
          "text": [
            "122 MGRX\n"
          ]
        },
        {
          "output_type": "stream",
          "name": "stderr",
          "text": [
            "\n"
          ]
        },
        {
          "output_type": "stream",
          "name": "stdout",
          "text": [
            "123 FORL\n"
          ]
        },
        {
          "output_type": "stream",
          "name": "stderr",
          "text": [
            "\r[*********************100%%**********************]  1 of 1 completed\n"
          ]
        },
        {
          "output_type": "stream",
          "name": "stdout",
          "text": [
            "124 ICG\n"
          ]
        },
        {
          "output_type": "stream",
          "name": "stderr",
          "text": [
            "\r[*********************100%%**********************]  1 of 1 completed\n"
          ]
        },
        {
          "output_type": "stream",
          "name": "stdout",
          "text": [
            "125 IZM\n"
          ]
        },
        {
          "output_type": "stream",
          "name": "stderr",
          "text": [
            "\r[*********************100%%**********************]  1 of 1 completed\n"
          ]
        },
        {
          "output_type": "stream",
          "name": "stdout",
          "text": [
            "126 AESI\n"
          ]
        },
        {
          "output_type": "stream",
          "name": "stderr",
          "text": [
            "[*********************100%%**********************]  1 of 1 completed\n",
            "[*********************100%%**********************]  1 of 1 completed"
          ]
        },
        {
          "output_type": "stream",
          "name": "stdout",
          "text": [
            "127 AIXI\n"
          ]
        },
        {
          "output_type": "stream",
          "name": "stderr",
          "text": [
            "\n"
          ]
        },
        {
          "output_type": "stream",
          "name": "stdout",
          "text": [
            "128 SBXC\n"
          ]
        },
        {
          "output_type": "stream",
          "name": "stderr",
          "text": [
            "\r[*********************100%%**********************]  1 of 1 completed\n"
          ]
        },
        {
          "output_type": "stream",
          "name": "stdout",
          "text": [
            "129 BMR\n"
          ]
        },
        {
          "output_type": "stream",
          "name": "stderr",
          "text": [
            "[*********************100%%**********************]  1 of 1 completed\n",
            "[*********************100%%**********************]  1 of 1 completed"
          ]
        },
        {
          "output_type": "stream",
          "name": "stdout",
          "text": [
            "130 DIST\n"
          ]
        },
        {
          "output_type": "stream",
          "name": "stderr",
          "text": [
            "\n"
          ]
        },
        {
          "output_type": "stream",
          "name": "stdout",
          "text": [
            "131 GXAI\n"
          ]
        },
        {
          "output_type": "stream",
          "name": "stderr",
          "text": [
            "[*********************100%%**********************]  1 of 1 completed\n",
            "[*********************100%%**********************]  1 of 1 completed"
          ]
        },
        {
          "output_type": "stream",
          "name": "stdout",
          "text": [
            "132 MARX\n"
          ]
        },
        {
          "output_type": "stream",
          "name": "stderr",
          "text": [
            "\n",
            "[*********************100%%**********************]  1 of 1 completed"
          ]
        },
        {
          "output_type": "stream",
          "name": "stdout",
          "text": [
            "133 BFRG\n"
          ]
        },
        {
          "output_type": "stream",
          "name": "stderr",
          "text": [
            "\n",
            "[*********************100%%**********************]  1 of 1 completed"
          ]
        },
        {
          "output_type": "stream",
          "name": "stdout",
          "text": [
            "134 ENLT\n"
          ]
        },
        {
          "output_type": "stream",
          "name": "stderr",
          "text": [
            "\n"
          ]
        },
        {
          "output_type": "stream",
          "name": "stdout",
          "text": [
            "135 MLYS\n"
          ]
        },
        {
          "output_type": "stream",
          "name": "stderr",
          "text": [
            "\r[*********************100%%**********************]  1 of 1 completed\n"
          ]
        },
        {
          "output_type": "stream",
          "name": "stdout",
          "text": [
            "136 PTHRF\n"
          ]
        },
        {
          "output_type": "stream",
          "name": "stderr",
          "text": [
            "[*********************100%%**********************]  1 of 1 completed\n",
            "[*********************100%%**********************]  1 of 1 completed"
          ]
        },
        {
          "output_type": "stream",
          "name": "stdout",
          "text": [
            "137 BLAC\n"
          ]
        },
        {
          "output_type": "stream",
          "name": "stderr",
          "text": [
            "\n"
          ]
        },
        {
          "output_type": "stream",
          "name": "stdout",
          "text": [
            "138 NXT\n"
          ]
        },
        {
          "output_type": "stream",
          "name": "stderr",
          "text": [
            "[*********************100%%**********************]  1 of 1 completed\n",
            "[*********************100%%**********************]  1 of 1 completed"
          ]
        },
        {
          "output_type": "stream",
          "name": "stdout",
          "text": [
            "139 HSAI\n"
          ]
        },
        {
          "output_type": "stream",
          "name": "stderr",
          "text": [
            "\n"
          ]
        },
        {
          "output_type": "stream",
          "name": "stdout",
          "text": [
            "140 LSDI\n"
          ]
        },
        {
          "output_type": "stream",
          "name": "stderr",
          "text": [
            "\r[*********************100%%**********************]  1 of 1 completed\n"
          ]
        },
        {
          "output_type": "stream",
          "name": "stdout",
          "text": [
            "141 LICN\n"
          ]
        },
        {
          "output_type": "stream",
          "name": "stderr",
          "text": [
            "\r[*********************100%%**********************]  1 of 1 completed\n"
          ]
        },
        {
          "output_type": "stream",
          "name": "stdout",
          "text": [
            "142 GPCR\n"
          ]
        },
        {
          "output_type": "stream",
          "name": "stderr",
          "text": [
            "\r[*********************100%%**********************]  1 of 1 completed\n"
          ]
        },
        {
          "output_type": "stream",
          "name": "stdout",
          "text": [
            "143 ASST\n"
          ]
        },
        {
          "output_type": "stream",
          "name": "stderr",
          "text": [
            "\r[*********************100%%**********************]  1 of 1 completed\n"
          ]
        },
        {
          "output_type": "stream",
          "name": "stdout",
          "text": [
            "144 CETU\n"
          ]
        },
        {
          "output_type": "stream",
          "name": "stderr",
          "text": [
            "\r[*********************100%%**********************]  1 of 1 completed\n"
          ]
        },
        {
          "output_type": "stream",
          "name": "stdout",
          "text": [
            "145 TXO\n"
          ]
        },
        {
          "output_type": "stream",
          "name": "stderr",
          "text": [
            "\r[*********************100%%**********************]  1 of 1 completed\n"
          ]
        },
        {
          "output_type": "stream",
          "name": "stdout",
          "text": [
            "146 BREA\n"
          ]
        },
        {
          "output_type": "stream",
          "name": "stderr",
          "text": [
            "[*********************100%%**********************]  1 of 1 completed\n",
            "[*********************100%%**********************]  1 of 1 completed"
          ]
        },
        {
          "output_type": "stream",
          "name": "stdout",
          "text": [
            "147 GNLX\n"
          ]
        },
        {
          "output_type": "stream",
          "name": "stderr",
          "text": [
            "\n"
          ]
        },
        {
          "output_type": "stream",
          "name": "stdout",
          "text": [
            "148 QSG\n"
          ]
        },
        {
          "output_type": "stream",
          "name": "stderr",
          "text": [
            "[*********************100%%**********************]  1 of 1 completed\n",
            "[*********************100%%**********************]  1 of 1 completed"
          ]
        },
        {
          "output_type": "stream",
          "name": "stdout",
          "text": [
            "149 CVKD\n"
          ]
        },
        {
          "output_type": "stream",
          "name": "stderr",
          "text": [
            "\n"
          ]
        },
        {
          "output_type": "stream",
          "name": "stdout",
          "text": [
            "150 SKWD\n"
          ]
        },
        {
          "output_type": "stream",
          "name": "stderr",
          "text": [
            "\r[*********************100%%**********************]  1 of 1 completed\n"
          ]
        },
        {
          "output_type": "stream",
          "name": "stdout",
          "text": [
            "151 ISRL\n"
          ]
        },
        {
          "output_type": "stream",
          "name": "stderr",
          "text": [
            "[*********************100%%**********************]  1 of 1 completed\n",
            "[*********************100%%**********************]  1 of 1 completed"
          ]
        },
        {
          "output_type": "stream",
          "name": "stdout",
          "text": [
            "152 MGOL\n"
          ]
        },
        {
          "output_type": "stream",
          "name": "stderr",
          "text": [
            "\n",
            "[*********************100%%**********************]  1 of 1 completed"
          ]
        },
        {
          "output_type": "stream",
          "name": "stdout",
          "text": [
            "153 SMXT\n"
          ]
        },
        {
          "output_type": "stream",
          "name": "stderr",
          "text": [
            "\n"
          ]
        },
        {
          "output_type": "stream",
          "name": "stdout",
          "text": [
            "154 VHAI\n"
          ]
        },
        {
          "output_type": "stream",
          "name": "stderr",
          "text": [
            "[*********************100%%**********************]  1 of 1 completed\n",
            "[*********************100%%**********************]  1 of 1 completed"
          ]
        },
        {
          "output_type": "stream",
          "name": "stdout",
          "text": [
            "155 DYCQ\n"
          ]
        },
        {
          "output_type": "stream",
          "name": "stderr",
          "text": [
            "\n",
            "[*********************100%%**********************]  1 of 1 completed"
          ]
        },
        {
          "output_type": "stream",
          "name": "stdout",
          "text": [
            "156 CHRO\n"
          ]
        },
        {
          "output_type": "stream",
          "name": "stderr",
          "text": [
            "\n"
          ]
        },
        {
          "output_type": "stream",
          "name": "stdout",
          "text": [
            "157 UMAC\n"
          ]
        },
        {
          "output_type": "stream",
          "name": "stderr",
          "text": [
            "\r[*********************100%%**********************]  1 of 1 completed\n"
          ]
        },
        {
          "output_type": "stream",
          "name": "stdout",
          "text": [
            "158 TBBB\n"
          ]
        },
        {
          "output_type": "stream",
          "name": "stderr",
          "text": [
            "[*********************100%%**********************]  1 of 1 completed\n",
            "[*********************100%%**********************]  1 of 1 completed"
          ]
        },
        {
          "output_type": "stream",
          "name": "stdout",
          "text": [
            "159 MGX\n"
          ]
        },
        {
          "output_type": "stream",
          "name": "stderr",
          "text": [
            "\n",
            "[*********************100%%**********************]  1 of 1 completed"
          ]
        },
        {
          "output_type": "stream",
          "name": "stdout",
          "text": [
            "160 HLXB\n"
          ]
        },
        {
          "output_type": "stream",
          "name": "stderr",
          "text": [
            "\n",
            "[*********************100%%**********************]  1 of 1 completed"
          ]
        },
        {
          "output_type": "stream",
          "name": "stdout",
          "text": [
            "161 TELO\n"
          ]
        },
        {
          "output_type": "stream",
          "name": "stderr",
          "text": [
            "\n"
          ]
        },
        {
          "output_type": "stream",
          "name": "stdout",
          "text": [
            "162 KYTX\n"
          ]
        },
        {
          "output_type": "stream",
          "name": "stderr",
          "text": [
            "[*********************100%%**********************]  1 of 1 completed\n",
            "[*********************100%%**********************]  1 of 1 completed"
          ]
        },
        {
          "output_type": "stream",
          "name": "stdout",
          "text": [
            "163 PMNT\n"
          ]
        },
        {
          "output_type": "stream",
          "name": "stderr",
          "text": [
            "\n"
          ]
        },
        {
          "output_type": "stream",
          "name": "stdout",
          "text": [
            "164 AHR\n"
          ]
        },
        {
          "output_type": "stream",
          "name": "stderr",
          "text": [
            "[*********************100%%**********************]  1 of 1 completed\n",
            "[*********************100%%**********************]  1 of 1 completed"
          ]
        },
        {
          "output_type": "stream",
          "name": "stdout",
          "text": [
            "165 LEGT\n"
          ]
        },
        {
          "output_type": "stream",
          "name": "stderr",
          "text": [
            "\n"
          ]
        },
        {
          "output_type": "stream",
          "name": "stdout",
          "text": [
            "166 ANRO\n"
          ]
        },
        {
          "output_type": "stream",
          "name": "stderr",
          "text": [
            "\r[*********************100%%**********************]  1 of 1 completed\n"
          ]
        },
        {
          "output_type": "stream",
          "name": "stdout",
          "text": [
            "167 GUTS\n"
          ]
        },
        {
          "output_type": "stream",
          "name": "stderr",
          "text": [
            "[*********************100%%**********************]  1 of 1 completed\n",
            "[*********************100%%**********************]  1 of 1 completed"
          ]
        },
        {
          "output_type": "stream",
          "name": "stdout",
          "text": [
            "168 AS\n"
          ]
        },
        {
          "output_type": "stream",
          "name": "stderr",
          "text": [
            "\n"
          ]
        },
        {
          "output_type": "stream",
          "name": "stdout",
          "text": [
            "169 FBLG\n"
          ]
        },
        {
          "output_type": "stream",
          "name": "stderr",
          "text": [
            "[*********************100%%**********************]  1 of 1 completed\n",
            "[*********************100%%**********************]  1 of 1 completed"
          ]
        },
        {
          "output_type": "stream",
          "name": "stdout",
          "text": [
            "170 BTSG\n"
          ]
        },
        {
          "output_type": "stream",
          "name": "stderr",
          "text": [
            "\n",
            "[*********************100%%**********************]  1 of 1 completed"
          ]
        },
        {
          "output_type": "stream",
          "name": "stdout",
          "text": [
            "171 AVBP\n"
          ]
        },
        {
          "output_type": "stream",
          "name": "stderr",
          "text": [
            "\n",
            "[*********************100%%**********************]  1 of 1 completed"
          ]
        },
        {
          "output_type": "stream",
          "name": "stdout",
          "text": [
            "172 HAO\n"
          ]
        },
        {
          "output_type": "stream",
          "name": "stderr",
          "text": [
            "\n",
            "[*********************100%%**********************]  1 of 1 completed"
          ]
        },
        {
          "output_type": "stream",
          "name": "stdout",
          "text": [
            "173 CGON\n"
          ]
        },
        {
          "output_type": "stream",
          "name": "stderr",
          "text": [
            "\n",
            "[*********************100%%**********************]  1 of 1 completed"
          ]
        },
        {
          "output_type": "stream",
          "name": "stdout",
          "text": [
            "174 YIBO\n"
          ]
        },
        {
          "output_type": "stream",
          "name": "stderr",
          "text": [
            "\n",
            "[*********************100%%**********************]  1 of 1 completed"
          ]
        },
        {
          "output_type": "stream",
          "name": "stdout",
          "text": [
            "175 SUGP\n"
          ]
        },
        {
          "output_type": "stream",
          "name": "stderr",
          "text": [
            "\n",
            "[*********************100%%**********************]  1 of 1 completed"
          ]
        },
        {
          "output_type": "stream",
          "name": "stdout",
          "text": [
            "176 JL\n"
          ]
        },
        {
          "output_type": "stream",
          "name": "stderr",
          "text": [
            "\n",
            "[*********************100%%**********************]  1 of 1 completed"
          ]
        },
        {
          "output_type": "stream",
          "name": "stdout",
          "text": [
            "177 KSPI\n"
          ]
        },
        {
          "output_type": "stream",
          "name": "stderr",
          "text": [
            "\n",
            "[*********************100%%**********************]  1 of 1 completed"
          ]
        },
        {
          "output_type": "stream",
          "name": "stdout",
          "text": [
            "178 JVSA\n"
          ]
        },
        {
          "output_type": "stream",
          "name": "stderr",
          "text": [
            "\n",
            "[*********************100%%**********************]  1 of 1 completed"
          ]
        },
        {
          "output_type": "stream",
          "name": "stdout",
          "text": [
            "179 PSBD\n"
          ]
        },
        {
          "output_type": "stream",
          "name": "stderr",
          "text": [
            "\n",
            "[*********************100%%**********************]  1 of 1 completed"
          ]
        },
        {
          "output_type": "stream",
          "name": "stdout",
          "text": [
            "180 CCTG\n"
          ]
        },
        {
          "output_type": "stream",
          "name": "stderr",
          "text": [
            "\n",
            "[*********************100%%**********************]  1 of 1 completed"
          ]
        },
        {
          "output_type": "stream",
          "name": "stdout",
          "text": [
            "181 SYNX\n"
          ]
        },
        {
          "output_type": "stream",
          "name": "stderr",
          "text": [
            "\n",
            "[*********************100%%**********************]  1 of 1 completed"
          ]
        },
        {
          "output_type": "stream",
          "name": "stdout",
          "text": [
            "182 SDHC\n"
          ]
        },
        {
          "output_type": "stream",
          "name": "stderr",
          "text": [
            "\n",
            "[*********************100%%**********************]  1 of 1 completed"
          ]
        },
        {
          "output_type": "stream",
          "name": "stdout",
          "text": [
            "183 ROMA\n"
          ]
        },
        {
          "output_type": "stream",
          "name": "stderr",
          "text": [
            "\n"
          ]
        }
      ]
    },
    {
      "cell_type": "code",
      "source": [
        "stocks_df.head()\n"
      ],
      "metadata": {
        "id": "NCf6yPkL3YnZ",
        "colab": {
          "base_uri": "https://localhost:8080/",
          "height": 273
        },
        "outputId": "696c6538-bff9-453e-909f-47ce4b1d2be9"
      },
      "execution_count": 38,
      "outputs": [
        {
          "output_type": "execute_result",
          "data": {
            "text/plain": [
              "    Open   High     Low   Close  Adj Close  Volume Ticker  Year  Month  \\\n",
              "0  10.05  10.05  10.010  10.010     10.010   16700   IROH  2024      2   \n",
              "1  10.02  10.02  10.020  10.020     10.020    5200   IROH  2024      2   \n",
              "2  10.02  10.02  10.015  10.015     10.015   98600   IROH  2024      2   \n",
              "3  10.02  10.02  10.020  10.020     10.020    5600   IROH  2024      2   \n",
              "4  10.02  10.02  10.010  10.010     10.010   14800   IROH  2024      2   \n",
              "\n",
              "   Weekday  ... growth_30d  growth_90d  growth_365d  growth_future_5d  SMA10  \\\n",
              "0        4  ...        NaN         NaN          NaN          1.000999    NaN   \n",
              "1        1  ...        NaN         NaN          NaN          0.999002    NaN   \n",
              "2        2  ...        NaN         NaN          NaN          0.996505    NaN   \n",
              "3        3  ...        NaN         NaN          NaN          0.996008    NaN   \n",
              "4        4  ...        NaN         NaN          NaN          0.997003    NaN   \n",
              "\n",
              "   SMA20  growing_moving_average  high_minus_low_relative  volatility  \\\n",
              "0    NaN                       0                 0.003996         NaN   \n",
              "1    NaN                       0                 0.000000         NaN   \n",
              "2    NaN                       0                 0.000499         NaN   \n",
              "3    NaN                       0                 0.000000         NaN   \n",
              "4    NaN                       0                 0.000999         NaN   \n",
              "\n",
              "   is_positive_growth_5d_future  \n",
              "0                             1  \n",
              "1                             0  \n",
              "2                             0  \n",
              "3                             0  \n",
              "4                             0  \n",
              "\n",
              "[5 rows x 24 columns]"
            ],
            "text/html": [
              "\n",
              "  <div id=\"df-cdbc24ef-d51b-404e-83d8-2e77a289ebaf\" class=\"colab-df-container\">\n",
              "    <div>\n",
              "<style scoped>\n",
              "    .dataframe tbody tr th:only-of-type {\n",
              "        vertical-align: middle;\n",
              "    }\n",
              "\n",
              "    .dataframe tbody tr th {\n",
              "        vertical-align: top;\n",
              "    }\n",
              "\n",
              "    .dataframe thead th {\n",
              "        text-align: right;\n",
              "    }\n",
              "</style>\n",
              "<table border=\"1\" class=\"dataframe\">\n",
              "  <thead>\n",
              "    <tr style=\"text-align: right;\">\n",
              "      <th></th>\n",
              "      <th>Open</th>\n",
              "      <th>High</th>\n",
              "      <th>Low</th>\n",
              "      <th>Close</th>\n",
              "      <th>Adj Close</th>\n",
              "      <th>Volume</th>\n",
              "      <th>Ticker</th>\n",
              "      <th>Year</th>\n",
              "      <th>Month</th>\n",
              "      <th>Weekday</th>\n",
              "      <th>...</th>\n",
              "      <th>growth_30d</th>\n",
              "      <th>growth_90d</th>\n",
              "      <th>growth_365d</th>\n",
              "      <th>growth_future_5d</th>\n",
              "      <th>SMA10</th>\n",
              "      <th>SMA20</th>\n",
              "      <th>growing_moving_average</th>\n",
              "      <th>high_minus_low_relative</th>\n",
              "      <th>volatility</th>\n",
              "      <th>is_positive_growth_5d_future</th>\n",
              "    </tr>\n",
              "  </thead>\n",
              "  <tbody>\n",
              "    <tr>\n",
              "      <th>0</th>\n",
              "      <td>10.05</td>\n",
              "      <td>10.05</td>\n",
              "      <td>10.010</td>\n",
              "      <td>10.010</td>\n",
              "      <td>10.010</td>\n",
              "      <td>16700</td>\n",
              "      <td>IROH</td>\n",
              "      <td>2024</td>\n",
              "      <td>2</td>\n",
              "      <td>4</td>\n",
              "      <td>...</td>\n",
              "      <td>NaN</td>\n",
              "      <td>NaN</td>\n",
              "      <td>NaN</td>\n",
              "      <td>1.000999</td>\n",
              "      <td>NaN</td>\n",
              "      <td>NaN</td>\n",
              "      <td>0</td>\n",
              "      <td>0.003996</td>\n",
              "      <td>NaN</td>\n",
              "      <td>1</td>\n",
              "    </tr>\n",
              "    <tr>\n",
              "      <th>1</th>\n",
              "      <td>10.02</td>\n",
              "      <td>10.02</td>\n",
              "      <td>10.020</td>\n",
              "      <td>10.020</td>\n",
              "      <td>10.020</td>\n",
              "      <td>5200</td>\n",
              "      <td>IROH</td>\n",
              "      <td>2024</td>\n",
              "      <td>2</td>\n",
              "      <td>1</td>\n",
              "      <td>...</td>\n",
              "      <td>NaN</td>\n",
              "      <td>NaN</td>\n",
              "      <td>NaN</td>\n",
              "      <td>0.999002</td>\n",
              "      <td>NaN</td>\n",
              "      <td>NaN</td>\n",
              "      <td>0</td>\n",
              "      <td>0.000000</td>\n",
              "      <td>NaN</td>\n",
              "      <td>0</td>\n",
              "    </tr>\n",
              "    <tr>\n",
              "      <th>2</th>\n",
              "      <td>10.02</td>\n",
              "      <td>10.02</td>\n",
              "      <td>10.015</td>\n",
              "      <td>10.015</td>\n",
              "      <td>10.015</td>\n",
              "      <td>98600</td>\n",
              "      <td>IROH</td>\n",
              "      <td>2024</td>\n",
              "      <td>2</td>\n",
              "      <td>2</td>\n",
              "      <td>...</td>\n",
              "      <td>NaN</td>\n",
              "      <td>NaN</td>\n",
              "      <td>NaN</td>\n",
              "      <td>0.996505</td>\n",
              "      <td>NaN</td>\n",
              "      <td>NaN</td>\n",
              "      <td>0</td>\n",
              "      <td>0.000499</td>\n",
              "      <td>NaN</td>\n",
              "      <td>0</td>\n",
              "    </tr>\n",
              "    <tr>\n",
              "      <th>3</th>\n",
              "      <td>10.02</td>\n",
              "      <td>10.02</td>\n",
              "      <td>10.020</td>\n",
              "      <td>10.020</td>\n",
              "      <td>10.020</td>\n",
              "      <td>5600</td>\n",
              "      <td>IROH</td>\n",
              "      <td>2024</td>\n",
              "      <td>2</td>\n",
              "      <td>3</td>\n",
              "      <td>...</td>\n",
              "      <td>NaN</td>\n",
              "      <td>NaN</td>\n",
              "      <td>NaN</td>\n",
              "      <td>0.996008</td>\n",
              "      <td>NaN</td>\n",
              "      <td>NaN</td>\n",
              "      <td>0</td>\n",
              "      <td>0.000000</td>\n",
              "      <td>NaN</td>\n",
              "      <td>0</td>\n",
              "    </tr>\n",
              "    <tr>\n",
              "      <th>4</th>\n",
              "      <td>10.02</td>\n",
              "      <td>10.02</td>\n",
              "      <td>10.010</td>\n",
              "      <td>10.010</td>\n",
              "      <td>10.010</td>\n",
              "      <td>14800</td>\n",
              "      <td>IROH</td>\n",
              "      <td>2024</td>\n",
              "      <td>2</td>\n",
              "      <td>4</td>\n",
              "      <td>...</td>\n",
              "      <td>NaN</td>\n",
              "      <td>NaN</td>\n",
              "      <td>NaN</td>\n",
              "      <td>0.997003</td>\n",
              "      <td>NaN</td>\n",
              "      <td>NaN</td>\n",
              "      <td>0</td>\n",
              "      <td>0.000999</td>\n",
              "      <td>NaN</td>\n",
              "      <td>0</td>\n",
              "    </tr>\n",
              "  </tbody>\n",
              "</table>\n",
              "<p>5 rows × 24 columns</p>\n",
              "</div>\n",
              "    <div class=\"colab-df-buttons\">\n",
              "\n",
              "  <div class=\"colab-df-container\">\n",
              "    <button class=\"colab-df-convert\" onclick=\"convertToInteractive('df-cdbc24ef-d51b-404e-83d8-2e77a289ebaf')\"\n",
              "            title=\"Convert this dataframe to an interactive table.\"\n",
              "            style=\"display:none;\">\n",
              "\n",
              "  <svg xmlns=\"http://www.w3.org/2000/svg\" height=\"24px\" viewBox=\"0 -960 960 960\">\n",
              "    <path d=\"M120-120v-720h720v720H120Zm60-500h600v-160H180v160Zm220 220h160v-160H400v160Zm0 220h160v-160H400v160ZM180-400h160v-160H180v160Zm440 0h160v-160H620v160ZM180-180h160v-160H180v160Zm440 0h160v-160H620v160Z\"/>\n",
              "  </svg>\n",
              "    </button>\n",
              "\n",
              "  <style>\n",
              "    .colab-df-container {\n",
              "      display:flex;\n",
              "      gap: 12px;\n",
              "    }\n",
              "\n",
              "    .colab-df-convert {\n",
              "      background-color: #E8F0FE;\n",
              "      border: none;\n",
              "      border-radius: 50%;\n",
              "      cursor: pointer;\n",
              "      display: none;\n",
              "      fill: #1967D2;\n",
              "      height: 32px;\n",
              "      padding: 0 0 0 0;\n",
              "      width: 32px;\n",
              "    }\n",
              "\n",
              "    .colab-df-convert:hover {\n",
              "      background-color: #E2EBFA;\n",
              "      box-shadow: 0px 1px 2px rgba(60, 64, 67, 0.3), 0px 1px 3px 1px rgba(60, 64, 67, 0.15);\n",
              "      fill: #174EA6;\n",
              "    }\n",
              "\n",
              "    .colab-df-buttons div {\n",
              "      margin-bottom: 4px;\n",
              "    }\n",
              "\n",
              "    [theme=dark] .colab-df-convert {\n",
              "      background-color: #3B4455;\n",
              "      fill: #D2E3FC;\n",
              "    }\n",
              "\n",
              "    [theme=dark] .colab-df-convert:hover {\n",
              "      background-color: #434B5C;\n",
              "      box-shadow: 0px 1px 3px 1px rgba(0, 0, 0, 0.15);\n",
              "      filter: drop-shadow(0px 1px 2px rgba(0, 0, 0, 0.3));\n",
              "      fill: #FFFFFF;\n",
              "    }\n",
              "  </style>\n",
              "\n",
              "    <script>\n",
              "      const buttonEl =\n",
              "        document.querySelector('#df-cdbc24ef-d51b-404e-83d8-2e77a289ebaf button.colab-df-convert');\n",
              "      buttonEl.style.display =\n",
              "        google.colab.kernel.accessAllowed ? 'block' : 'none';\n",
              "\n",
              "      async function convertToInteractive(key) {\n",
              "        const element = document.querySelector('#df-cdbc24ef-d51b-404e-83d8-2e77a289ebaf');\n",
              "        const dataTable =\n",
              "          await google.colab.kernel.invokeFunction('convertToInteractive',\n",
              "                                                    [key], {});\n",
              "        if (!dataTable) return;\n",
              "\n",
              "        const docLinkHtml = 'Like what you see? Visit the ' +\n",
              "          '<a target=\"_blank\" href=https://colab.research.google.com/notebooks/data_table.ipynb>data table notebook</a>'\n",
              "          + ' to learn more about interactive tables.';\n",
              "        element.innerHTML = '';\n",
              "        dataTable['output_type'] = 'display_data';\n",
              "        await google.colab.output.renderOutput(dataTable, element);\n",
              "        const docLink = document.createElement('div');\n",
              "        docLink.innerHTML = docLinkHtml;\n",
              "        element.appendChild(docLink);\n",
              "      }\n",
              "    </script>\n",
              "  </div>\n",
              "\n",
              "\n",
              "<div id=\"df-b1d8f9fd-8546-431a-9bee-6e9dd704d7eb\">\n",
              "  <button class=\"colab-df-quickchart\" onclick=\"quickchart('df-b1d8f9fd-8546-431a-9bee-6e9dd704d7eb')\"\n",
              "            title=\"Suggest charts\"\n",
              "            style=\"display:none;\">\n",
              "\n",
              "<svg xmlns=\"http://www.w3.org/2000/svg\" height=\"24px\"viewBox=\"0 0 24 24\"\n",
              "     width=\"24px\">\n",
              "    <g>\n",
              "        <path d=\"M19 3H5c-1.1 0-2 .9-2 2v14c0 1.1.9 2 2 2h14c1.1 0 2-.9 2-2V5c0-1.1-.9-2-2-2zM9 17H7v-7h2v7zm4 0h-2V7h2v10zm4 0h-2v-4h2v4z\"/>\n",
              "    </g>\n",
              "</svg>\n",
              "  </button>\n",
              "\n",
              "<style>\n",
              "  .colab-df-quickchart {\n",
              "      --bg-color: #E8F0FE;\n",
              "      --fill-color: #1967D2;\n",
              "      --hover-bg-color: #E2EBFA;\n",
              "      --hover-fill-color: #174EA6;\n",
              "      --disabled-fill-color: #AAA;\n",
              "      --disabled-bg-color: #DDD;\n",
              "  }\n",
              "\n",
              "  [theme=dark] .colab-df-quickchart {\n",
              "      --bg-color: #3B4455;\n",
              "      --fill-color: #D2E3FC;\n",
              "      --hover-bg-color: #434B5C;\n",
              "      --hover-fill-color: #FFFFFF;\n",
              "      --disabled-bg-color: #3B4455;\n",
              "      --disabled-fill-color: #666;\n",
              "  }\n",
              "\n",
              "  .colab-df-quickchart {\n",
              "    background-color: var(--bg-color);\n",
              "    border: none;\n",
              "    border-radius: 50%;\n",
              "    cursor: pointer;\n",
              "    display: none;\n",
              "    fill: var(--fill-color);\n",
              "    height: 32px;\n",
              "    padding: 0;\n",
              "    width: 32px;\n",
              "  }\n",
              "\n",
              "  .colab-df-quickchart:hover {\n",
              "    background-color: var(--hover-bg-color);\n",
              "    box-shadow: 0 1px 2px rgba(60, 64, 67, 0.3), 0 1px 3px 1px rgba(60, 64, 67, 0.15);\n",
              "    fill: var(--button-hover-fill-color);\n",
              "  }\n",
              "\n",
              "  .colab-df-quickchart-complete:disabled,\n",
              "  .colab-df-quickchart-complete:disabled:hover {\n",
              "    background-color: var(--disabled-bg-color);\n",
              "    fill: var(--disabled-fill-color);\n",
              "    box-shadow: none;\n",
              "  }\n",
              "\n",
              "  .colab-df-spinner {\n",
              "    border: 2px solid var(--fill-color);\n",
              "    border-color: transparent;\n",
              "    border-bottom-color: var(--fill-color);\n",
              "    animation:\n",
              "      spin 1s steps(1) infinite;\n",
              "  }\n",
              "\n",
              "  @keyframes spin {\n",
              "    0% {\n",
              "      border-color: transparent;\n",
              "      border-bottom-color: var(--fill-color);\n",
              "      border-left-color: var(--fill-color);\n",
              "    }\n",
              "    20% {\n",
              "      border-color: transparent;\n",
              "      border-left-color: var(--fill-color);\n",
              "      border-top-color: var(--fill-color);\n",
              "    }\n",
              "    30% {\n",
              "      border-color: transparent;\n",
              "      border-left-color: var(--fill-color);\n",
              "      border-top-color: var(--fill-color);\n",
              "      border-right-color: var(--fill-color);\n",
              "    }\n",
              "    40% {\n",
              "      border-color: transparent;\n",
              "      border-right-color: var(--fill-color);\n",
              "      border-top-color: var(--fill-color);\n",
              "    }\n",
              "    60% {\n",
              "      border-color: transparent;\n",
              "      border-right-color: var(--fill-color);\n",
              "    }\n",
              "    80% {\n",
              "      border-color: transparent;\n",
              "      border-right-color: var(--fill-color);\n",
              "      border-bottom-color: var(--fill-color);\n",
              "    }\n",
              "    90% {\n",
              "      border-color: transparent;\n",
              "      border-bottom-color: var(--fill-color);\n",
              "    }\n",
              "  }\n",
              "</style>\n",
              "\n",
              "  <script>\n",
              "    async function quickchart(key) {\n",
              "      const quickchartButtonEl =\n",
              "        document.querySelector('#' + key + ' button');\n",
              "      quickchartButtonEl.disabled = true;  // To prevent multiple clicks.\n",
              "      quickchartButtonEl.classList.add('colab-df-spinner');\n",
              "      try {\n",
              "        const charts = await google.colab.kernel.invokeFunction(\n",
              "            'suggestCharts', [key], {});\n",
              "      } catch (error) {\n",
              "        console.error('Error during call to suggestCharts:', error);\n",
              "      }\n",
              "      quickchartButtonEl.classList.remove('colab-df-spinner');\n",
              "      quickchartButtonEl.classList.add('colab-df-quickchart-complete');\n",
              "    }\n",
              "    (() => {\n",
              "      let quickchartButtonEl =\n",
              "        document.querySelector('#df-b1d8f9fd-8546-431a-9bee-6e9dd704d7eb button');\n",
              "      quickchartButtonEl.style.display =\n",
              "        google.colab.kernel.accessAllowed ? 'block' : 'none';\n",
              "    })();\n",
              "  </script>\n",
              "</div>\n",
              "\n",
              "    </div>\n",
              "  </div>\n"
            ],
            "application/vnd.google.colaboratory.intrinsic+json": {
              "type": "dataframe",
              "variable_name": "stocks_df"
            }
          },
          "metadata": {},
          "execution_count": 38
        }
      ]
    },
    {
      "cell_type": "code",
      "source": [
        "# stocks_df[stocks_df['growth_future_1d'].notnull()]['growth_future_1d']"
      ],
      "metadata": {
        "id": "yKgCzRhO96mU"
      },
      "execution_count": 42,
      "outputs": []
    },
    {
      "cell_type": "code",
      "source": [
        "stocks_df['growth_future_5d'] = stocks_df['Adj Close'].shift(-5) / stocks_df['Adj Close']\n",
        "stocks_df[stocks_df['growth_future_5d'].notnull()]['growth_future_5d']"
      ],
      "metadata": {
        "id": "1u30eOxJEKsP",
        "colab": {
          "base_uri": "https://localhost:8080/"
        },
        "outputId": "d732fd5e-b360-47f1-9e74-3c6590eeebf3"
      },
      "execution_count": 43,
      "outputs": [
        {
          "output_type": "execute_result",
          "data": {
            "text/plain": [
              "0        1.000999\n",
              "1        0.999002\n",
              "2        0.996505\n",
              "3        0.996008\n",
              "4        0.997003\n",
              "           ...   \n",
              "40206    0.848561\n",
              "40207    0.909207\n",
              "40208    0.928941\n",
              "40209    0.949523\n",
              "40210    1.027397\n",
              "Name: growth_future_5d, Length: 40211, dtype: float64"
            ]
          },
          "metadata": {},
          "execution_count": 43
        }
      ]
    },
    {
      "cell_type": "markdown",
      "source": [],
      "metadata": {
        "id": "8XJApnGA92C3"
      }
    },
    {
      "cell_type": "code",
      "source": [
        "stocks_df.Ticker.value_counts()"
      ],
      "metadata": {
        "id": "oDkvjx1D73qH",
        "colab": {
          "base_uri": "https://localhost:8080/"
        },
        "outputId": "ff4fcfb3-7c11-4949-e3fb-a651f77957fe"
      },
      "execution_count": 44,
      "outputs": [
        {
          "output_type": "execute_result",
          "data": {
            "text/plain": [
              "Ticker\n",
              "ATS      3613\n",
              "PTHRF    2728\n",
              "ENLT      338\n",
              "MGOL      330\n",
              "SKWD      330\n",
              "         ... \n",
              "VHAI       51\n",
              "SMXT       50\n",
              "JVSA       41\n",
              "LEGT       28\n",
              "DYCQ       18\n",
              "Name: count, Length: 184, dtype: int64"
            ]
          },
          "metadata": {},
          "execution_count": 44
        }
      ]
    },
    {
      "cell_type": "code",
      "source": [
        "for i in range(30):\n",
        "  stocks_df['growth_future_'+str(i+1)+'d'] = stocks_df['Adj Close'].shift((i+1)*(-1)) / stocks_df['Adj Close']\n",
        "  # historyPrices['growth_future_5d'] = historyPrices['Adj Close'].shift(-5) / historyPrices['Adj Close']\n"
      ],
      "metadata": {
        "id": "8x8WezLO8Qb-"
      },
      "execution_count": 45,
      "outputs": []
    },
    {
      "cell_type": "code",
      "source": [
        "\n",
        "# def get_ticker_type(ticker:str, us_stocks_list, eu_stocks_list, india_stocks_list):\n",
        "#   if ticker in us_stocks_list:\n",
        "#     return 'US'\n",
        "#   elif ticker in eu_stocks_list:\n",
        "#     return 'EU'\n",
        "#   elif ticker in india_stocks_list:\n",
        "#     return 'INDIA'\n",
        "#   else:\n",
        "#     return 'ERROR'\n"
      ],
      "metadata": {
        "id": "bKku3MrW2UFz"
      },
      "execution_count": 46,
      "outputs": []
    },
    {
      "cell_type": "code",
      "source": [
        "stocks_df.groupby(['Ticker']).Date.agg(['min','max'])\n"
      ],
      "metadata": {
        "id": "YfLeBtz88PGI",
        "colab": {
          "base_uri": "https://localhost:8080/",
          "height": 455
        },
        "outputId": "b15760c6-0222-4ef1-b1e3-34ff318988c2"
      },
      "execution_count": 47,
      "outputs": [
        {
          "output_type": "execute_result",
          "data": {
            "text/plain": [
              "               min         max\n",
              "Ticker                        \n",
              "AACT    2023-06-13  2024-05-07\n",
              "AESI    2023-03-09  2024-05-07\n",
              "AFJK    2024-01-23  2024-05-07\n",
              "AHR     2024-02-07  2024-05-07\n",
              "AITR    2024-01-02  2024-05-07\n",
              "...            ...         ...\n",
              "WRNT    2023-07-25  2024-05-07\n",
              "YGFGF   2023-03-28  2024-05-07\n",
              "YIBO    2024-01-25  2024-05-07\n",
              "ZJYL    2023-03-28  2024-05-07\n",
              "ZKH     2023-12-15  2024-05-07\n",
              "\n",
              "[184 rows x 2 columns]"
            ],
            "text/html": [
              "\n",
              "  <div id=\"df-322ad435-2b01-4d81-b796-cc4b703c501b\" class=\"colab-df-container\">\n",
              "    <div>\n",
              "<style scoped>\n",
              "    .dataframe tbody tr th:only-of-type {\n",
              "        vertical-align: middle;\n",
              "    }\n",
              "\n",
              "    .dataframe tbody tr th {\n",
              "        vertical-align: top;\n",
              "    }\n",
              "\n",
              "    .dataframe thead th {\n",
              "        text-align: right;\n",
              "    }\n",
              "</style>\n",
              "<table border=\"1\" class=\"dataframe\">\n",
              "  <thead>\n",
              "    <tr style=\"text-align: right;\">\n",
              "      <th></th>\n",
              "      <th>min</th>\n",
              "      <th>max</th>\n",
              "    </tr>\n",
              "    <tr>\n",
              "      <th>Ticker</th>\n",
              "      <th></th>\n",
              "      <th></th>\n",
              "    </tr>\n",
              "  </thead>\n",
              "  <tbody>\n",
              "    <tr>\n",
              "      <th>AACT</th>\n",
              "      <td>2023-06-13</td>\n",
              "      <td>2024-05-07</td>\n",
              "    </tr>\n",
              "    <tr>\n",
              "      <th>AESI</th>\n",
              "      <td>2023-03-09</td>\n",
              "      <td>2024-05-07</td>\n",
              "    </tr>\n",
              "    <tr>\n",
              "      <th>AFJK</th>\n",
              "      <td>2024-01-23</td>\n",
              "      <td>2024-05-07</td>\n",
              "    </tr>\n",
              "    <tr>\n",
              "      <th>AHR</th>\n",
              "      <td>2024-02-07</td>\n",
              "      <td>2024-05-07</td>\n",
              "    </tr>\n",
              "    <tr>\n",
              "      <th>AITR</th>\n",
              "      <td>2024-01-02</td>\n",
              "      <td>2024-05-07</td>\n",
              "    </tr>\n",
              "    <tr>\n",
              "      <th>...</th>\n",
              "      <td>...</td>\n",
              "      <td>...</td>\n",
              "    </tr>\n",
              "    <tr>\n",
              "      <th>WRNT</th>\n",
              "      <td>2023-07-25</td>\n",
              "      <td>2024-05-07</td>\n",
              "    </tr>\n",
              "    <tr>\n",
              "      <th>YGFGF</th>\n",
              "      <td>2023-03-28</td>\n",
              "      <td>2024-05-07</td>\n",
              "    </tr>\n",
              "    <tr>\n",
              "      <th>YIBO</th>\n",
              "      <td>2024-01-25</td>\n",
              "      <td>2024-05-07</td>\n",
              "    </tr>\n",
              "    <tr>\n",
              "      <th>ZJYL</th>\n",
              "      <td>2023-03-28</td>\n",
              "      <td>2024-05-07</td>\n",
              "    </tr>\n",
              "    <tr>\n",
              "      <th>ZKH</th>\n",
              "      <td>2023-12-15</td>\n",
              "      <td>2024-05-07</td>\n",
              "    </tr>\n",
              "  </tbody>\n",
              "</table>\n",
              "<p>184 rows × 2 columns</p>\n",
              "</div>\n",
              "    <div class=\"colab-df-buttons\">\n",
              "\n",
              "  <div class=\"colab-df-container\">\n",
              "    <button class=\"colab-df-convert\" onclick=\"convertToInteractive('df-322ad435-2b01-4d81-b796-cc4b703c501b')\"\n",
              "            title=\"Convert this dataframe to an interactive table.\"\n",
              "            style=\"display:none;\">\n",
              "\n",
              "  <svg xmlns=\"http://www.w3.org/2000/svg\" height=\"24px\" viewBox=\"0 -960 960 960\">\n",
              "    <path d=\"M120-120v-720h720v720H120Zm60-500h600v-160H180v160Zm220 220h160v-160H400v160Zm0 220h160v-160H400v160ZM180-400h160v-160H180v160Zm440 0h160v-160H620v160ZM180-180h160v-160H180v160Zm440 0h160v-160H620v160Z\"/>\n",
              "  </svg>\n",
              "    </button>\n",
              "\n",
              "  <style>\n",
              "    .colab-df-container {\n",
              "      display:flex;\n",
              "      gap: 12px;\n",
              "    }\n",
              "\n",
              "    .colab-df-convert {\n",
              "      background-color: #E8F0FE;\n",
              "      border: none;\n",
              "      border-radius: 50%;\n",
              "      cursor: pointer;\n",
              "      display: none;\n",
              "      fill: #1967D2;\n",
              "      height: 32px;\n",
              "      padding: 0 0 0 0;\n",
              "      width: 32px;\n",
              "    }\n",
              "\n",
              "    .colab-df-convert:hover {\n",
              "      background-color: #E2EBFA;\n",
              "      box-shadow: 0px 1px 2px rgba(60, 64, 67, 0.3), 0px 1px 3px 1px rgba(60, 64, 67, 0.15);\n",
              "      fill: #174EA6;\n",
              "    }\n",
              "\n",
              "    .colab-df-buttons div {\n",
              "      margin-bottom: 4px;\n",
              "    }\n",
              "\n",
              "    [theme=dark] .colab-df-convert {\n",
              "      background-color: #3B4455;\n",
              "      fill: #D2E3FC;\n",
              "    }\n",
              "\n",
              "    [theme=dark] .colab-df-convert:hover {\n",
              "      background-color: #434B5C;\n",
              "      box-shadow: 0px 1px 3px 1px rgba(0, 0, 0, 0.15);\n",
              "      filter: drop-shadow(0px 1px 2px rgba(0, 0, 0, 0.3));\n",
              "      fill: #FFFFFF;\n",
              "    }\n",
              "  </style>\n",
              "\n",
              "    <script>\n",
              "      const buttonEl =\n",
              "        document.querySelector('#df-322ad435-2b01-4d81-b796-cc4b703c501b button.colab-df-convert');\n",
              "      buttonEl.style.display =\n",
              "        google.colab.kernel.accessAllowed ? 'block' : 'none';\n",
              "\n",
              "      async function convertToInteractive(key) {\n",
              "        const element = document.querySelector('#df-322ad435-2b01-4d81-b796-cc4b703c501b');\n",
              "        const dataTable =\n",
              "          await google.colab.kernel.invokeFunction('convertToInteractive',\n",
              "                                                    [key], {});\n",
              "        if (!dataTable) return;\n",
              "\n",
              "        const docLinkHtml = 'Like what you see? Visit the ' +\n",
              "          '<a target=\"_blank\" href=https://colab.research.google.com/notebooks/data_table.ipynb>data table notebook</a>'\n",
              "          + ' to learn more about interactive tables.';\n",
              "        element.innerHTML = '';\n",
              "        dataTable['output_type'] = 'display_data';\n",
              "        await google.colab.output.renderOutput(dataTable, element);\n",
              "        const docLink = document.createElement('div');\n",
              "        docLink.innerHTML = docLinkHtml;\n",
              "        element.appendChild(docLink);\n",
              "      }\n",
              "    </script>\n",
              "  </div>\n",
              "\n",
              "\n",
              "<div id=\"df-d6353fbe-d784-441c-a281-34c02723a1d3\">\n",
              "  <button class=\"colab-df-quickchart\" onclick=\"quickchart('df-d6353fbe-d784-441c-a281-34c02723a1d3')\"\n",
              "            title=\"Suggest charts\"\n",
              "            style=\"display:none;\">\n",
              "\n",
              "<svg xmlns=\"http://www.w3.org/2000/svg\" height=\"24px\"viewBox=\"0 0 24 24\"\n",
              "     width=\"24px\">\n",
              "    <g>\n",
              "        <path d=\"M19 3H5c-1.1 0-2 .9-2 2v14c0 1.1.9 2 2 2h14c1.1 0 2-.9 2-2V5c0-1.1-.9-2-2-2zM9 17H7v-7h2v7zm4 0h-2V7h2v10zm4 0h-2v-4h2v4z\"/>\n",
              "    </g>\n",
              "</svg>\n",
              "  </button>\n",
              "\n",
              "<style>\n",
              "  .colab-df-quickchart {\n",
              "      --bg-color: #E8F0FE;\n",
              "      --fill-color: #1967D2;\n",
              "      --hover-bg-color: #E2EBFA;\n",
              "      --hover-fill-color: #174EA6;\n",
              "      --disabled-fill-color: #AAA;\n",
              "      --disabled-bg-color: #DDD;\n",
              "  }\n",
              "\n",
              "  [theme=dark] .colab-df-quickchart {\n",
              "      --bg-color: #3B4455;\n",
              "      --fill-color: #D2E3FC;\n",
              "      --hover-bg-color: #434B5C;\n",
              "      --hover-fill-color: #FFFFFF;\n",
              "      --disabled-bg-color: #3B4455;\n",
              "      --disabled-fill-color: #666;\n",
              "  }\n",
              "\n",
              "  .colab-df-quickchart {\n",
              "    background-color: var(--bg-color);\n",
              "    border: none;\n",
              "    border-radius: 50%;\n",
              "    cursor: pointer;\n",
              "    display: none;\n",
              "    fill: var(--fill-color);\n",
              "    height: 32px;\n",
              "    padding: 0;\n",
              "    width: 32px;\n",
              "  }\n",
              "\n",
              "  .colab-df-quickchart:hover {\n",
              "    background-color: var(--hover-bg-color);\n",
              "    box-shadow: 0 1px 2px rgba(60, 64, 67, 0.3), 0 1px 3px 1px rgba(60, 64, 67, 0.15);\n",
              "    fill: var(--button-hover-fill-color);\n",
              "  }\n",
              "\n",
              "  .colab-df-quickchart-complete:disabled,\n",
              "  .colab-df-quickchart-complete:disabled:hover {\n",
              "    background-color: var(--disabled-bg-color);\n",
              "    fill: var(--disabled-fill-color);\n",
              "    box-shadow: none;\n",
              "  }\n",
              "\n",
              "  .colab-df-spinner {\n",
              "    border: 2px solid var(--fill-color);\n",
              "    border-color: transparent;\n",
              "    border-bottom-color: var(--fill-color);\n",
              "    animation:\n",
              "      spin 1s steps(1) infinite;\n",
              "  }\n",
              "\n",
              "  @keyframes spin {\n",
              "    0% {\n",
              "      border-color: transparent;\n",
              "      border-bottom-color: var(--fill-color);\n",
              "      border-left-color: var(--fill-color);\n",
              "    }\n",
              "    20% {\n",
              "      border-color: transparent;\n",
              "      border-left-color: var(--fill-color);\n",
              "      border-top-color: var(--fill-color);\n",
              "    }\n",
              "    30% {\n",
              "      border-color: transparent;\n",
              "      border-left-color: var(--fill-color);\n",
              "      border-top-color: var(--fill-color);\n",
              "      border-right-color: var(--fill-color);\n",
              "    }\n",
              "    40% {\n",
              "      border-color: transparent;\n",
              "      border-right-color: var(--fill-color);\n",
              "      border-top-color: var(--fill-color);\n",
              "    }\n",
              "    60% {\n",
              "      border-color: transparent;\n",
              "      border-right-color: var(--fill-color);\n",
              "    }\n",
              "    80% {\n",
              "      border-color: transparent;\n",
              "      border-right-color: var(--fill-color);\n",
              "      border-bottom-color: var(--fill-color);\n",
              "    }\n",
              "    90% {\n",
              "      border-color: transparent;\n",
              "      border-bottom-color: var(--fill-color);\n",
              "    }\n",
              "  }\n",
              "</style>\n",
              "\n",
              "  <script>\n",
              "    async function quickchart(key) {\n",
              "      const quickchartButtonEl =\n",
              "        document.querySelector('#' + key + ' button');\n",
              "      quickchartButtonEl.disabled = true;  // To prevent multiple clicks.\n",
              "      quickchartButtonEl.classList.add('colab-df-spinner');\n",
              "      try {\n",
              "        const charts = await google.colab.kernel.invokeFunction(\n",
              "            'suggestCharts', [key], {});\n",
              "      } catch (error) {\n",
              "        console.error('Error during call to suggestCharts:', error);\n",
              "      }\n",
              "      quickchartButtonEl.classList.remove('colab-df-spinner');\n",
              "      quickchartButtonEl.classList.add('colab-df-quickchart-complete');\n",
              "    }\n",
              "    (() => {\n",
              "      let quickchartButtonEl =\n",
              "        document.querySelector('#df-d6353fbe-d784-441c-a281-34c02723a1d3 button');\n",
              "      quickchartButtonEl.style.display =\n",
              "        google.colab.kernel.accessAllowed ? 'block' : 'none';\n",
              "    })();\n",
              "  </script>\n",
              "</div>\n",
              "\n",
              "    </div>\n",
              "  </div>\n"
            ],
            "application/vnd.google.colaboratory.intrinsic+json": {
              "type": "dataframe",
              "summary": "{\n  \"name\": \"stocks_df\",\n  \"rows\": 184,\n  \"fields\": [\n    {\n      \"column\": \"Ticker\",\n      \"properties\": {\n        \"dtype\": \"string\",\n        \"num_unique_values\": 184,\n        \"samples\": [\n          \"AZTR\",\n          \"CWD\",\n          \"SXTP\"\n        ],\n        \"semantic_type\": \"\",\n        \"description\": \"\"\n      }\n    },\n    {\n      \"column\": \"min\",\n      \"properties\": {\n        \"dtype\": \"date\",\n        \"min\": \"2009-12-29\",\n        \"max\": \"2024-04-12\",\n        \"num_unique_values\": 121,\n        \"samples\": [\n          \"2023-06-14\",\n          \"2023-05-16\",\n          \"2024-01-02\"\n        ],\n        \"semantic_type\": \"\",\n        \"description\": \"\"\n      }\n    },\n    {\n      \"column\": \"max\",\n      \"properties\": {\n        \"dtype\": \"date\",\n        \"min\": \"2024-05-07\",\n        \"max\": \"2024-05-07\",\n        \"num_unique_values\": 1,\n        \"samples\": [\n          \"2024-05-07\"\n        ],\n        \"semantic_type\": \"\",\n        \"description\": \"\"\n      }\n    }\n  ]\n}"
            }
          },
          "metadata": {},
          "execution_count": 47
        }
      ]
    },
    {
      "cell_type": "code",
      "source": [
        "stocks_df[stocks_df['growth_future_5d'].notnull()]['growth_future_5d']"
      ],
      "metadata": {
        "id": "7wKFMGtE2UcC",
        "colab": {
          "base_uri": "https://localhost:8080/"
        },
        "outputId": "cdca5aea-f2bf-454a-d823-4d62ee47986c"
      },
      "execution_count": 48,
      "outputs": [
        {
          "output_type": "execute_result",
          "data": {
            "text/plain": [
              "0        1.000999\n",
              "1        0.999002\n",
              "2        0.996505\n",
              "3        0.996008\n",
              "4        0.997003\n",
              "           ...   \n",
              "40206    0.848561\n",
              "40207    0.909207\n",
              "40208    0.928941\n",
              "40209    0.949523\n",
              "40210    1.027397\n",
              "Name: growth_future_5d, Length: 40211, dtype: float64"
            ]
          },
          "metadata": {},
          "execution_count": 48
        }
      ]
    },
    {
      "cell_type": "code",
      "source": [
        "stocks_df[stocks_df['Ticker']=='ZJYL']['growth_future_10d']"
      ],
      "metadata": {
        "id": "wWL3YD022UjG",
        "colab": {
          "base_uri": "https://localhost:8080/"
        },
        "outputId": "d1094bf7-a67f-4dec-ebed-3a948912e87f"
      },
      "execution_count": 49,
      "outputs": [
        {
          "output_type": "execute_result",
          "data": {
            "text/plain": [
              "24789    0.880503\n",
              "24790    0.882279\n",
              "24791    0.913726\n",
              "24792    1.040268\n",
              "24793    1.013333\n",
              "           ...   \n",
              "25064    2.804408\n",
              "25065    2.897727\n",
              "25066    2.817680\n",
              "25067    2.822715\n",
              "25068    3.135384\n",
              "Name: growth_future_10d, Length: 280, dtype: float64"
            ]
          },
          "metadata": {},
          "execution_count": 49
        }
      ]
    },
    {
      "cell_type": "code",
      "source": [
        "stocks_df"
      ],
      "metadata": {
        "id": "od-e5tpjE6Id",
        "colab": {
          "base_uri": "https://localhost:8080/",
          "height": 461
        },
        "outputId": "8b170c81-2179-4042-ba88-74ea17430096"
      },
      "execution_count": 50,
      "outputs": [
        {
          "output_type": "execute_result",
          "data": {
            "text/plain": [
              "         Open    High     Low   Close  Adj Close   Volume Ticker  Year  Month  \\\n",
              "0      10.050  10.050  10.010  10.010     10.010    16700   IROH  2024      2   \n",
              "1      10.020  10.020  10.020  10.020     10.020     5200   IROH  2024      2   \n",
              "2      10.020  10.020  10.015  10.015     10.015    98600   IROH  2024      2   \n",
              "3      10.020  10.020  10.020  10.020     10.020     5600   IROH  2024      2   \n",
              "4      10.020  10.020  10.010  10.010     10.010    14800   IROH  2024      2   \n",
              "...       ...     ...     ...     ...        ...      ...    ...   ...    ...   \n",
              "40211   0.710   0.728   0.661   0.678      0.678    55500   ROMA  2024      5   \n",
              "40212   0.693   0.721   0.658   0.711      0.711   202900   ROMA  2024      5   \n",
              "40213   0.750   0.777   0.670   0.719      0.719  1066800   ROMA  2024      5   \n",
              "40214   0.707   0.725   0.683   0.696      0.696   105300   ROMA  2024      5   \n",
              "40215   0.720   0.774   0.696   0.750      0.750   211000   ROMA  2024      5   \n",
              "\n",
              "       Weekday  ... growth_future_21d  growth_future_22d  growth_future_23d  \\\n",
              "0            4  ...          0.997702           0.997702           0.997502   \n",
              "1            1  ...          0.996707           0.996507           0.996906   \n",
              "2            2  ...          0.997004           0.997404           0.995507   \n",
              "3            3  ...          0.996906           0.995010           0.996008   \n",
              "4            4  ...          0.996004           0.997003           0.997502   \n",
              "...        ...  ...               ...                ...                ...   \n",
              "40211        2  ...               NaN                NaN                NaN   \n",
              "40212        3  ...               NaN                NaN                NaN   \n",
              "40213        4  ...               NaN                NaN                NaN   \n",
              "40214        0  ...               NaN                NaN                NaN   \n",
              "40215        1  ...               NaN                NaN                NaN   \n",
              "\n",
              "       growth_future_24d  growth_future_25d  growth_future_26d  \\\n",
              "0               0.997902           0.996004           0.997003   \n",
              "1               0.995010           0.996008           0.996507   \n",
              "2               0.996505           0.997004           0.996505   \n",
              "3               0.996507           0.996008           0.997006   \n",
              "4               0.997003           0.998002           0.998002   \n",
              "...                  ...                ...                ...   \n",
              "40211                NaN                NaN                NaN   \n",
              "40212                NaN                NaN                NaN   \n",
              "40213                NaN                NaN                NaN   \n",
              "40214                NaN                NaN                NaN   \n",
              "40215                NaN                NaN                NaN   \n",
              "\n",
              "       growth_future_27d  growth_future_28d  growth_future_29d  \\\n",
              "0               0.997502           0.997003           0.998002   \n",
              "1               0.996008           0.997006           0.997006   \n",
              "2               0.997504           0.997504           1.000998   \n",
              "3               0.997006           1.000499           0.999701   \n",
              "4               1.001498           1.000699           1.000300   \n",
              "...                  ...                ...                ...   \n",
              "40211                NaN                NaN                NaN   \n",
              "40212                NaN                NaN                NaN   \n",
              "40213                NaN                NaN                NaN   \n",
              "40214                NaN                NaN                NaN   \n",
              "40215                NaN                NaN                NaN   \n",
              "\n",
              "       growth_future_30d  \n",
              "0               0.998002  \n",
              "1               1.000499  \n",
              "2               1.000200  \n",
              "3               0.999301  \n",
              "4               1.000000  \n",
              "...                  ...  \n",
              "40211                NaN  \n",
              "40212                NaN  \n",
              "40213                NaN  \n",
              "40214                NaN  \n",
              "40215                NaN  \n",
              "\n",
              "[40216 rows x 53 columns]"
            ],
            "text/html": [
              "\n",
              "  <div id=\"df-c77495f7-b69f-41cd-9ba4-58bd303285fc\" class=\"colab-df-container\">\n",
              "    <div>\n",
              "<style scoped>\n",
              "    .dataframe tbody tr th:only-of-type {\n",
              "        vertical-align: middle;\n",
              "    }\n",
              "\n",
              "    .dataframe tbody tr th {\n",
              "        vertical-align: top;\n",
              "    }\n",
              "\n",
              "    .dataframe thead th {\n",
              "        text-align: right;\n",
              "    }\n",
              "</style>\n",
              "<table border=\"1\" class=\"dataframe\">\n",
              "  <thead>\n",
              "    <tr style=\"text-align: right;\">\n",
              "      <th></th>\n",
              "      <th>Open</th>\n",
              "      <th>High</th>\n",
              "      <th>Low</th>\n",
              "      <th>Close</th>\n",
              "      <th>Adj Close</th>\n",
              "      <th>Volume</th>\n",
              "      <th>Ticker</th>\n",
              "      <th>Year</th>\n",
              "      <th>Month</th>\n",
              "      <th>Weekday</th>\n",
              "      <th>...</th>\n",
              "      <th>growth_future_21d</th>\n",
              "      <th>growth_future_22d</th>\n",
              "      <th>growth_future_23d</th>\n",
              "      <th>growth_future_24d</th>\n",
              "      <th>growth_future_25d</th>\n",
              "      <th>growth_future_26d</th>\n",
              "      <th>growth_future_27d</th>\n",
              "      <th>growth_future_28d</th>\n",
              "      <th>growth_future_29d</th>\n",
              "      <th>growth_future_30d</th>\n",
              "    </tr>\n",
              "  </thead>\n",
              "  <tbody>\n",
              "    <tr>\n",
              "      <th>0</th>\n",
              "      <td>10.050</td>\n",
              "      <td>10.050</td>\n",
              "      <td>10.010</td>\n",
              "      <td>10.010</td>\n",
              "      <td>10.010</td>\n",
              "      <td>16700</td>\n",
              "      <td>IROH</td>\n",
              "      <td>2024</td>\n",
              "      <td>2</td>\n",
              "      <td>4</td>\n",
              "      <td>...</td>\n",
              "      <td>0.997702</td>\n",
              "      <td>0.997702</td>\n",
              "      <td>0.997502</td>\n",
              "      <td>0.997902</td>\n",
              "      <td>0.996004</td>\n",
              "      <td>0.997003</td>\n",
              "      <td>0.997502</td>\n",
              "      <td>0.997003</td>\n",
              "      <td>0.998002</td>\n",
              "      <td>0.998002</td>\n",
              "    </tr>\n",
              "    <tr>\n",
              "      <th>1</th>\n",
              "      <td>10.020</td>\n",
              "      <td>10.020</td>\n",
              "      <td>10.020</td>\n",
              "      <td>10.020</td>\n",
              "      <td>10.020</td>\n",
              "      <td>5200</td>\n",
              "      <td>IROH</td>\n",
              "      <td>2024</td>\n",
              "      <td>2</td>\n",
              "      <td>1</td>\n",
              "      <td>...</td>\n",
              "      <td>0.996707</td>\n",
              "      <td>0.996507</td>\n",
              "      <td>0.996906</td>\n",
              "      <td>0.995010</td>\n",
              "      <td>0.996008</td>\n",
              "      <td>0.996507</td>\n",
              "      <td>0.996008</td>\n",
              "      <td>0.997006</td>\n",
              "      <td>0.997006</td>\n",
              "      <td>1.000499</td>\n",
              "    </tr>\n",
              "    <tr>\n",
              "      <th>2</th>\n",
              "      <td>10.020</td>\n",
              "      <td>10.020</td>\n",
              "      <td>10.015</td>\n",
              "      <td>10.015</td>\n",
              "      <td>10.015</td>\n",
              "      <td>98600</td>\n",
              "      <td>IROH</td>\n",
              "      <td>2024</td>\n",
              "      <td>2</td>\n",
              "      <td>2</td>\n",
              "      <td>...</td>\n",
              "      <td>0.997004</td>\n",
              "      <td>0.997404</td>\n",
              "      <td>0.995507</td>\n",
              "      <td>0.996505</td>\n",
              "      <td>0.997004</td>\n",
              "      <td>0.996505</td>\n",
              "      <td>0.997504</td>\n",
              "      <td>0.997504</td>\n",
              "      <td>1.000998</td>\n",
              "      <td>1.000200</td>\n",
              "    </tr>\n",
              "    <tr>\n",
              "      <th>3</th>\n",
              "      <td>10.020</td>\n",
              "      <td>10.020</td>\n",
              "      <td>10.020</td>\n",
              "      <td>10.020</td>\n",
              "      <td>10.020</td>\n",
              "      <td>5600</td>\n",
              "      <td>IROH</td>\n",
              "      <td>2024</td>\n",
              "      <td>2</td>\n",
              "      <td>3</td>\n",
              "      <td>...</td>\n",
              "      <td>0.996906</td>\n",
              "      <td>0.995010</td>\n",
              "      <td>0.996008</td>\n",
              "      <td>0.996507</td>\n",
              "      <td>0.996008</td>\n",
              "      <td>0.997006</td>\n",
              "      <td>0.997006</td>\n",
              "      <td>1.000499</td>\n",
              "      <td>0.999701</td>\n",
              "      <td>0.999301</td>\n",
              "    </tr>\n",
              "    <tr>\n",
              "      <th>4</th>\n",
              "      <td>10.020</td>\n",
              "      <td>10.020</td>\n",
              "      <td>10.010</td>\n",
              "      <td>10.010</td>\n",
              "      <td>10.010</td>\n",
              "      <td>14800</td>\n",
              "      <td>IROH</td>\n",
              "      <td>2024</td>\n",
              "      <td>2</td>\n",
              "      <td>4</td>\n",
              "      <td>...</td>\n",
              "      <td>0.996004</td>\n",
              "      <td>0.997003</td>\n",
              "      <td>0.997502</td>\n",
              "      <td>0.997003</td>\n",
              "      <td>0.998002</td>\n",
              "      <td>0.998002</td>\n",
              "      <td>1.001498</td>\n",
              "      <td>1.000699</td>\n",
              "      <td>1.000300</td>\n",
              "      <td>1.000000</td>\n",
              "    </tr>\n",
              "    <tr>\n",
              "      <th>...</th>\n",
              "      <td>...</td>\n",
              "      <td>...</td>\n",
              "      <td>...</td>\n",
              "      <td>...</td>\n",
              "      <td>...</td>\n",
              "      <td>...</td>\n",
              "      <td>...</td>\n",
              "      <td>...</td>\n",
              "      <td>...</td>\n",
              "      <td>...</td>\n",
              "      <td>...</td>\n",
              "      <td>...</td>\n",
              "      <td>...</td>\n",
              "      <td>...</td>\n",
              "      <td>...</td>\n",
              "      <td>...</td>\n",
              "      <td>...</td>\n",
              "      <td>...</td>\n",
              "      <td>...</td>\n",
              "      <td>...</td>\n",
              "      <td>...</td>\n",
              "    </tr>\n",
              "    <tr>\n",
              "      <th>40211</th>\n",
              "      <td>0.710</td>\n",
              "      <td>0.728</td>\n",
              "      <td>0.661</td>\n",
              "      <td>0.678</td>\n",
              "      <td>0.678</td>\n",
              "      <td>55500</td>\n",
              "      <td>ROMA</td>\n",
              "      <td>2024</td>\n",
              "      <td>5</td>\n",
              "      <td>2</td>\n",
              "      <td>...</td>\n",
              "      <td>NaN</td>\n",
              "      <td>NaN</td>\n",
              "      <td>NaN</td>\n",
              "      <td>NaN</td>\n",
              "      <td>NaN</td>\n",
              "      <td>NaN</td>\n",
              "      <td>NaN</td>\n",
              "      <td>NaN</td>\n",
              "      <td>NaN</td>\n",
              "      <td>NaN</td>\n",
              "    </tr>\n",
              "    <tr>\n",
              "      <th>40212</th>\n",
              "      <td>0.693</td>\n",
              "      <td>0.721</td>\n",
              "      <td>0.658</td>\n",
              "      <td>0.711</td>\n",
              "      <td>0.711</td>\n",
              "      <td>202900</td>\n",
              "      <td>ROMA</td>\n",
              "      <td>2024</td>\n",
              "      <td>5</td>\n",
              "      <td>3</td>\n",
              "      <td>...</td>\n",
              "      <td>NaN</td>\n",
              "      <td>NaN</td>\n",
              "      <td>NaN</td>\n",
              "      <td>NaN</td>\n",
              "      <td>NaN</td>\n",
              "      <td>NaN</td>\n",
              "      <td>NaN</td>\n",
              "      <td>NaN</td>\n",
              "      <td>NaN</td>\n",
              "      <td>NaN</td>\n",
              "    </tr>\n",
              "    <tr>\n",
              "      <th>40213</th>\n",
              "      <td>0.750</td>\n",
              "      <td>0.777</td>\n",
              "      <td>0.670</td>\n",
              "      <td>0.719</td>\n",
              "      <td>0.719</td>\n",
              "      <td>1066800</td>\n",
              "      <td>ROMA</td>\n",
              "      <td>2024</td>\n",
              "      <td>5</td>\n",
              "      <td>4</td>\n",
              "      <td>...</td>\n",
              "      <td>NaN</td>\n",
              "      <td>NaN</td>\n",
              "      <td>NaN</td>\n",
              "      <td>NaN</td>\n",
              "      <td>NaN</td>\n",
              "      <td>NaN</td>\n",
              "      <td>NaN</td>\n",
              "      <td>NaN</td>\n",
              "      <td>NaN</td>\n",
              "      <td>NaN</td>\n",
              "    </tr>\n",
              "    <tr>\n",
              "      <th>40214</th>\n",
              "      <td>0.707</td>\n",
              "      <td>0.725</td>\n",
              "      <td>0.683</td>\n",
              "      <td>0.696</td>\n",
              "      <td>0.696</td>\n",
              "      <td>105300</td>\n",
              "      <td>ROMA</td>\n",
              "      <td>2024</td>\n",
              "      <td>5</td>\n",
              "      <td>0</td>\n",
              "      <td>...</td>\n",
              "      <td>NaN</td>\n",
              "      <td>NaN</td>\n",
              "      <td>NaN</td>\n",
              "      <td>NaN</td>\n",
              "      <td>NaN</td>\n",
              "      <td>NaN</td>\n",
              "      <td>NaN</td>\n",
              "      <td>NaN</td>\n",
              "      <td>NaN</td>\n",
              "      <td>NaN</td>\n",
              "    </tr>\n",
              "    <tr>\n",
              "      <th>40215</th>\n",
              "      <td>0.720</td>\n",
              "      <td>0.774</td>\n",
              "      <td>0.696</td>\n",
              "      <td>0.750</td>\n",
              "      <td>0.750</td>\n",
              "      <td>211000</td>\n",
              "      <td>ROMA</td>\n",
              "      <td>2024</td>\n",
              "      <td>5</td>\n",
              "      <td>1</td>\n",
              "      <td>...</td>\n",
              "      <td>NaN</td>\n",
              "      <td>NaN</td>\n",
              "      <td>NaN</td>\n",
              "      <td>NaN</td>\n",
              "      <td>NaN</td>\n",
              "      <td>NaN</td>\n",
              "      <td>NaN</td>\n",
              "      <td>NaN</td>\n",
              "      <td>NaN</td>\n",
              "      <td>NaN</td>\n",
              "    </tr>\n",
              "  </tbody>\n",
              "</table>\n",
              "<p>40216 rows × 53 columns</p>\n",
              "</div>\n",
              "    <div class=\"colab-df-buttons\">\n",
              "\n",
              "  <div class=\"colab-df-container\">\n",
              "    <button class=\"colab-df-convert\" onclick=\"convertToInteractive('df-c77495f7-b69f-41cd-9ba4-58bd303285fc')\"\n",
              "            title=\"Convert this dataframe to an interactive table.\"\n",
              "            style=\"display:none;\">\n",
              "\n",
              "  <svg xmlns=\"http://www.w3.org/2000/svg\" height=\"24px\" viewBox=\"0 -960 960 960\">\n",
              "    <path d=\"M120-120v-720h720v720H120Zm60-500h600v-160H180v160Zm220 220h160v-160H400v160Zm0 220h160v-160H400v160ZM180-400h160v-160H180v160Zm440 0h160v-160H620v160ZM180-180h160v-160H180v160Zm440 0h160v-160H620v160Z\"/>\n",
              "  </svg>\n",
              "    </button>\n",
              "\n",
              "  <style>\n",
              "    .colab-df-container {\n",
              "      display:flex;\n",
              "      gap: 12px;\n",
              "    }\n",
              "\n",
              "    .colab-df-convert {\n",
              "      background-color: #E8F0FE;\n",
              "      border: none;\n",
              "      border-radius: 50%;\n",
              "      cursor: pointer;\n",
              "      display: none;\n",
              "      fill: #1967D2;\n",
              "      height: 32px;\n",
              "      padding: 0 0 0 0;\n",
              "      width: 32px;\n",
              "    }\n",
              "\n",
              "    .colab-df-convert:hover {\n",
              "      background-color: #E2EBFA;\n",
              "      box-shadow: 0px 1px 2px rgba(60, 64, 67, 0.3), 0px 1px 3px 1px rgba(60, 64, 67, 0.15);\n",
              "      fill: #174EA6;\n",
              "    }\n",
              "\n",
              "    .colab-df-buttons div {\n",
              "      margin-bottom: 4px;\n",
              "    }\n",
              "\n",
              "    [theme=dark] .colab-df-convert {\n",
              "      background-color: #3B4455;\n",
              "      fill: #D2E3FC;\n",
              "    }\n",
              "\n",
              "    [theme=dark] .colab-df-convert:hover {\n",
              "      background-color: #434B5C;\n",
              "      box-shadow: 0px 1px 3px 1px rgba(0, 0, 0, 0.15);\n",
              "      filter: drop-shadow(0px 1px 2px rgba(0, 0, 0, 0.3));\n",
              "      fill: #FFFFFF;\n",
              "    }\n",
              "  </style>\n",
              "\n",
              "    <script>\n",
              "      const buttonEl =\n",
              "        document.querySelector('#df-c77495f7-b69f-41cd-9ba4-58bd303285fc button.colab-df-convert');\n",
              "      buttonEl.style.display =\n",
              "        google.colab.kernel.accessAllowed ? 'block' : 'none';\n",
              "\n",
              "      async function convertToInteractive(key) {\n",
              "        const element = document.querySelector('#df-c77495f7-b69f-41cd-9ba4-58bd303285fc');\n",
              "        const dataTable =\n",
              "          await google.colab.kernel.invokeFunction('convertToInteractive',\n",
              "                                                    [key], {});\n",
              "        if (!dataTable) return;\n",
              "\n",
              "        const docLinkHtml = 'Like what you see? Visit the ' +\n",
              "          '<a target=\"_blank\" href=https://colab.research.google.com/notebooks/data_table.ipynb>data table notebook</a>'\n",
              "          + ' to learn more about interactive tables.';\n",
              "        element.innerHTML = '';\n",
              "        dataTable['output_type'] = 'display_data';\n",
              "        await google.colab.output.renderOutput(dataTable, element);\n",
              "        const docLink = document.createElement('div');\n",
              "        docLink.innerHTML = docLinkHtml;\n",
              "        element.appendChild(docLink);\n",
              "      }\n",
              "    </script>\n",
              "  </div>\n",
              "\n",
              "\n",
              "<div id=\"df-76e33a2e-2485-4c64-8cb2-8c34e3b7d483\">\n",
              "  <button class=\"colab-df-quickchart\" onclick=\"quickchart('df-76e33a2e-2485-4c64-8cb2-8c34e3b7d483')\"\n",
              "            title=\"Suggest charts\"\n",
              "            style=\"display:none;\">\n",
              "\n",
              "<svg xmlns=\"http://www.w3.org/2000/svg\" height=\"24px\"viewBox=\"0 0 24 24\"\n",
              "     width=\"24px\">\n",
              "    <g>\n",
              "        <path d=\"M19 3H5c-1.1 0-2 .9-2 2v14c0 1.1.9 2 2 2h14c1.1 0 2-.9 2-2V5c0-1.1-.9-2-2-2zM9 17H7v-7h2v7zm4 0h-2V7h2v10zm4 0h-2v-4h2v4z\"/>\n",
              "    </g>\n",
              "</svg>\n",
              "  </button>\n",
              "\n",
              "<style>\n",
              "  .colab-df-quickchart {\n",
              "      --bg-color: #E8F0FE;\n",
              "      --fill-color: #1967D2;\n",
              "      --hover-bg-color: #E2EBFA;\n",
              "      --hover-fill-color: #174EA6;\n",
              "      --disabled-fill-color: #AAA;\n",
              "      --disabled-bg-color: #DDD;\n",
              "  }\n",
              "\n",
              "  [theme=dark] .colab-df-quickchart {\n",
              "      --bg-color: #3B4455;\n",
              "      --fill-color: #D2E3FC;\n",
              "      --hover-bg-color: #434B5C;\n",
              "      --hover-fill-color: #FFFFFF;\n",
              "      --disabled-bg-color: #3B4455;\n",
              "      --disabled-fill-color: #666;\n",
              "  }\n",
              "\n",
              "  .colab-df-quickchart {\n",
              "    background-color: var(--bg-color);\n",
              "    border: none;\n",
              "    border-radius: 50%;\n",
              "    cursor: pointer;\n",
              "    display: none;\n",
              "    fill: var(--fill-color);\n",
              "    height: 32px;\n",
              "    padding: 0;\n",
              "    width: 32px;\n",
              "  }\n",
              "\n",
              "  .colab-df-quickchart:hover {\n",
              "    background-color: var(--hover-bg-color);\n",
              "    box-shadow: 0 1px 2px rgba(60, 64, 67, 0.3), 0 1px 3px 1px rgba(60, 64, 67, 0.15);\n",
              "    fill: var(--button-hover-fill-color);\n",
              "  }\n",
              "\n",
              "  .colab-df-quickchart-complete:disabled,\n",
              "  .colab-df-quickchart-complete:disabled:hover {\n",
              "    background-color: var(--disabled-bg-color);\n",
              "    fill: var(--disabled-fill-color);\n",
              "    box-shadow: none;\n",
              "  }\n",
              "\n",
              "  .colab-df-spinner {\n",
              "    border: 2px solid var(--fill-color);\n",
              "    border-color: transparent;\n",
              "    border-bottom-color: var(--fill-color);\n",
              "    animation:\n",
              "      spin 1s steps(1) infinite;\n",
              "  }\n",
              "\n",
              "  @keyframes spin {\n",
              "    0% {\n",
              "      border-color: transparent;\n",
              "      border-bottom-color: var(--fill-color);\n",
              "      border-left-color: var(--fill-color);\n",
              "    }\n",
              "    20% {\n",
              "      border-color: transparent;\n",
              "      border-left-color: var(--fill-color);\n",
              "      border-top-color: var(--fill-color);\n",
              "    }\n",
              "    30% {\n",
              "      border-color: transparent;\n",
              "      border-left-color: var(--fill-color);\n",
              "      border-top-color: var(--fill-color);\n",
              "      border-right-color: var(--fill-color);\n",
              "    }\n",
              "    40% {\n",
              "      border-color: transparent;\n",
              "      border-right-color: var(--fill-color);\n",
              "      border-top-color: var(--fill-color);\n",
              "    }\n",
              "    60% {\n",
              "      border-color: transparent;\n",
              "      border-right-color: var(--fill-color);\n",
              "    }\n",
              "    80% {\n",
              "      border-color: transparent;\n",
              "      border-right-color: var(--fill-color);\n",
              "      border-bottom-color: var(--fill-color);\n",
              "    }\n",
              "    90% {\n",
              "      border-color: transparent;\n",
              "      border-bottom-color: var(--fill-color);\n",
              "    }\n",
              "  }\n",
              "</style>\n",
              "\n",
              "  <script>\n",
              "    async function quickchart(key) {\n",
              "      const quickchartButtonEl =\n",
              "        document.querySelector('#' + key + ' button');\n",
              "      quickchartButtonEl.disabled = true;  // To prevent multiple clicks.\n",
              "      quickchartButtonEl.classList.add('colab-df-spinner');\n",
              "      try {\n",
              "        const charts = await google.colab.kernel.invokeFunction(\n",
              "            'suggestCharts', [key], {});\n",
              "      } catch (error) {\n",
              "        console.error('Error during call to suggestCharts:', error);\n",
              "      }\n",
              "      quickchartButtonEl.classList.remove('colab-df-spinner');\n",
              "      quickchartButtonEl.classList.add('colab-df-quickchart-complete');\n",
              "    }\n",
              "    (() => {\n",
              "      let quickchartButtonEl =\n",
              "        document.querySelector('#df-76e33a2e-2485-4c64-8cb2-8c34e3b7d483 button');\n",
              "      quickchartButtonEl.style.display =\n",
              "        google.colab.kernel.accessAllowed ? 'block' : 'none';\n",
              "    })();\n",
              "  </script>\n",
              "</div>\n",
              "\n",
              "  <div id=\"id_d2e62378-cefb-4fd6-ac4e-f77c6fa8846c\">\n",
              "    <style>\n",
              "      .colab-df-generate {\n",
              "        background-color: #E8F0FE;\n",
              "        border: none;\n",
              "        border-radius: 50%;\n",
              "        cursor: pointer;\n",
              "        display: none;\n",
              "        fill: #1967D2;\n",
              "        height: 32px;\n",
              "        padding: 0 0 0 0;\n",
              "        width: 32px;\n",
              "      }\n",
              "\n",
              "      .colab-df-generate:hover {\n",
              "        background-color: #E2EBFA;\n",
              "        box-shadow: 0px 1px 2px rgba(60, 64, 67, 0.3), 0px 1px 3px 1px rgba(60, 64, 67, 0.15);\n",
              "        fill: #174EA6;\n",
              "      }\n",
              "\n",
              "      [theme=dark] .colab-df-generate {\n",
              "        background-color: #3B4455;\n",
              "        fill: #D2E3FC;\n",
              "      }\n",
              "\n",
              "      [theme=dark] .colab-df-generate:hover {\n",
              "        background-color: #434B5C;\n",
              "        box-shadow: 0px 1px 3px 1px rgba(0, 0, 0, 0.15);\n",
              "        filter: drop-shadow(0px 1px 2px rgba(0, 0, 0, 0.3));\n",
              "        fill: #FFFFFF;\n",
              "      }\n",
              "    </style>\n",
              "    <button class=\"colab-df-generate\" onclick=\"generateWithVariable('stocks_df')\"\n",
              "            title=\"Generate code using this dataframe.\"\n",
              "            style=\"display:none;\">\n",
              "\n",
              "  <svg xmlns=\"http://www.w3.org/2000/svg\" height=\"24px\"viewBox=\"0 0 24 24\"\n",
              "       width=\"24px\">\n",
              "    <path d=\"M7,19H8.4L18.45,9,17,7.55,7,17.6ZM5,21V16.75L18.45,3.32a2,2,0,0,1,2.83,0l1.4,1.43a1.91,1.91,0,0,1,.58,1.4,1.91,1.91,0,0,1-.58,1.4L9.25,21ZM18.45,9,17,7.55Zm-12,3A5.31,5.31,0,0,0,4.9,8.1,5.31,5.31,0,0,0,1,6.5,5.31,5.31,0,0,0,4.9,4.9,5.31,5.31,0,0,0,6.5,1,5.31,5.31,0,0,0,8.1,4.9,5.31,5.31,0,0,0,12,6.5,5.46,5.46,0,0,0,6.5,12Z\"/>\n",
              "  </svg>\n",
              "    </button>\n",
              "    <script>\n",
              "      (() => {\n",
              "      const buttonEl =\n",
              "        document.querySelector('#id_d2e62378-cefb-4fd6-ac4e-f77c6fa8846c button.colab-df-generate');\n",
              "      buttonEl.style.display =\n",
              "        google.colab.kernel.accessAllowed ? 'block' : 'none';\n",
              "\n",
              "      buttonEl.onclick = () => {\n",
              "        google.colab.notebook.generateWithVariable('stocks_df');\n",
              "      }\n",
              "      })();\n",
              "    </script>\n",
              "  </div>\n",
              "\n",
              "    </div>\n",
              "  </div>\n"
            ],
            "application/vnd.google.colaboratory.intrinsic+json": {
              "type": "dataframe",
              "variable_name": "stocks_df"
            }
          },
          "metadata": {},
          "execution_count": 50
        }
      ]
    },
    {
      "cell_type": "code",
      "source": [
        "stocks_df[stocks_df['growth_future_30d'].notnull()]"
      ],
      "metadata": {
        "id": "yond9Tuw-YuH",
        "colab": {
          "base_uri": "https://localhost:8080/",
          "height": 461
        },
        "outputId": "a434ab1d-ec53-4526-9c44-875b9a15532e"
      },
      "execution_count": 51,
      "outputs": [
        {
          "output_type": "execute_result",
          "data": {
            "text/plain": [
              "        Open    High     Low   Close  Adj Close  Volume Ticker  Year  Month  \\\n",
              "0      10.05  10.050  10.010  10.010     10.010   16700   IROH  2024      2   \n",
              "1      10.02  10.020  10.020  10.020     10.020    5200   IROH  2024      2   \n",
              "2      10.02  10.020  10.015  10.015     10.015   98600   IROH  2024      2   \n",
              "3      10.02  10.020  10.020  10.020     10.020    5600   IROH  2024      2   \n",
              "4      10.02  10.020  10.010  10.010     10.010   14800   IROH  2024      2   \n",
              "...      ...     ...     ...     ...        ...     ...    ...   ...    ...   \n",
              "40181   1.03   1.060   0.970   1.020      1.020  133500   ROMA  2024      3   \n",
              "40182   1.02   1.070   0.990   1.030      1.030  178400   ROMA  2024      3   \n",
              "40183   1.08   1.080   0.960   1.000      1.000  181800   ROMA  2024      3   \n",
              "40184   0.99   1.005   0.931   0.960      0.960  109200   ROMA  2024      3   \n",
              "40185   1.00   1.010   0.950   0.980      0.980  113900   ROMA  2024      3   \n",
              "\n",
              "       Weekday  ... growth_future_21d  growth_future_22d  growth_future_23d  \\\n",
              "0            4  ...          0.997702           0.997702           0.997502   \n",
              "1            1  ...          0.996707           0.996507           0.996906   \n",
              "2            2  ...          0.997004           0.997404           0.995507   \n",
              "3            3  ...          0.996906           0.995010           0.996008   \n",
              "4            4  ...          0.996004           0.997003           0.997502   \n",
              "...        ...  ...               ...                ...                ...   \n",
              "40181        1  ...          0.735294           0.725490           0.715686   \n",
              "40182        2  ...          0.718447           0.708738           0.701942   \n",
              "40183        3  ...          0.730000           0.723000           0.799000   \n",
              "40184        4  ...          0.753125           0.832292           0.814583   \n",
              "40185        0  ...          0.815306           0.797959           0.789796   \n",
              "\n",
              "       growth_future_24d  growth_future_25d  growth_future_26d  \\\n",
              "0               0.997902           0.996004           0.997003   \n",
              "1               0.995010           0.996008           0.996507   \n",
              "2               0.996505           0.997004           0.996505   \n",
              "3               0.996507           0.996008           0.997006   \n",
              "4               0.997003           0.998002           0.998002   \n",
              "...                  ...                ...                ...   \n",
              "40181           0.708824           0.783333           0.766667   \n",
              "40182           0.775728           0.759223           0.751456   \n",
              "40183           0.782000           0.774000           0.733000   \n",
              "40184           0.806250           0.763542           0.760417   \n",
              "40185           0.747959           0.744898           0.691837   \n",
              "\n",
              "       growth_future_27d  growth_future_28d  growth_future_29d  \\\n",
              "0               0.997502           0.997003           0.998002   \n",
              "1               0.996008           0.997006           0.997006   \n",
              "2               0.997504           0.997504           1.000998   \n",
              "3               0.997006           1.000499           0.999701   \n",
              "4               1.001498           1.000699           1.000300   \n",
              "...                  ...                ...                ...   \n",
              "40181           0.758824           0.718627           0.715686   \n",
              "40182           0.711650           0.708738           0.658252   \n",
              "40183           0.730000           0.678000           0.711000   \n",
              "40184           0.706250           0.740625           0.748958   \n",
              "40185           0.725510           0.733673           0.710204   \n",
              "\n",
              "       growth_future_30d  \n",
              "0               0.998002  \n",
              "1               1.000499  \n",
              "2               1.000200  \n",
              "3               0.999301  \n",
              "4               1.000000  \n",
              "...                  ...  \n",
              "40181           0.664706  \n",
              "40182           0.690291  \n",
              "40183           0.719000  \n",
              "40184           0.725000  \n",
              "40185           0.765306  \n",
              "\n",
              "[40186 rows x 53 columns]"
            ],
            "text/html": [
              "\n",
              "  <div id=\"df-a30b541d-cb2a-4795-b2e7-3fcae4e8fe1e\" class=\"colab-df-container\">\n",
              "    <div>\n",
              "<style scoped>\n",
              "    .dataframe tbody tr th:only-of-type {\n",
              "        vertical-align: middle;\n",
              "    }\n",
              "\n",
              "    .dataframe tbody tr th {\n",
              "        vertical-align: top;\n",
              "    }\n",
              "\n",
              "    .dataframe thead th {\n",
              "        text-align: right;\n",
              "    }\n",
              "</style>\n",
              "<table border=\"1\" class=\"dataframe\">\n",
              "  <thead>\n",
              "    <tr style=\"text-align: right;\">\n",
              "      <th></th>\n",
              "      <th>Open</th>\n",
              "      <th>High</th>\n",
              "      <th>Low</th>\n",
              "      <th>Close</th>\n",
              "      <th>Adj Close</th>\n",
              "      <th>Volume</th>\n",
              "      <th>Ticker</th>\n",
              "      <th>Year</th>\n",
              "      <th>Month</th>\n",
              "      <th>Weekday</th>\n",
              "      <th>...</th>\n",
              "      <th>growth_future_21d</th>\n",
              "      <th>growth_future_22d</th>\n",
              "      <th>growth_future_23d</th>\n",
              "      <th>growth_future_24d</th>\n",
              "      <th>growth_future_25d</th>\n",
              "      <th>growth_future_26d</th>\n",
              "      <th>growth_future_27d</th>\n",
              "      <th>growth_future_28d</th>\n",
              "      <th>growth_future_29d</th>\n",
              "      <th>growth_future_30d</th>\n",
              "    </tr>\n",
              "  </thead>\n",
              "  <tbody>\n",
              "    <tr>\n",
              "      <th>0</th>\n",
              "      <td>10.05</td>\n",
              "      <td>10.050</td>\n",
              "      <td>10.010</td>\n",
              "      <td>10.010</td>\n",
              "      <td>10.010</td>\n",
              "      <td>16700</td>\n",
              "      <td>IROH</td>\n",
              "      <td>2024</td>\n",
              "      <td>2</td>\n",
              "      <td>4</td>\n",
              "      <td>...</td>\n",
              "      <td>0.997702</td>\n",
              "      <td>0.997702</td>\n",
              "      <td>0.997502</td>\n",
              "      <td>0.997902</td>\n",
              "      <td>0.996004</td>\n",
              "      <td>0.997003</td>\n",
              "      <td>0.997502</td>\n",
              "      <td>0.997003</td>\n",
              "      <td>0.998002</td>\n",
              "      <td>0.998002</td>\n",
              "    </tr>\n",
              "    <tr>\n",
              "      <th>1</th>\n",
              "      <td>10.02</td>\n",
              "      <td>10.020</td>\n",
              "      <td>10.020</td>\n",
              "      <td>10.020</td>\n",
              "      <td>10.020</td>\n",
              "      <td>5200</td>\n",
              "      <td>IROH</td>\n",
              "      <td>2024</td>\n",
              "      <td>2</td>\n",
              "      <td>1</td>\n",
              "      <td>...</td>\n",
              "      <td>0.996707</td>\n",
              "      <td>0.996507</td>\n",
              "      <td>0.996906</td>\n",
              "      <td>0.995010</td>\n",
              "      <td>0.996008</td>\n",
              "      <td>0.996507</td>\n",
              "      <td>0.996008</td>\n",
              "      <td>0.997006</td>\n",
              "      <td>0.997006</td>\n",
              "      <td>1.000499</td>\n",
              "    </tr>\n",
              "    <tr>\n",
              "      <th>2</th>\n",
              "      <td>10.02</td>\n",
              "      <td>10.020</td>\n",
              "      <td>10.015</td>\n",
              "      <td>10.015</td>\n",
              "      <td>10.015</td>\n",
              "      <td>98600</td>\n",
              "      <td>IROH</td>\n",
              "      <td>2024</td>\n",
              "      <td>2</td>\n",
              "      <td>2</td>\n",
              "      <td>...</td>\n",
              "      <td>0.997004</td>\n",
              "      <td>0.997404</td>\n",
              "      <td>0.995507</td>\n",
              "      <td>0.996505</td>\n",
              "      <td>0.997004</td>\n",
              "      <td>0.996505</td>\n",
              "      <td>0.997504</td>\n",
              "      <td>0.997504</td>\n",
              "      <td>1.000998</td>\n",
              "      <td>1.000200</td>\n",
              "    </tr>\n",
              "    <tr>\n",
              "      <th>3</th>\n",
              "      <td>10.02</td>\n",
              "      <td>10.020</td>\n",
              "      <td>10.020</td>\n",
              "      <td>10.020</td>\n",
              "      <td>10.020</td>\n",
              "      <td>5600</td>\n",
              "      <td>IROH</td>\n",
              "      <td>2024</td>\n",
              "      <td>2</td>\n",
              "      <td>3</td>\n",
              "      <td>...</td>\n",
              "      <td>0.996906</td>\n",
              "      <td>0.995010</td>\n",
              "      <td>0.996008</td>\n",
              "      <td>0.996507</td>\n",
              "      <td>0.996008</td>\n",
              "      <td>0.997006</td>\n",
              "      <td>0.997006</td>\n",
              "      <td>1.000499</td>\n",
              "      <td>0.999701</td>\n",
              "      <td>0.999301</td>\n",
              "    </tr>\n",
              "    <tr>\n",
              "      <th>4</th>\n",
              "      <td>10.02</td>\n",
              "      <td>10.020</td>\n",
              "      <td>10.010</td>\n",
              "      <td>10.010</td>\n",
              "      <td>10.010</td>\n",
              "      <td>14800</td>\n",
              "      <td>IROH</td>\n",
              "      <td>2024</td>\n",
              "      <td>2</td>\n",
              "      <td>4</td>\n",
              "      <td>...</td>\n",
              "      <td>0.996004</td>\n",
              "      <td>0.997003</td>\n",
              "      <td>0.997502</td>\n",
              "      <td>0.997003</td>\n",
              "      <td>0.998002</td>\n",
              "      <td>0.998002</td>\n",
              "      <td>1.001498</td>\n",
              "      <td>1.000699</td>\n",
              "      <td>1.000300</td>\n",
              "      <td>1.000000</td>\n",
              "    </tr>\n",
              "    <tr>\n",
              "      <th>...</th>\n",
              "      <td>...</td>\n",
              "      <td>...</td>\n",
              "      <td>...</td>\n",
              "      <td>...</td>\n",
              "      <td>...</td>\n",
              "      <td>...</td>\n",
              "      <td>...</td>\n",
              "      <td>...</td>\n",
              "      <td>...</td>\n",
              "      <td>...</td>\n",
              "      <td>...</td>\n",
              "      <td>...</td>\n",
              "      <td>...</td>\n",
              "      <td>...</td>\n",
              "      <td>...</td>\n",
              "      <td>...</td>\n",
              "      <td>...</td>\n",
              "      <td>...</td>\n",
              "      <td>...</td>\n",
              "      <td>...</td>\n",
              "      <td>...</td>\n",
              "    </tr>\n",
              "    <tr>\n",
              "      <th>40181</th>\n",
              "      <td>1.03</td>\n",
              "      <td>1.060</td>\n",
              "      <td>0.970</td>\n",
              "      <td>1.020</td>\n",
              "      <td>1.020</td>\n",
              "      <td>133500</td>\n",
              "      <td>ROMA</td>\n",
              "      <td>2024</td>\n",
              "      <td>3</td>\n",
              "      <td>1</td>\n",
              "      <td>...</td>\n",
              "      <td>0.735294</td>\n",
              "      <td>0.725490</td>\n",
              "      <td>0.715686</td>\n",
              "      <td>0.708824</td>\n",
              "      <td>0.783333</td>\n",
              "      <td>0.766667</td>\n",
              "      <td>0.758824</td>\n",
              "      <td>0.718627</td>\n",
              "      <td>0.715686</td>\n",
              "      <td>0.664706</td>\n",
              "    </tr>\n",
              "    <tr>\n",
              "      <th>40182</th>\n",
              "      <td>1.02</td>\n",
              "      <td>1.070</td>\n",
              "      <td>0.990</td>\n",
              "      <td>1.030</td>\n",
              "      <td>1.030</td>\n",
              "      <td>178400</td>\n",
              "      <td>ROMA</td>\n",
              "      <td>2024</td>\n",
              "      <td>3</td>\n",
              "      <td>2</td>\n",
              "      <td>...</td>\n",
              "      <td>0.718447</td>\n",
              "      <td>0.708738</td>\n",
              "      <td>0.701942</td>\n",
              "      <td>0.775728</td>\n",
              "      <td>0.759223</td>\n",
              "      <td>0.751456</td>\n",
              "      <td>0.711650</td>\n",
              "      <td>0.708738</td>\n",
              "      <td>0.658252</td>\n",
              "      <td>0.690291</td>\n",
              "    </tr>\n",
              "    <tr>\n",
              "      <th>40183</th>\n",
              "      <td>1.08</td>\n",
              "      <td>1.080</td>\n",
              "      <td>0.960</td>\n",
              "      <td>1.000</td>\n",
              "      <td>1.000</td>\n",
              "      <td>181800</td>\n",
              "      <td>ROMA</td>\n",
              "      <td>2024</td>\n",
              "      <td>3</td>\n",
              "      <td>3</td>\n",
              "      <td>...</td>\n",
              "      <td>0.730000</td>\n",
              "      <td>0.723000</td>\n",
              "      <td>0.799000</td>\n",
              "      <td>0.782000</td>\n",
              "      <td>0.774000</td>\n",
              "      <td>0.733000</td>\n",
              "      <td>0.730000</td>\n",
              "      <td>0.678000</td>\n",
              "      <td>0.711000</td>\n",
              "      <td>0.719000</td>\n",
              "    </tr>\n",
              "    <tr>\n",
              "      <th>40184</th>\n",
              "      <td>0.99</td>\n",
              "      <td>1.005</td>\n",
              "      <td>0.931</td>\n",
              "      <td>0.960</td>\n",
              "      <td>0.960</td>\n",
              "      <td>109200</td>\n",
              "      <td>ROMA</td>\n",
              "      <td>2024</td>\n",
              "      <td>3</td>\n",
              "      <td>4</td>\n",
              "      <td>...</td>\n",
              "      <td>0.753125</td>\n",
              "      <td>0.832292</td>\n",
              "      <td>0.814583</td>\n",
              "      <td>0.806250</td>\n",
              "      <td>0.763542</td>\n",
              "      <td>0.760417</td>\n",
              "      <td>0.706250</td>\n",
              "      <td>0.740625</td>\n",
              "      <td>0.748958</td>\n",
              "      <td>0.725000</td>\n",
              "    </tr>\n",
              "    <tr>\n",
              "      <th>40185</th>\n",
              "      <td>1.00</td>\n",
              "      <td>1.010</td>\n",
              "      <td>0.950</td>\n",
              "      <td>0.980</td>\n",
              "      <td>0.980</td>\n",
              "      <td>113900</td>\n",
              "      <td>ROMA</td>\n",
              "      <td>2024</td>\n",
              "      <td>3</td>\n",
              "      <td>0</td>\n",
              "      <td>...</td>\n",
              "      <td>0.815306</td>\n",
              "      <td>0.797959</td>\n",
              "      <td>0.789796</td>\n",
              "      <td>0.747959</td>\n",
              "      <td>0.744898</td>\n",
              "      <td>0.691837</td>\n",
              "      <td>0.725510</td>\n",
              "      <td>0.733673</td>\n",
              "      <td>0.710204</td>\n",
              "      <td>0.765306</td>\n",
              "    </tr>\n",
              "  </tbody>\n",
              "</table>\n",
              "<p>40186 rows × 53 columns</p>\n",
              "</div>\n",
              "    <div class=\"colab-df-buttons\">\n",
              "\n",
              "  <div class=\"colab-df-container\">\n",
              "    <button class=\"colab-df-convert\" onclick=\"convertToInteractive('df-a30b541d-cb2a-4795-b2e7-3fcae4e8fe1e')\"\n",
              "            title=\"Convert this dataframe to an interactive table.\"\n",
              "            style=\"display:none;\">\n",
              "\n",
              "  <svg xmlns=\"http://www.w3.org/2000/svg\" height=\"24px\" viewBox=\"0 -960 960 960\">\n",
              "    <path d=\"M120-120v-720h720v720H120Zm60-500h600v-160H180v160Zm220 220h160v-160H400v160Zm0 220h160v-160H400v160ZM180-400h160v-160H180v160Zm440 0h160v-160H620v160ZM180-180h160v-160H180v160Zm440 0h160v-160H620v160Z\"/>\n",
              "  </svg>\n",
              "    </button>\n",
              "\n",
              "  <style>\n",
              "    .colab-df-container {\n",
              "      display:flex;\n",
              "      gap: 12px;\n",
              "    }\n",
              "\n",
              "    .colab-df-convert {\n",
              "      background-color: #E8F0FE;\n",
              "      border: none;\n",
              "      border-radius: 50%;\n",
              "      cursor: pointer;\n",
              "      display: none;\n",
              "      fill: #1967D2;\n",
              "      height: 32px;\n",
              "      padding: 0 0 0 0;\n",
              "      width: 32px;\n",
              "    }\n",
              "\n",
              "    .colab-df-convert:hover {\n",
              "      background-color: #E2EBFA;\n",
              "      box-shadow: 0px 1px 2px rgba(60, 64, 67, 0.3), 0px 1px 3px 1px rgba(60, 64, 67, 0.15);\n",
              "      fill: #174EA6;\n",
              "    }\n",
              "\n",
              "    .colab-df-buttons div {\n",
              "      margin-bottom: 4px;\n",
              "    }\n",
              "\n",
              "    [theme=dark] .colab-df-convert {\n",
              "      background-color: #3B4455;\n",
              "      fill: #D2E3FC;\n",
              "    }\n",
              "\n",
              "    [theme=dark] .colab-df-convert:hover {\n",
              "      background-color: #434B5C;\n",
              "      box-shadow: 0px 1px 3px 1px rgba(0, 0, 0, 0.15);\n",
              "      filter: drop-shadow(0px 1px 2px rgba(0, 0, 0, 0.3));\n",
              "      fill: #FFFFFF;\n",
              "    }\n",
              "  </style>\n",
              "\n",
              "    <script>\n",
              "      const buttonEl =\n",
              "        document.querySelector('#df-a30b541d-cb2a-4795-b2e7-3fcae4e8fe1e button.colab-df-convert');\n",
              "      buttonEl.style.display =\n",
              "        google.colab.kernel.accessAllowed ? 'block' : 'none';\n",
              "\n",
              "      async function convertToInteractive(key) {\n",
              "        const element = document.querySelector('#df-a30b541d-cb2a-4795-b2e7-3fcae4e8fe1e');\n",
              "        const dataTable =\n",
              "          await google.colab.kernel.invokeFunction('convertToInteractive',\n",
              "                                                    [key], {});\n",
              "        if (!dataTable) return;\n",
              "\n",
              "        const docLinkHtml = 'Like what you see? Visit the ' +\n",
              "          '<a target=\"_blank\" href=https://colab.research.google.com/notebooks/data_table.ipynb>data table notebook</a>'\n",
              "          + ' to learn more about interactive tables.';\n",
              "        element.innerHTML = '';\n",
              "        dataTable['output_type'] = 'display_data';\n",
              "        await google.colab.output.renderOutput(dataTable, element);\n",
              "        const docLink = document.createElement('div');\n",
              "        docLink.innerHTML = docLinkHtml;\n",
              "        element.appendChild(docLink);\n",
              "      }\n",
              "    </script>\n",
              "  </div>\n",
              "\n",
              "\n",
              "<div id=\"df-a743a522-116b-4a94-b631-9b99289d871e\">\n",
              "  <button class=\"colab-df-quickchart\" onclick=\"quickchart('df-a743a522-116b-4a94-b631-9b99289d871e')\"\n",
              "            title=\"Suggest charts\"\n",
              "            style=\"display:none;\">\n",
              "\n",
              "<svg xmlns=\"http://www.w3.org/2000/svg\" height=\"24px\"viewBox=\"0 0 24 24\"\n",
              "     width=\"24px\">\n",
              "    <g>\n",
              "        <path d=\"M19 3H5c-1.1 0-2 .9-2 2v14c0 1.1.9 2 2 2h14c1.1 0 2-.9 2-2V5c0-1.1-.9-2-2-2zM9 17H7v-7h2v7zm4 0h-2V7h2v10zm4 0h-2v-4h2v4z\"/>\n",
              "    </g>\n",
              "</svg>\n",
              "  </button>\n",
              "\n",
              "<style>\n",
              "  .colab-df-quickchart {\n",
              "      --bg-color: #E8F0FE;\n",
              "      --fill-color: #1967D2;\n",
              "      --hover-bg-color: #E2EBFA;\n",
              "      --hover-fill-color: #174EA6;\n",
              "      --disabled-fill-color: #AAA;\n",
              "      --disabled-bg-color: #DDD;\n",
              "  }\n",
              "\n",
              "  [theme=dark] .colab-df-quickchart {\n",
              "      --bg-color: #3B4455;\n",
              "      --fill-color: #D2E3FC;\n",
              "      --hover-bg-color: #434B5C;\n",
              "      --hover-fill-color: #FFFFFF;\n",
              "      --disabled-bg-color: #3B4455;\n",
              "      --disabled-fill-color: #666;\n",
              "  }\n",
              "\n",
              "  .colab-df-quickchart {\n",
              "    background-color: var(--bg-color);\n",
              "    border: none;\n",
              "    border-radius: 50%;\n",
              "    cursor: pointer;\n",
              "    display: none;\n",
              "    fill: var(--fill-color);\n",
              "    height: 32px;\n",
              "    padding: 0;\n",
              "    width: 32px;\n",
              "  }\n",
              "\n",
              "  .colab-df-quickchart:hover {\n",
              "    background-color: var(--hover-bg-color);\n",
              "    box-shadow: 0 1px 2px rgba(60, 64, 67, 0.3), 0 1px 3px 1px rgba(60, 64, 67, 0.15);\n",
              "    fill: var(--button-hover-fill-color);\n",
              "  }\n",
              "\n",
              "  .colab-df-quickchart-complete:disabled,\n",
              "  .colab-df-quickchart-complete:disabled:hover {\n",
              "    background-color: var(--disabled-bg-color);\n",
              "    fill: var(--disabled-fill-color);\n",
              "    box-shadow: none;\n",
              "  }\n",
              "\n",
              "  .colab-df-spinner {\n",
              "    border: 2px solid var(--fill-color);\n",
              "    border-color: transparent;\n",
              "    border-bottom-color: var(--fill-color);\n",
              "    animation:\n",
              "      spin 1s steps(1) infinite;\n",
              "  }\n",
              "\n",
              "  @keyframes spin {\n",
              "    0% {\n",
              "      border-color: transparent;\n",
              "      border-bottom-color: var(--fill-color);\n",
              "      border-left-color: var(--fill-color);\n",
              "    }\n",
              "    20% {\n",
              "      border-color: transparent;\n",
              "      border-left-color: var(--fill-color);\n",
              "      border-top-color: var(--fill-color);\n",
              "    }\n",
              "    30% {\n",
              "      border-color: transparent;\n",
              "      border-left-color: var(--fill-color);\n",
              "      border-top-color: var(--fill-color);\n",
              "      border-right-color: var(--fill-color);\n",
              "    }\n",
              "    40% {\n",
              "      border-color: transparent;\n",
              "      border-right-color: var(--fill-color);\n",
              "      border-top-color: var(--fill-color);\n",
              "    }\n",
              "    60% {\n",
              "      border-color: transparent;\n",
              "      border-right-color: var(--fill-color);\n",
              "    }\n",
              "    80% {\n",
              "      border-color: transparent;\n",
              "      border-right-color: var(--fill-color);\n",
              "      border-bottom-color: var(--fill-color);\n",
              "    }\n",
              "    90% {\n",
              "      border-color: transparent;\n",
              "      border-bottom-color: var(--fill-color);\n",
              "    }\n",
              "  }\n",
              "</style>\n",
              "\n",
              "  <script>\n",
              "    async function quickchart(key) {\n",
              "      const quickchartButtonEl =\n",
              "        document.querySelector('#' + key + ' button');\n",
              "      quickchartButtonEl.disabled = true;  // To prevent multiple clicks.\n",
              "      quickchartButtonEl.classList.add('colab-df-spinner');\n",
              "      try {\n",
              "        const charts = await google.colab.kernel.invokeFunction(\n",
              "            'suggestCharts', [key], {});\n",
              "      } catch (error) {\n",
              "        console.error('Error during call to suggestCharts:', error);\n",
              "      }\n",
              "      quickchartButtonEl.classList.remove('colab-df-spinner');\n",
              "      quickchartButtonEl.classList.add('colab-df-quickchart-complete');\n",
              "    }\n",
              "    (() => {\n",
              "      let quickchartButtonEl =\n",
              "        document.querySelector('#df-a743a522-116b-4a94-b631-9b99289d871e button');\n",
              "      quickchartButtonEl.style.display =\n",
              "        google.colab.kernel.accessAllowed ? 'block' : 'none';\n",
              "    })();\n",
              "  </script>\n",
              "</div>\n",
              "\n",
              "    </div>\n",
              "  </div>\n"
            ],
            "application/vnd.google.colaboratory.intrinsic+json": {
              "type": "dataframe"
            }
          },
          "metadata": {},
          "execution_count": 51
        }
      ]
    },
    {
      "cell_type": "code",
      "source": [
        "df_growth = stocks_df.filter(like='growth_future')\n",
        "df_growth.describe()\n"
      ],
      "metadata": {
        "id": "dTdSi15zFBXU",
        "colab": {
          "base_uri": "https://localhost:8080/",
          "height": 349
        },
        "outputId": "c01528d4-d21b-43e5-a2aa-903460e82349"
      },
      "execution_count": 52,
      "outputs": [
        {
          "output_type": "execute_result",
          "data": {
            "text/plain": [
              "       growth_future_5d  growth_future_1d  growth_future_2d  growth_future_3d  \\\n",
              "count      40211.000000      40215.000000      40214.000000      40213.000000   \n",
              "mean           1.846337          1.185977          1.354721          1.519302   \n",
              "std           56.899041         25.624630         36.093352         44.109050   \n",
              "min            0.002729          0.016937          0.003584          0.002729   \n",
              "25%            0.943562          0.978889          0.968100          0.959427   \n",
              "50%            1.000000          1.000000          1.000000          1.000000   \n",
              "75%            1.033175          1.014038          1.019559          1.025140   \n",
              "max         5089.999911       5064.999817       5079.999682       5079.999682   \n",
              "\n",
              "       growth_future_4d  growth_future_6d  growth_future_7d  growth_future_8d  \\\n",
              "count      40212.000000      40210.000000      40209.000000      40208.000000   \n",
              "mean           1.683474          2.010252          2.174426          2.337982   \n",
              "std           50.894425         62.325861         67.326891         71.982527   \n",
              "min            0.002729          0.002729          0.002729          0.002729   \n",
              "25%            0.951220          0.936042          0.929176          0.922205   \n",
              "50%            1.000000          1.000000          1.000000          1.000000   \n",
              "75%            1.028991          1.035955          1.038889          1.042915   \n",
              "max         5084.999797       5089.999911       5099.999662       5099.999662   \n",
              "\n",
              "       growth_future_9d  growth_future_10d  ...  growth_future_21d  \\\n",
              "count      40207.000000       40206.000000  ...       40195.000000   \n",
              "mean           2.501686           2.664629  ...           4.439055   \n",
              "std           76.368064          80.513393  ...         116.840525   \n",
              "min            0.002729           0.002729  ...           0.002729   \n",
              "25%            0.915254           0.907603  ...           0.836257   \n",
              "50%            1.000000           1.000000  ...           1.000000   \n",
              "75%            1.045505           1.048468  ...           1.084211   \n",
              "max         5104.999777        5104.999777  ...        5119.999642   \n",
              "\n",
              "       growth_future_22d  growth_future_23d  growth_future_24d  \\\n",
              "count       40194.000000       40193.000000       40192.000000   \n",
              "mean            4.597142           4.756293           4.913897   \n",
              "std           119.601739         122.308584         124.951194   \n",
              "min             0.002729           0.002729           0.002729   \n",
              "25%             0.830411           0.825175           0.819166   \n",
              "50%             1.000000           1.000000           1.000000   \n",
              "75%             1.087022           1.091049           1.095737   \n",
              "max          5119.999642        5119.999642        5119.999642   \n",
              "\n",
              "       growth_future_25d  growth_future_26d  growth_future_27d  \\\n",
              "count       40191.000000       40190.000000       40189.000000   \n",
              "mean            5.070604           5.229611           5.389597   \n",
              "std           127.537394         130.083222         132.585749   \n",
              "min             0.002729           0.002729           0.002729   \n",
              "25%             0.814196           0.808068           0.803571   \n",
              "50%             1.000000           1.000000           1.000000   \n",
              "75%             1.099254           1.102309           1.105622   \n",
              "max          5124.999757        5124.999757        5124.999757   \n",
              "\n",
              "       growth_future_28d  growth_future_29d  growth_future_30d  \n",
              "count       40188.000000       40187.000000       40186.000000  \n",
              "mean            5.549055           5.597596           5.633317  \n",
              "std           135.045926         135.152678         135.216330  \n",
              "min             0.002729           0.002729           0.002729  \n",
              "25%             0.797774           0.792367           0.788587  \n",
              "50%             1.000000           1.000000           1.000000  \n",
              "75%             1.109621           1.113909           1.119048  \n",
              "max          5129.999871        5129.999871        5129.999871  \n",
              "\n",
              "[8 rows x 30 columns]"
            ],
            "text/html": [
              "\n",
              "  <div id=\"df-2d01e211-b620-40c9-93c9-4a8c64cb6983\" class=\"colab-df-container\">\n",
              "    <div>\n",
              "<style scoped>\n",
              "    .dataframe tbody tr th:only-of-type {\n",
              "        vertical-align: middle;\n",
              "    }\n",
              "\n",
              "    .dataframe tbody tr th {\n",
              "        vertical-align: top;\n",
              "    }\n",
              "\n",
              "    .dataframe thead th {\n",
              "        text-align: right;\n",
              "    }\n",
              "</style>\n",
              "<table border=\"1\" class=\"dataframe\">\n",
              "  <thead>\n",
              "    <tr style=\"text-align: right;\">\n",
              "      <th></th>\n",
              "      <th>growth_future_5d</th>\n",
              "      <th>growth_future_1d</th>\n",
              "      <th>growth_future_2d</th>\n",
              "      <th>growth_future_3d</th>\n",
              "      <th>growth_future_4d</th>\n",
              "      <th>growth_future_6d</th>\n",
              "      <th>growth_future_7d</th>\n",
              "      <th>growth_future_8d</th>\n",
              "      <th>growth_future_9d</th>\n",
              "      <th>growth_future_10d</th>\n",
              "      <th>...</th>\n",
              "      <th>growth_future_21d</th>\n",
              "      <th>growth_future_22d</th>\n",
              "      <th>growth_future_23d</th>\n",
              "      <th>growth_future_24d</th>\n",
              "      <th>growth_future_25d</th>\n",
              "      <th>growth_future_26d</th>\n",
              "      <th>growth_future_27d</th>\n",
              "      <th>growth_future_28d</th>\n",
              "      <th>growth_future_29d</th>\n",
              "      <th>growth_future_30d</th>\n",
              "    </tr>\n",
              "  </thead>\n",
              "  <tbody>\n",
              "    <tr>\n",
              "      <th>count</th>\n",
              "      <td>40211.000000</td>\n",
              "      <td>40215.000000</td>\n",
              "      <td>40214.000000</td>\n",
              "      <td>40213.000000</td>\n",
              "      <td>40212.000000</td>\n",
              "      <td>40210.000000</td>\n",
              "      <td>40209.000000</td>\n",
              "      <td>40208.000000</td>\n",
              "      <td>40207.000000</td>\n",
              "      <td>40206.000000</td>\n",
              "      <td>...</td>\n",
              "      <td>40195.000000</td>\n",
              "      <td>40194.000000</td>\n",
              "      <td>40193.000000</td>\n",
              "      <td>40192.000000</td>\n",
              "      <td>40191.000000</td>\n",
              "      <td>40190.000000</td>\n",
              "      <td>40189.000000</td>\n",
              "      <td>40188.000000</td>\n",
              "      <td>40187.000000</td>\n",
              "      <td>40186.000000</td>\n",
              "    </tr>\n",
              "    <tr>\n",
              "      <th>mean</th>\n",
              "      <td>1.846337</td>\n",
              "      <td>1.185977</td>\n",
              "      <td>1.354721</td>\n",
              "      <td>1.519302</td>\n",
              "      <td>1.683474</td>\n",
              "      <td>2.010252</td>\n",
              "      <td>2.174426</td>\n",
              "      <td>2.337982</td>\n",
              "      <td>2.501686</td>\n",
              "      <td>2.664629</td>\n",
              "      <td>...</td>\n",
              "      <td>4.439055</td>\n",
              "      <td>4.597142</td>\n",
              "      <td>4.756293</td>\n",
              "      <td>4.913897</td>\n",
              "      <td>5.070604</td>\n",
              "      <td>5.229611</td>\n",
              "      <td>5.389597</td>\n",
              "      <td>5.549055</td>\n",
              "      <td>5.597596</td>\n",
              "      <td>5.633317</td>\n",
              "    </tr>\n",
              "    <tr>\n",
              "      <th>std</th>\n",
              "      <td>56.899041</td>\n",
              "      <td>25.624630</td>\n",
              "      <td>36.093352</td>\n",
              "      <td>44.109050</td>\n",
              "      <td>50.894425</td>\n",
              "      <td>62.325861</td>\n",
              "      <td>67.326891</td>\n",
              "      <td>71.982527</td>\n",
              "      <td>76.368064</td>\n",
              "      <td>80.513393</td>\n",
              "      <td>...</td>\n",
              "      <td>116.840525</td>\n",
              "      <td>119.601739</td>\n",
              "      <td>122.308584</td>\n",
              "      <td>124.951194</td>\n",
              "      <td>127.537394</td>\n",
              "      <td>130.083222</td>\n",
              "      <td>132.585749</td>\n",
              "      <td>135.045926</td>\n",
              "      <td>135.152678</td>\n",
              "      <td>135.216330</td>\n",
              "    </tr>\n",
              "    <tr>\n",
              "      <th>min</th>\n",
              "      <td>0.002729</td>\n",
              "      <td>0.016937</td>\n",
              "      <td>0.003584</td>\n",
              "      <td>0.002729</td>\n",
              "      <td>0.002729</td>\n",
              "      <td>0.002729</td>\n",
              "      <td>0.002729</td>\n",
              "      <td>0.002729</td>\n",
              "      <td>0.002729</td>\n",
              "      <td>0.002729</td>\n",
              "      <td>...</td>\n",
              "      <td>0.002729</td>\n",
              "      <td>0.002729</td>\n",
              "      <td>0.002729</td>\n",
              "      <td>0.002729</td>\n",
              "      <td>0.002729</td>\n",
              "      <td>0.002729</td>\n",
              "      <td>0.002729</td>\n",
              "      <td>0.002729</td>\n",
              "      <td>0.002729</td>\n",
              "      <td>0.002729</td>\n",
              "    </tr>\n",
              "    <tr>\n",
              "      <th>25%</th>\n",
              "      <td>0.943562</td>\n",
              "      <td>0.978889</td>\n",
              "      <td>0.968100</td>\n",
              "      <td>0.959427</td>\n",
              "      <td>0.951220</td>\n",
              "      <td>0.936042</td>\n",
              "      <td>0.929176</td>\n",
              "      <td>0.922205</td>\n",
              "      <td>0.915254</td>\n",
              "      <td>0.907603</td>\n",
              "      <td>...</td>\n",
              "      <td>0.836257</td>\n",
              "      <td>0.830411</td>\n",
              "      <td>0.825175</td>\n",
              "      <td>0.819166</td>\n",
              "      <td>0.814196</td>\n",
              "      <td>0.808068</td>\n",
              "      <td>0.803571</td>\n",
              "      <td>0.797774</td>\n",
              "      <td>0.792367</td>\n",
              "      <td>0.788587</td>\n",
              "    </tr>\n",
              "    <tr>\n",
              "      <th>50%</th>\n",
              "      <td>1.000000</td>\n",
              "      <td>1.000000</td>\n",
              "      <td>1.000000</td>\n",
              "      <td>1.000000</td>\n",
              "      <td>1.000000</td>\n",
              "      <td>1.000000</td>\n",
              "      <td>1.000000</td>\n",
              "      <td>1.000000</td>\n",
              "      <td>1.000000</td>\n",
              "      <td>1.000000</td>\n",
              "      <td>...</td>\n",
              "      <td>1.000000</td>\n",
              "      <td>1.000000</td>\n",
              "      <td>1.000000</td>\n",
              "      <td>1.000000</td>\n",
              "      <td>1.000000</td>\n",
              "      <td>1.000000</td>\n",
              "      <td>1.000000</td>\n",
              "      <td>1.000000</td>\n",
              "      <td>1.000000</td>\n",
              "      <td>1.000000</td>\n",
              "    </tr>\n",
              "    <tr>\n",
              "      <th>75%</th>\n",
              "      <td>1.033175</td>\n",
              "      <td>1.014038</td>\n",
              "      <td>1.019559</td>\n",
              "      <td>1.025140</td>\n",
              "      <td>1.028991</td>\n",
              "      <td>1.035955</td>\n",
              "      <td>1.038889</td>\n",
              "      <td>1.042915</td>\n",
              "      <td>1.045505</td>\n",
              "      <td>1.048468</td>\n",
              "      <td>...</td>\n",
              "      <td>1.084211</td>\n",
              "      <td>1.087022</td>\n",
              "      <td>1.091049</td>\n",
              "      <td>1.095737</td>\n",
              "      <td>1.099254</td>\n",
              "      <td>1.102309</td>\n",
              "      <td>1.105622</td>\n",
              "      <td>1.109621</td>\n",
              "      <td>1.113909</td>\n",
              "      <td>1.119048</td>\n",
              "    </tr>\n",
              "    <tr>\n",
              "      <th>max</th>\n",
              "      <td>5089.999911</td>\n",
              "      <td>5064.999817</td>\n",
              "      <td>5079.999682</td>\n",
              "      <td>5079.999682</td>\n",
              "      <td>5084.999797</td>\n",
              "      <td>5089.999911</td>\n",
              "      <td>5099.999662</td>\n",
              "      <td>5099.999662</td>\n",
              "      <td>5104.999777</td>\n",
              "      <td>5104.999777</td>\n",
              "      <td>...</td>\n",
              "      <td>5119.999642</td>\n",
              "      <td>5119.999642</td>\n",
              "      <td>5119.999642</td>\n",
              "      <td>5119.999642</td>\n",
              "      <td>5124.999757</td>\n",
              "      <td>5124.999757</td>\n",
              "      <td>5124.999757</td>\n",
              "      <td>5129.999871</td>\n",
              "      <td>5129.999871</td>\n",
              "      <td>5129.999871</td>\n",
              "    </tr>\n",
              "  </tbody>\n",
              "</table>\n",
              "<p>8 rows × 30 columns</p>\n",
              "</div>\n",
              "    <div class=\"colab-df-buttons\">\n",
              "\n",
              "  <div class=\"colab-df-container\">\n",
              "    <button class=\"colab-df-convert\" onclick=\"convertToInteractive('df-2d01e211-b620-40c9-93c9-4a8c64cb6983')\"\n",
              "            title=\"Convert this dataframe to an interactive table.\"\n",
              "            style=\"display:none;\">\n",
              "\n",
              "  <svg xmlns=\"http://www.w3.org/2000/svg\" height=\"24px\" viewBox=\"0 -960 960 960\">\n",
              "    <path d=\"M120-120v-720h720v720H120Zm60-500h600v-160H180v160Zm220 220h160v-160H400v160Zm0 220h160v-160H400v160ZM180-400h160v-160H180v160Zm440 0h160v-160H620v160ZM180-180h160v-160H180v160Zm440 0h160v-160H620v160Z\"/>\n",
              "  </svg>\n",
              "    </button>\n",
              "\n",
              "  <style>\n",
              "    .colab-df-container {\n",
              "      display:flex;\n",
              "      gap: 12px;\n",
              "    }\n",
              "\n",
              "    .colab-df-convert {\n",
              "      background-color: #E8F0FE;\n",
              "      border: none;\n",
              "      border-radius: 50%;\n",
              "      cursor: pointer;\n",
              "      display: none;\n",
              "      fill: #1967D2;\n",
              "      height: 32px;\n",
              "      padding: 0 0 0 0;\n",
              "      width: 32px;\n",
              "    }\n",
              "\n",
              "    .colab-df-convert:hover {\n",
              "      background-color: #E2EBFA;\n",
              "      box-shadow: 0px 1px 2px rgba(60, 64, 67, 0.3), 0px 1px 3px 1px rgba(60, 64, 67, 0.15);\n",
              "      fill: #174EA6;\n",
              "    }\n",
              "\n",
              "    .colab-df-buttons div {\n",
              "      margin-bottom: 4px;\n",
              "    }\n",
              "\n",
              "    [theme=dark] .colab-df-convert {\n",
              "      background-color: #3B4455;\n",
              "      fill: #D2E3FC;\n",
              "    }\n",
              "\n",
              "    [theme=dark] .colab-df-convert:hover {\n",
              "      background-color: #434B5C;\n",
              "      box-shadow: 0px 1px 3px 1px rgba(0, 0, 0, 0.15);\n",
              "      filter: drop-shadow(0px 1px 2px rgba(0, 0, 0, 0.3));\n",
              "      fill: #FFFFFF;\n",
              "    }\n",
              "  </style>\n",
              "\n",
              "    <script>\n",
              "      const buttonEl =\n",
              "        document.querySelector('#df-2d01e211-b620-40c9-93c9-4a8c64cb6983 button.colab-df-convert');\n",
              "      buttonEl.style.display =\n",
              "        google.colab.kernel.accessAllowed ? 'block' : 'none';\n",
              "\n",
              "      async function convertToInteractive(key) {\n",
              "        const element = document.querySelector('#df-2d01e211-b620-40c9-93c9-4a8c64cb6983');\n",
              "        const dataTable =\n",
              "          await google.colab.kernel.invokeFunction('convertToInteractive',\n",
              "                                                    [key], {});\n",
              "        if (!dataTable) return;\n",
              "\n",
              "        const docLinkHtml = 'Like what you see? Visit the ' +\n",
              "          '<a target=\"_blank\" href=https://colab.research.google.com/notebooks/data_table.ipynb>data table notebook</a>'\n",
              "          + ' to learn more about interactive tables.';\n",
              "        element.innerHTML = '';\n",
              "        dataTable['output_type'] = 'display_data';\n",
              "        await google.colab.output.renderOutput(dataTable, element);\n",
              "        const docLink = document.createElement('div');\n",
              "        docLink.innerHTML = docLinkHtml;\n",
              "        element.appendChild(docLink);\n",
              "      }\n",
              "    </script>\n",
              "  </div>\n",
              "\n",
              "\n",
              "<div id=\"df-3f6d5e87-e542-4d99-828c-79834d4e6f35\">\n",
              "  <button class=\"colab-df-quickchart\" onclick=\"quickchart('df-3f6d5e87-e542-4d99-828c-79834d4e6f35')\"\n",
              "            title=\"Suggest charts\"\n",
              "            style=\"display:none;\">\n",
              "\n",
              "<svg xmlns=\"http://www.w3.org/2000/svg\" height=\"24px\"viewBox=\"0 0 24 24\"\n",
              "     width=\"24px\">\n",
              "    <g>\n",
              "        <path d=\"M19 3H5c-1.1 0-2 .9-2 2v14c0 1.1.9 2 2 2h14c1.1 0 2-.9 2-2V5c0-1.1-.9-2-2-2zM9 17H7v-7h2v7zm4 0h-2V7h2v10zm4 0h-2v-4h2v4z\"/>\n",
              "    </g>\n",
              "</svg>\n",
              "  </button>\n",
              "\n",
              "<style>\n",
              "  .colab-df-quickchart {\n",
              "      --bg-color: #E8F0FE;\n",
              "      --fill-color: #1967D2;\n",
              "      --hover-bg-color: #E2EBFA;\n",
              "      --hover-fill-color: #174EA6;\n",
              "      --disabled-fill-color: #AAA;\n",
              "      --disabled-bg-color: #DDD;\n",
              "  }\n",
              "\n",
              "  [theme=dark] .colab-df-quickchart {\n",
              "      --bg-color: #3B4455;\n",
              "      --fill-color: #D2E3FC;\n",
              "      --hover-bg-color: #434B5C;\n",
              "      --hover-fill-color: #FFFFFF;\n",
              "      --disabled-bg-color: #3B4455;\n",
              "      --disabled-fill-color: #666;\n",
              "  }\n",
              "\n",
              "  .colab-df-quickchart {\n",
              "    background-color: var(--bg-color);\n",
              "    border: none;\n",
              "    border-radius: 50%;\n",
              "    cursor: pointer;\n",
              "    display: none;\n",
              "    fill: var(--fill-color);\n",
              "    height: 32px;\n",
              "    padding: 0;\n",
              "    width: 32px;\n",
              "  }\n",
              "\n",
              "  .colab-df-quickchart:hover {\n",
              "    background-color: var(--hover-bg-color);\n",
              "    box-shadow: 0 1px 2px rgba(60, 64, 67, 0.3), 0 1px 3px 1px rgba(60, 64, 67, 0.15);\n",
              "    fill: var(--button-hover-fill-color);\n",
              "  }\n",
              "\n",
              "  .colab-df-quickchart-complete:disabled,\n",
              "  .colab-df-quickchart-complete:disabled:hover {\n",
              "    background-color: var(--disabled-bg-color);\n",
              "    fill: var(--disabled-fill-color);\n",
              "    box-shadow: none;\n",
              "  }\n",
              "\n",
              "  .colab-df-spinner {\n",
              "    border: 2px solid var(--fill-color);\n",
              "    border-color: transparent;\n",
              "    border-bottom-color: var(--fill-color);\n",
              "    animation:\n",
              "      spin 1s steps(1) infinite;\n",
              "  }\n",
              "\n",
              "  @keyframes spin {\n",
              "    0% {\n",
              "      border-color: transparent;\n",
              "      border-bottom-color: var(--fill-color);\n",
              "      border-left-color: var(--fill-color);\n",
              "    }\n",
              "    20% {\n",
              "      border-color: transparent;\n",
              "      border-left-color: var(--fill-color);\n",
              "      border-top-color: var(--fill-color);\n",
              "    }\n",
              "    30% {\n",
              "      border-color: transparent;\n",
              "      border-left-color: var(--fill-color);\n",
              "      border-top-color: var(--fill-color);\n",
              "      border-right-color: var(--fill-color);\n",
              "    }\n",
              "    40% {\n",
              "      border-color: transparent;\n",
              "      border-right-color: var(--fill-color);\n",
              "      border-top-color: var(--fill-color);\n",
              "    }\n",
              "    60% {\n",
              "      border-color: transparent;\n",
              "      border-right-color: var(--fill-color);\n",
              "    }\n",
              "    80% {\n",
              "      border-color: transparent;\n",
              "      border-right-color: var(--fill-color);\n",
              "      border-bottom-color: var(--fill-color);\n",
              "    }\n",
              "    90% {\n",
              "      border-color: transparent;\n",
              "      border-bottom-color: var(--fill-color);\n",
              "    }\n",
              "  }\n",
              "</style>\n",
              "\n",
              "  <script>\n",
              "    async function quickchart(key) {\n",
              "      const quickchartButtonEl =\n",
              "        document.querySelector('#' + key + ' button');\n",
              "      quickchartButtonEl.disabled = true;  // To prevent multiple clicks.\n",
              "      quickchartButtonEl.classList.add('colab-df-spinner');\n",
              "      try {\n",
              "        const charts = await google.colab.kernel.invokeFunction(\n",
              "            'suggestCharts', [key], {});\n",
              "      } catch (error) {\n",
              "        console.error('Error during call to suggestCharts:', error);\n",
              "      }\n",
              "      quickchartButtonEl.classList.remove('colab-df-spinner');\n",
              "      quickchartButtonEl.classList.add('colab-df-quickchart-complete');\n",
              "    }\n",
              "    (() => {\n",
              "      let quickchartButtonEl =\n",
              "        document.querySelector('#df-3f6d5e87-e542-4d99-828c-79834d4e6f35 button');\n",
              "      quickchartButtonEl.style.display =\n",
              "        google.colab.kernel.accessAllowed ? 'block' : 'none';\n",
              "    })();\n",
              "  </script>\n",
              "</div>\n",
              "\n",
              "    </div>\n",
              "  </div>\n"
            ],
            "application/vnd.google.colaboratory.intrinsic+json": {
              "type": "dataframe"
            }
          },
          "metadata": {},
          "execution_count": 52
        }
      ]
    },
    {
      "cell_type": "code",
      "source": [],
      "metadata": {
        "id": "SlRTjZINISaO"
      },
      "execution_count": 52,
      "outputs": []
    },
    {
      "cell_type": "code",
      "source": [
        "# columns_to_remove = ['Open','High','']\n",
        "# df = df.drop(columns=columns_to_remove)"
      ],
      "metadata": {
        "id": "-YaJ2LgIFZV-"
      },
      "execution_count": 55,
      "outputs": []
    },
    {
      "cell_type": "code",
      "source": [
        "import matplotlib.pyplot as plt\n",
        "\n",
        "# 假设你的DataFrame是df，你想要获取的行的索引是index\n",
        "row_data = df_growth.describe().loc['75%']\n",
        "\n",
        "# 创建图表\n",
        "plt.figure(figsize=(10,6))\n",
        "plt.bar(row_data.index, row_data.values)\n",
        "plt.xlabel('Columns')\n",
        "plt.ylabel('Values')\n",
        "plt.title('Row data from DataFrame')\n",
        "plt.show()\n",
        "\n",
        "# 找出最大值\n",
        "max_value = row_data.max()\n",
        "max_column = row_data.idxmax()\n",
        "print(f'最大值是 {max_value}，在列 {max_column} 中.')\n"
      ],
      "metadata": {
        "id": "NlZMmx72Ha0L",
        "colab": {
          "base_uri": "https://localhost:8080/",
          "height": 581
        },
        "outputId": "78f28229-891e-4846-bba1-08fcb28b91bc"
      },
      "execution_count": 56,
      "outputs": [
        {
          "output_type": "display_data",
          "data": {
            "text/plain": [
              "<Figure size 1000x600 with 1 Axes>"
            ],
            "image/png": "[encoded data removed]"
          },
          "metadata": {}
        },
        {
          "output_type": "stream",
          "name": "stdout",
          "text": [
            "最大值是 1.119047638617361，在列 growth_future_30d 中.\n"
          ]
        }
      ]
    },
    {
      "cell_type": "code",
      "source": [],
      "metadata": {
        "id": "OZu5YaeG4CD4"
      },
      "execution_count": 56,
      "outputs": []
    }
  ]
}